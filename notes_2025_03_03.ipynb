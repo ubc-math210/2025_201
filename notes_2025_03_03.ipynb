{
 "cells": [
  {
   "cell_type": "markdown",
   "id": "52140333-7305-48ab-a673-755645769b5a",
   "metadata": {},
   "source": [
    "# MATH 210 Introduction to Mathematical Computing\n",
    "\n",
    "**March 3, 2025**"
   ]
  },
  {
   "cell_type": "code",
   "execution_count": 5,
   "id": "d56e03c1-4278-4c19-8236-7ebcfd44911d",
   "metadata": {},
   "outputs": [],
   "source": [
    "import numpy as np\n",
    "import matplotlib.pyplot as plt"
   ]
  },
  {
   "cell_type": "markdown",
   "id": "ae9424c2-6d61-4219-b2e9-d697a3fcd7b4",
   "metadata": {},
   "source": [
    "## Numerical Integration\n",
    "\n",
    "Find integer $N$ which guarantees $E_N^T(f) < 0.01$ for the integral\n",
    "\n",
    "$$\n",
    "\\int_0^{\\sqrt{\\pi/2}} \\sin(x^2) dx\n",
    "$$\n",
    "\n",
    "Compute $f''(x) = 2\\cos(x^2) - 4x^2 \\sin(x^2)$. We determine $| f''(x) | \\leq 2 + 2\\pi$."
   ]
  },
  {
   "cell_type": "code",
   "execution_count": 22,
   "id": "7dd6231f-00c3-42a0-aa45-87c497a4b0d9",
   "metadata": {},
   "outputs": [
    {
     "name": "stdout",
     "output_type": "stream",
     "text": [
      "11.657300006157506\n"
     ]
    }
   ],
   "source": [
    "a = 0\n",
    "b = np.sqrt(np.pi/2)\n",
    "K2 = 2 + 2*np.pi\n",
    "eps = 0.01\n",
    "\n",
    "N = np.sqrt((b - a)**3*K2/(12*eps))\n",
    "print(N)"
   ]
  },
  {
   "cell_type": "markdown",
   "id": "b55b84d0-8d30-42ee-8904-48b1f1960c30",
   "metadata": {},
   "source": [
    "We conclude $N \\geq 12$. Compute $T_N(f)$."
   ]
  },
  {
   "cell_type": "code",
   "execution_count": 23,
   "id": "d3ce654e-c9a4-4ac8-90e5-601140397d03",
   "metadata": {},
   "outputs": [
    {
     "name": "stdout",
     "output_type": "stream",
     "text": [
      "0.5492788843316813\n"
     ]
    }
   ],
   "source": [
    "a = 0\n",
    "b = np.sqrt(np.pi/2)\n",
    "N = int(N) + 1\n",
    "dx = (b - a)/N\n",
    "x = np.linspace(a,b,N+1)\n",
    "y = np.sin(x**2)\n",
    "I = np.sum(y[1:] + y[:-1])*dx/2\n",
    "print(I)"
   ]
  },
  {
   "cell_type": "markdown",
   "id": "a7181e0b-99f9-440f-964a-349f13a8b246",
   "metadata": {},
   "source": [
    "We can also plot $f''(x)$ to find the maximum is $2 \\pi$ that occurs at $x = \\sqrt{\\pi /2}$."
   ]
  },
  {
   "cell_type": "code",
   "execution_count": 17,
   "id": "9ddf9b0d-0234-43e5-8e83-9e9da27b65f1",
   "metadata": {},
   "outputs": [
    {
     "data": {
      "image/png": "[encoded data removed]",
      "text/plain": [
       "<Figure size 800x300 with 1 Axes>"
      ]
     },
     "metadata": {},
     "output_type": "display_data"
    }
   ],
   "source": [
    "x = np.linspace(a,b,200)\n",
    "d2f = 2*np.cos(x**2) - 4*x**2*np.sin(x**2)\n",
    "plt.figure(figsize=(8,3))\n",
    "plt.plot(x,d2f)\n",
    "plt.show()"
   ]
  },
  {
   "cell_type": "code",
   "execution_count": 15,
   "id": "d568ea8a-27e1-4316-9189-45289360ff6f",
   "metadata": {},
   "outputs": [
    {
     "name": "stdout",
     "output_type": "stream",
     "text": [
      "10.152879199844646\n"
     ]
    }
   ],
   "source": [
    "a = 0\n",
    "b = np.sqrt(np.pi/2)\n",
    "K2 = 2*np.pi\n",
    "eps = 0.01\n",
    "\n",
    "N = np.sqrt((b - a)**3*K2/(12*eps))\n",
    "print(N)"
   ]
  },
  {
   "cell_type": "markdown",
   "id": "f2759137-2d48-43b3-8ba9-6395e9126860",
   "metadata": {},
   "source": [
    "The exact maximum gives us $N \\geq 11$. Not a big difference!"
   ]
  }
 ],
 "metadata": {
  "kernelspec": {
   "display_name": "Python 3 (ipykernel)",
   "language": "python",
   "name": "python3"
  },
  "language_info": {
   "codemirror_mode": {
    "name": "ipython",
    "version": 3
   },
   "file_extension": ".py",
   "mimetype": "text/x-python",
   "name": "python",
   "nbconvert_exporter": "python",
   "pygments_lexer": "ipython3",
   "version": "3.12.8"
  }
 },
 "nbformat": 4,
 "nbformat_minor": 5
}
