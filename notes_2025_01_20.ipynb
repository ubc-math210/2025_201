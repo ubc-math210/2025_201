{
 "cells": [
  {
   "cell_type": "markdown",
   "id": "3316cdbe-ffda-4fe5-be5d-80f906113b7e",
   "metadata": {},
   "source": [
    "# MATH 210 Introduction to Mathematical Computing\n",
    "\n",
    "**January 20, 2025**\n",
    "\n",
    "* Polynomials\n",
    "* Boolean Values\n",
    "* Comparison Operators\n",
    "* `if` Statements"
   ]
  },
  {
   "cell_type": "markdown",
   "id": "1e8e988e-9424-4522-a34e-8b1c25d9c176",
   "metadata": {},
   "source": [
    "## Polynomials\n",
    "\n",
    "Represent a polynomial\n",
    "\n",
    "$$\n",
    "p(x) = a_0 + a_1 x + \\cdots + a_d x^d\n",
    "$$\n",
    "\n",
    "of degree $d$ ($a_d \\neq 0$) as a list of coefficients `p = [a0,a1,...,ad]` of length $d+1$.\n",
    "\n",
    "Write a function called `poly_eval` which takes `p` (a Python list of numbers `[a0,a1,...,ad]` which represents a polynomial $p(x) = a_0 + a_1 x + \\cdots + a_d x^d$) and number `x`, and returns $p(x)$ the polynomial evaluated as $x$."
   ]
  },
  {
   "cell_type": "code",
   "execution_count": 1,
   "id": "64345de8-7bc6-4b6b-b364-54a771774e61",
   "metadata": {},
   "outputs": [],
   "source": [
    "def poly_eval(p,x):\n",
    "    terms = [p[n]*x**n for n in range(0,len(p))]\n",
    "    px = sum(terms)\n",
    "    return px"
   ]
  },
  {
   "cell_type": "code",
   "execution_count": 2,
   "id": "5585f40e-79fa-4604-ab85-928a872855f0",
   "metadata": {},
   "outputs": [
    {
     "name": "stdout",
     "output_type": "stream",
     "text": [
      "1\n"
     ]
    }
   ],
   "source": [
    "p = [1,-2,0,2] # p(x) = 1 - 2x + 0x^2 + 2x^3\n",
    "x = -1\n",
    "y = poly_eval(p,x)\n",
    "print(y)"
   ]
  },
  {
   "cell_type": "markdown",
   "id": "ff1bb1b1-f1c6-4cc2-9418-9988190bfe4a",
   "metadata": {},
   "source": [
    "What are other polynomial operations?\n",
    "\n",
    "* Differentiate\n",
    "* Integrate over $[a,b]$\n",
    "* Antiderivative\n",
    "* Add\n",
    "* Multiply"
   ]
  },
  {
   "cell_type": "markdown",
   "id": "a84b9798-1d4d-4eb7-9dfb-15401e32fc47",
   "metadata": {},
   "source": [
    "Write a function called `poly_diff` which takes input `p` (Python list `p = [a0,a1,...,ad]` which represents a polynomial $p(x)=a_0+a_1x + \\cdots + a_dx^d$) and returns the list of coefficients of the derivative $p'(x)$."
   ]
  },
  {
   "cell_type": "code",
   "execution_count": 3,
   "id": "0adedd67-37cc-4da9-8c2f-3c410918eafa",
   "metadata": {},
   "outputs": [],
   "source": [
    "def poly_diff(p):\n",
    "    \"Compute list of coefficients of the derivative p'(x).\"\n",
    "    if len(p) > 1:\n",
    "        dpdx = [n*p[n] for n in range(1,len(p))]\n",
    "    else:\n",
    "        dpdx = [0]\n",
    "    return dpdx"
   ]
  },
  {
   "cell_type": "code",
   "execution_count": 4,
   "id": "f939f0c3-d795-4173-8a0c-09fbe4fe52ff",
   "metadata": {},
   "outputs": [
    {
     "data": {
      "text/plain": [
       "[2, 6]"
      ]
     },
     "execution_count": 4,
     "metadata": {},
     "output_type": "execute_result"
    }
   ],
   "source": [
    "poly_diff([1,2,3]) # p(x) = 1 + 2x + 3x^2 => p'(x) = 2 + 6x => [2,6]"
   ]
  },
  {
   "cell_type": "code",
   "execution_count": 5,
   "id": "aa32fb08-13c6-4002-8152-40bfcb512de3",
   "metadata": {},
   "outputs": [
    {
     "data": {
      "text/plain": [
       "[0, 0, 0, 0, -5]"
      ]
     },
     "execution_count": 5,
     "metadata": {},
     "output_type": "execute_result"
    }
   ],
   "source": [
    "poly_diff([1,0,0,0,0,-1]) # [0,0,0,0,-5]"
   ]
  },
  {
   "cell_type": "code",
   "execution_count": 6,
   "id": "6878a22b-ccc2-4937-bcd2-af9d451a02c9",
   "metadata": {},
   "outputs": [
    {
     "data": {
      "text/plain": [
       "[0]"
      ]
     },
     "execution_count": 6,
     "metadata": {},
     "output_type": "execute_result"
    }
   ],
   "source": [
    "poly_diff([1]) # [0]"
   ]
  },
  {
   "cell_type": "markdown",
   "id": "ae47585c-ce87-4cb5-829b-07989170e543",
   "metadata": {},
   "source": [
    "We need an `if` statement to take care of 2 cases: `len(p) > 1` and `len(p) == 1`."
   ]
  },
  {
   "cell_type": "markdown",
   "id": "7571098a-7ac4-4479-912c-fd128d46ed63",
   "metadata": {},
   "source": [
    "## Boolean Values\n",
    "\n",
    "There are 2 boolean values: `True` and `False`."
   ]
  },
  {
   "cell_type": "code",
   "execution_count": 7,
   "id": "cd9c9323-9d61-417e-8336-7f75a5b504e5",
   "metadata": {},
   "outputs": [],
   "source": [
    "math_is_awesome = True"
   ]
  },
  {
   "cell_type": "code",
   "execution_count": 8,
   "id": "b19906f8-14fd-4bc8-9a1d-bad8319824af",
   "metadata": {},
   "outputs": [
    {
     "name": "stdout",
     "output_type": "stream",
     "text": [
      "True\n"
     ]
    }
   ],
   "source": [
    "print(math_is_awesome)"
   ]
  },
  {
   "cell_type": "code",
   "execution_count": 9,
   "id": "e4968c5b-d6b2-4704-a03b-7bfb92ef92bd",
   "metadata": {},
   "outputs": [
    {
     "data": {
      "text/plain": [
       "bool"
      ]
     },
     "execution_count": 9,
     "metadata": {},
     "output_type": "execute_result"
    }
   ],
   "source": [
    "type(math_is_awesome)"
   ]
  },
  {
   "cell_type": "code",
   "execution_count": 10,
   "id": "2c319c49-7efb-4223-a379-cd0df56b7443",
   "metadata": {},
   "outputs": [],
   "source": [
    "math_is_scary = False"
   ]
  },
  {
   "cell_type": "code",
   "execution_count": 11,
   "id": "84442f06-0917-4345-9691-3191b847fa1e",
   "metadata": {},
   "outputs": [
    {
     "name": "stdout",
     "output_type": "stream",
     "text": [
      "False\n"
     ]
    }
   ],
   "source": [
    "print(math_is_scary)"
   ]
  },
  {
   "cell_type": "markdown",
   "id": "0aa8ebc2-080f-4224-895a-e1cac4df2ed8",
   "metadata": {},
   "source": [
    "## Comparison Operators"
   ]
  },
  {
   "cell_type": "code",
   "execution_count": 12,
   "id": "fac9eac1-afc8-4fc9-a4ed-2f4e0478bce4",
   "metadata": {},
   "outputs": [
    {
     "data": {
      "text/plain": [
       "True"
      ]
     },
     "execution_count": 12,
     "metadata": {},
     "output_type": "execute_result"
    }
   ],
   "source": [
    "1 < 2"
   ]
  },
  {
   "cell_type": "code",
   "execution_count": 13,
   "id": "85ba30ab-35b7-4f5e-8839-5c63024b2d15",
   "metadata": {},
   "outputs": [
    {
     "data": {
      "text/plain": [
       "False"
      ]
     },
     "execution_count": 13,
     "metadata": {},
     "output_type": "execute_result"
    }
   ],
   "source": [
    "3 >= 3.141459"
   ]
  },
  {
   "cell_type": "code",
   "execution_count": 14,
   "id": "ea518797-b61d-4745-9619-7c3d6091dc06",
   "metadata": {},
   "outputs": [
    {
     "data": {
      "text/plain": [
       "True"
      ]
     },
     "execution_count": 14,
     "metadata": {},
     "output_type": "execute_result"
    }
   ],
   "source": [
    "2 == (1 + 1)"
   ]
  },
  {
   "cell_type": "markdown",
   "id": "4f966c40-8e8a-4437-a0d0-c584cac935b9",
   "metadata": {},
   "source": [
    "Only use `==` equality comparison operator for integers. Don't use `==` to compare floats. Because we always have rounding errors and so we can't expect floating point numbers to be exactly equal."
   ]
  },
  {
   "cell_type": "code",
   "execution_count": 15,
   "id": "9edef78f-756e-46c3-807a-3fb155a73256",
   "metadata": {},
   "outputs": [
    {
     "data": {
      "text/plain": [
       "False"
      ]
     },
     "execution_count": 15,
     "metadata": {},
     "output_type": "execute_result"
    }
   ],
   "source": [
    "(0.1 + 0.2) == 0.3"
   ]
  },
  {
   "cell_type": "code",
   "execution_count": 16,
   "id": "07a906b7-604a-4d95-87ca-43e1171b45a4",
   "metadata": {},
   "outputs": [
    {
     "data": {
      "text/plain": [
       "0.30000000000000004"
      ]
     },
     "execution_count": 16,
     "metadata": {},
     "output_type": "execute_result"
    }
   ],
   "source": [
    "0.1 + 0.2"
   ]
  },
  {
   "cell_type": "markdown",
   "id": "a0c6f6cd-98b2-4d36-b9db-dc96cef28783",
   "metadata": {},
   "source": [
    "General rule: floats are approximations of real numbers and so don't use the exact equal `==` comparison for floats."
   ]
  },
  {
   "cell_type": "markdown",
   "id": "ca8c604f-1db4-49a3-bd28-1f99ebb0a099",
   "metadata": {},
   "source": [
    "Instead, we compare floats using an absolute or relative tolerance. For example, an absolute tolerance is\n",
    "\n",
    "$$\n",
    "| x - y| < \\epsilon\n",
    "$$\n",
    "\n",
    "For example, a relative tolerance is\n",
    "\n",
    "$$\n",
    "\\frac{| x - y |}{x} < \\epsilon\n",
    "$$"
   ]
  },
  {
   "cell_type": "code",
   "execution_count": 17,
   "id": "bb94b572-0e45-4a5f-a32d-fa7e446a3a0c",
   "metadata": {},
   "outputs": [
    {
     "data": {
      "text/plain": [
       "True"
      ]
     },
     "execution_count": 17,
     "metadata": {},
     "output_type": "execute_result"
    }
   ],
   "source": [
    "abs((0.1 + 0.2) - 0.3) < 1e-12"
   ]
  },
  {
   "cell_type": "markdown",
   "id": "b9c134e1-3ccf-4acf-8cfc-bcfff45c42e6",
   "metadata": {},
   "source": [
    "## Boolean Operators\n",
    "\n",
    "Combine boolean values or combine comparison operators with boolean operators: `and`, `or` and `not`."
   ]
  },
  {
   "cell_type": "code",
   "execution_count": 18,
   "id": "247b2537-2b73-4db2-8128-a9c5ee5368f4",
   "metadata": {},
   "outputs": [
    {
     "data": {
      "text/plain": [
       "True"
      ]
     },
     "execution_count": 18,
     "metadata": {},
     "output_type": "execute_result"
    }
   ],
   "source": [
    "(1 < 2) and (100 > 99)"
   ]
  },
  {
   "cell_type": "code",
   "execution_count": 19,
   "id": "88bb2bae-a8d0-4268-9a74-96d4fd29141d",
   "metadata": {},
   "outputs": [
    {
     "data": {
      "text/plain": [
       "False"
      ]
     },
     "execution_count": 19,
     "metadata": {},
     "output_type": "execute_result"
    }
   ],
   "source": [
    "(1 < 2) and (100 < 99)"
   ]
  },
  {
   "cell_type": "code",
   "execution_count": 20,
   "id": "6ec4af0a-30f1-4b8c-9061-c83fd0167a85",
   "metadata": {},
   "outputs": [
    {
     "data": {
      "text/plain": [
       "True"
      ]
     },
     "execution_count": 20,
     "metadata": {},
     "output_type": "execute_result"
    }
   ],
   "source": [
    "(1 < 2) or (100 < 99)"
   ]
  },
  {
   "cell_type": "markdown",
   "id": "ce251b5b-1866-417a-bca7-f8135726caa4",
   "metadata": {},
   "source": [
    "## `if` Statements\n",
    "\n",
    "`if` statements allow us to write programs that execute different code depending on the input. The syntax is:\n",
    "\n",
    "```\n",
    "if boolean_value1:\n",
    "    Python code block 1\n",
    "elif boolean_value2:\n",
    "    Python code block 2\n",
    "else:\n",
    "    Python code block 3\n",
    "```\n",
    "\n",
    "where:\n",
    "\n",
    "* `if` starts the statement (`elif` and `else` are optional)\n",
    "* all `if`, `elif` and `else` lines end with `:`\n",
    "* `boolean_value1` is `True` or `False`\n",
    "* excute code block 1 only if `boolean_value1` is `True`\n",
    "* excute code block 2 only if `boolean_value2` is `True`\n",
    "* excute code block 3 only if all boolean values are `False` in `if` and `elif` statements above"
   ]
  },
  {
   "cell_type": "markdown",
   "id": "7f39758d-2694-4f27-8438-b087db232b57",
   "metadata": {},
   "source": [
    "For example, write an `if` statement involving variables `a`, `b` and `c`. The block prints `real distinct`, `complex` or `real repeated` depending if the roots of $p(x) = ax^2 + bx + c$ are real and distinct, complex or real and repeated."
   ]
  },
  {
   "cell_type": "code",
   "execution_count": 24,
   "id": "9ce651c1-a91d-4cc7-8740-321f27279468",
   "metadata": {},
   "outputs": [
    {
     "name": "stdout",
     "output_type": "stream",
     "text": [
      "Roots are real and distinct.\n"
     ]
    }
   ],
   "source": [
    "a = 1\n",
    "b = -2\n",
    "c = -2\n",
    "\n",
    "D = b**2 - 4*a*c\n",
    "\n",
    "if D > 0:\n",
    "    print('Roots are real and distinct.')\n",
    "elif D < 0:\n",
    "    print('Roots are complex.')\n",
    "else:\n",
    "    print('Roots are real and repeated.')"
   ]
  }
 ],
 "metadata": {
  "kernelspec": {
   "display_name": "Python 3 (ipykernel)",
   "language": "python",
   "name": "python3"
  },
  "language_info": {
   "codemirror_mode": {
    "name": "ipython",
    "version": 3
   },
   "file_extension": ".py",
   "mimetype": "text/x-python",
   "name": "python",
   "nbconvert_exporter": "python",
   "pygments_lexer": "ipython3",
   "version": "3.12.8"
  }
 },
 "nbformat": 4,
 "nbformat_minor": 5
}
