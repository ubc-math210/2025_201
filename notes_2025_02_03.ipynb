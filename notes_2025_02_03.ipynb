{
 "cells": [
  {
   "cell_type": "markdown",
   "id": "f6640357-06a1-4f08-a0e0-f0abaf000b10",
   "metadata": {},
   "source": [
    "# MATH 210 Introduction to Mathematical Computing\n",
    "\n",
    "**February 3, 2025**\n",
    "\n",
    "* Root Finding\n",
    "* Intermediate Value Theorem\n",
    "* Bisection Method\n",
    "* Examples"
   ]
  },
  {
   "cell_type": "markdown",
   "id": "82f5aa00-e4c7-4cac-b42c-6d3e005e5c61",
   "metadata": {},
   "source": [
    "## Root Finding\n",
    "\n",
    "A **root** of a function $f(x)$ is a value $r$ such that $f(r) = 0$. Root finding refers to the process of approximating solutions of equations of the form $f(x) = 0$. It is usually impossible to solve an equation $f(x)= 0$ using algebra. But we can always approximate (and estimate the error)."
   ]
  },
  {
   "cell_type": "markdown",
   "id": "d84debff-b90b-4bd3-8b58-45a41c6ee789",
   "metadata": {},
   "source": [
    "## Intermediate Value Theorem\n",
    "\n",
    "Let $f(x)$ be a continuous function on $[a,b]$. If $f(a) f(b) < 0$ then there exists a root $r$ of $f(x)$ in $(a,b)$."
   ]
  },
  {
   "cell_type": "markdown",
   "id": "211137ac-bbf8-49fe-be8e-0eeb40f83507",
   "metadata": {},
   "source": [
    "## Bisection Method"
   ]
  },
  {
   "cell_type": "code",
   "execution_count": 1,
   "id": "d9f9fea7-4ba9-42ec-a422-a9fb209f65b9",
   "metadata": {},
   "outputs": [],
   "source": [
    "def bisection(f,a,b,N):\n",
    "    if f(a)*f(b) >= 0:\n",
    "        print(\"Bisection method fails.\")\n",
    "        return None\n",
    "    a_n = a\n",
    "    b_n = b\n",
    "    for n in range(1,N+1):\n",
    "        m_n = (a_n + b_n)/2\n",
    "        f_m_n = f(m_n)\n",
    "        if f(a_n)*f_m_n < 0:\n",
    "            a_n = a_n\n",
    "            b_n = m_n\n",
    "        elif f(b_n)*f_m_n < 0:\n",
    "            a_n = m_n\n",
    "            b_n = b_n\n",
    "        elif f_m_n == 0:\n",
    "            print(\"Found exact solution.\")\n",
    "            return m_n\n",
    "        else:\n",
    "            print(\"Bisection method fails.\")\n",
    "            return None\n",
    "    return (a_n + b_n)/2"
   ]
  },
  {
   "cell_type": "markdown",
   "id": "3f4ad90b-5fdc-4fad-9e18-852b0419546e",
   "metadata": {},
   "source": [
    "**Example.** Use the bisection method to find the unique solution of $x^5 - x -1 = 0$.\n",
    "\n",
    "From last time, we know that there is a unique solution in the interval $[1,2]$."
   ]
  },
  {
   "cell_type": "code",
   "execution_count": 2,
   "id": "47730846-fe32-46b8-864e-1fe201c76ddd",
   "metadata": {},
   "outputs": [
    {
     "name": "stdout",
     "output_type": "stream",
     "text": [
      "1.1673035621643066\n"
     ]
    }
   ],
   "source": [
    "f = lambda x: x**5 - x - 1\n",
    "a = 1\n",
    "b = 2\n",
    "N = 20\n",
    "r = bisection(f,a,b,N)\n",
    "print(r)"
   ]
  },
  {
   "cell_type": "code",
   "execution_count": 3,
   "id": "444c0f65-bfc4-47bb-a0ea-a38b7646ac8d",
   "metadata": {},
   "outputs": [
    {
     "data": {
      "text/plain": [
       "-3.4466854201831154e-06"
      ]
     },
     "execution_count": 3,
     "metadata": {},
     "output_type": "execute_result"
    }
   ],
   "source": [
    "f(r)"
   ]
  },
  {
   "cell_type": "markdown",
   "id": "f87c70a5-5b35-4ef6-b7e7-38127273e258",
   "metadata": {},
   "source": [
    "What $N$ guarantess the absolute error is less than 0.001?"
   ]
  },
  {
   "cell_type": "code",
   "execution_count": 4,
   "id": "e44eb4b8-f2fa-4d91-9afd-bbb70b005f51",
   "metadata": {},
   "outputs": [
    {
     "data": {
      "text/plain": [
       "0.0009765625"
      ]
     },
     "execution_count": 4,
     "metadata": {},
     "output_type": "execute_result"
    }
   ],
   "source": [
    "N = 9\n",
    "(b - a)/2**(N+1)"
   ]
  },
  {
   "cell_type": "markdown",
   "id": "1c1817d9-60c8-4352-b952-5998eb106371",
   "metadata": {},
   "source": [
    "## Examples\n",
    "\n",
    "Find all fixed points of $f(x) = \\sqrt{1 + x} + \\sqrt{x}$.\n",
    "\n",
    "Use fixed point iteration first. Let $g(x) = \\sqrt{1 + x} + \\sqrt{x} - x$. Compute $g(4)$ and $g(5)$."
   ]
  },
  {
   "cell_type": "code",
   "execution_count": 5,
   "id": "6277b174-c819-4697-a077-c2ed0a3cfb7e",
   "metadata": {},
   "outputs": [],
   "source": [
    "f = lambda x: (1 + x)**0.5 + x**0.5"
   ]
  },
  {
   "cell_type": "code",
   "execution_count": 6,
   "id": "145887ed-1ca4-4dbc-8f37-3002dfd4051d",
   "metadata": {},
   "outputs": [],
   "source": [
    "g = lambda x: f(x) - x"
   ]
  },
  {
   "cell_type": "code",
   "execution_count": 7,
   "id": "8b027a09-a444-4e00-8bae-df59f162679d",
   "metadata": {},
   "outputs": [
    {
     "data": {
      "text/plain": [
       "0.2360679774997898"
      ]
     },
     "execution_count": 7,
     "metadata": {},
     "output_type": "execute_result"
    }
   ],
   "source": [
    "g(4)"
   ]
  },
  {
   "cell_type": "code",
   "execution_count": 8,
   "id": "5981e945-438f-490c-a0d7-85476c36c4d4",
   "metadata": {},
   "outputs": [
    {
     "data": {
      "text/plain": [
       "-0.3144422797170323"
      ]
     },
     "execution_count": 8,
     "metadata": {},
     "output_type": "execute_result"
    }
   ],
   "source": [
    "g(5)"
   ]
  },
  {
   "cell_type": "markdown",
   "id": "66c45c44-7b8b-469e-82ce-6d8438fe305d",
   "metadata": {},
   "source": [
    "There is a fixed point of $f(x)$ in $[4,5]$.\n",
    "\n",
    "**Exercise.** Does fixed point iteration applied to $f(x)$ converge? Yes. Prove it!"
   ]
  },
  {
   "cell_type": "code",
   "execution_count": 14,
   "id": "cae296f7-8aa2-4390-b231-cc1e5bd6d3ae",
   "metadata": {},
   "outputs": [
    {
     "name": "stdout",
     "output_type": "stream",
     "text": [
      "4.466528223471357\n",
      "4.451477027398454\n",
      "4.444692200063418\n",
      "4.441630289583614\n",
      "4.440247787868243\n",
      "4.4396234236286\n",
      "4.439341419704666\n",
      "4.439214042265666\n",
      "4.439156506352143\n",
      "4.439130517347843\n"
     ]
    }
   ],
   "source": [
    "xn = 4.5\n",
    "for n in range(10):\n",
    "    xn = f(xn)\n",
    "    print(xn)"
   ]
  },
  {
   "cell_type": "markdown",
   "id": "6d3d37be-a155-4029-b081-43230ac815f6",
   "metadata": {},
   "source": [
    "Can we estimate the error? Yes. Use trial and error with Intermedeiate Value Theorem"
   ]
  },
  {
   "cell_type": "code",
   "execution_count": 15,
   "id": "c4634481-f5a0-4dab-9813-b10ec361ae87",
   "metadata": {},
   "outputs": [],
   "source": [
    "eps = 0.0001"
   ]
  },
  {
   "cell_type": "code",
   "execution_count": 16,
   "id": "e7a8e719-d405-44f5-9963-fba75d53a8dd",
   "metadata": {},
   "outputs": [
    {
     "data": {
      "text/plain": [
       "-1.1739298171775658e-05"
      ]
     },
     "execution_count": 16,
     "metadata": {},
     "output_type": "execute_result"
    }
   ],
   "source": [
    "g(xn)"
   ]
  },
  {
   "cell_type": "code",
   "execution_count": 17,
   "id": "0e32d6c8-83f8-458f-9120-724086bf47b0",
   "metadata": {},
   "outputs": [
    {
     "data": {
      "text/plain": [
       "-6.656922018244416e-05"
      ]
     },
     "execution_count": 17,
     "metadata": {},
     "output_type": "execute_result"
    }
   ],
   "source": [
    "g(xn + eps)"
   ]
  },
  {
   "cell_type": "code",
   "execution_count": 18,
   "id": "c231ca5e-8fbe-4999-91da-a51184bec946",
   "metadata": {},
   "outputs": [
    {
     "data": {
      "text/plain": [
       "4.3090159461911526e-05"
      ]
     },
     "execution_count": 18,
     "metadata": {},
     "output_type": "execute_result"
    }
   ],
   "source": [
    "g(xn - eps)"
   ]
  },
  {
   "cell_type": "markdown",
   "id": "1063ccf3-0a08-4a4f-9b8b-52c4f4470933",
   "metadata": {},
   "source": [
    "Error is less than $\\epsilon = 0.0001$"
   ]
  },
  {
   "cell_type": "markdown",
   "id": "2aaed876-76e7-48c4-9395-ee1eda12495e",
   "metadata": {},
   "source": [
    "Let's do it again with bisection method and find $N$ to guarantee the absolute error is less than 0.0001."
   ]
  },
  {
   "cell_type": "code",
   "execution_count": 21,
   "id": "6917e9b2-6e69-4b7d-8b8b-55f1f3223ffa",
   "metadata": {},
   "outputs": [
    {
     "name": "stdout",
     "output_type": "stream",
     "text": [
      "4.43914794921875 +- 6.103515625e-05\n"
     ]
    }
   ],
   "source": [
    "a = 4\n",
    "b = 5\n",
    "N = 13\n",
    "root = bisection(g,a,b,N)\n",
    "error_bound = (b - a)/2**(N + 1)\n",
    "print(root,\"+-\",error_bound)"
   ]
  }
 ],
 "metadata": {
  "kernelspec": {
   "display_name": "Python 3 (ipykernel)",
   "language": "python",
   "name": "python3"
  },
  "language_info": {
   "codemirror_mode": {
    "name": "ipython",
    "version": 3
   },
   "file_extension": ".py",
   "mimetype": "text/x-python",
   "name": "python",
   "nbconvert_exporter": "python",
   "pygments_lexer": "ipython3",
   "version": "3.12.8"
  }
 },
 "nbformat": 4,
 "nbformat_minor": 5
}
