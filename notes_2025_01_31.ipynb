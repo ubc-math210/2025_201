{
 "cells": [
  {
   "cell_type": "markdown",
   "id": "bb6b58df-f21d-418d-9010-533c6f000d6a",
   "metadata": {},
   "source": [
    "# MATH 210 Introduction to Mathematical Computing\n",
    "\n",
    "**January 31, 2025**"
   ]
  },
  {
   "cell_type": "markdown",
   "id": "71d7485f-f084-4204-a4fb-fc76c13630a0",
   "metadata": {},
   "source": [
    "## Fixed Point Iteration\n",
    "\n",
    "Use fixed point iteration to find the unique solution of $x^5 - x - 1 = 0$.\n",
    "\n",
    "Choose $f(x) = (1 + x)^{1/5}$ and $x_0 = 1.5$."
   ]
  },
  {
   "cell_type": "code",
   "execution_count": 2,
   "id": "cd77d2a9-05c6-426e-b4d1-5f33d166544c",
   "metadata": {},
   "outputs": [
    {
     "name": "stdout",
     "output_type": "stream",
     "text": [
      "1.2011244339814313\n",
      "1.1709245696708135\n",
      "1.1676937260315057\n",
      "1.1673459586577775\n",
      "1.1673085003316492\n",
      "1.1673044653759368\n",
      "1.1673040307331226\n",
      "1.1673039839136419\n",
      "1.167303978870273\n",
      "1.1673039783270043\n"
     ]
    }
   ],
   "source": [
    "xn = 1.5\n",
    "steps = 10\n",
    "f = lambda x: (1 + x)**(1/5)\n",
    "\n",
    "for n in range(steps):\n",
    "    xn = f(xn)\n",
    "    print(xn)"
   ]
  }
 ],
 "metadata": {
  "kernelspec": {
   "display_name": "Python 3 (ipykernel)",
   "language": "python",
   "name": "python3"
  },
  "language_info": {
   "codemirror_mode": {
    "name": "ipython",
    "version": 3
   },
   "file_extension": ".py",
   "mimetype": "text/x-python",
   "name": "python",
   "nbconvert_exporter": "python",
   "pygments_lexer": "ipython3",
   "version": "3.12.8"
  }
 },
 "nbformat": 4,
 "nbformat_minor": 5
}
