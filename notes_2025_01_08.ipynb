{
 "cells": [
  {
   "cell_type": "markdown",
   "id": "3c172259-88a0-4299-914c-b58af1572ebc",
   "metadata": {},
   "source": [
    "# MATH 210 Introduction to Mathematical Computing\n",
    "\n",
    "**January 8, 2025**\n",
    "\n",
    "* Markdown: Tables, Links and Images\n",
    "* LaTeX and Math Symbols "
   ]
  },
  {
   "cell_type": "markdown",
   "id": "4eb06e0e-a3ce-4714-a42a-16422b8339ca",
   "metadata": {},
   "source": [
    "## Markdown\n",
    "\n",
    "Create tables using the pipe character `|`.\n",
    "\n",
    "| Course Code | Title |\n",
    "| :---: | --- |\n",
    "| MATH 210 | Introduction to Mathematical Computing |\n",
    "| MATH 307 | Applied Linear Algebra |\n",
    "| MATH 345 | Applied Nonlinear Dynamics and Chaos |\n",
    "\n",
    "Create links with syntax `[text](url)`. For example, [UBC Math Department](https://www.math.ubc.ca).\n",
    "\n",
    "Include images with syntax `![alt text](url)`. For example:\n",
    "\n",
    "![Cute kitten staring right at you](https://diamondpet.storage.googleapis.com/wp-content/uploads/2021/03/22094728/kitten-sitting-on-floor-031621.jpg)\n",
    "\n",
    "<img src=\"https://diamondpet.storage.googleapis.com/wp-content/uploads/2021/03/22094728/kitten-sitting-on-floor-031621.jpg\" style=\"width: 100px\">\n",
    "\n",
    "![cute kittens](kittens.png)"
   ]
  },
  {
   "cell_type": "markdown",
   "id": "3b0bc352-cd3a-4b08-8cfc-2ef007f2fa9d",
   "metadata": {},
   "source": [
    "## LaTeX\n",
    "\n",
    "Write LaTeX code in dollar signs `$ ... $` to render math notation inline. For example, define a polynomial $p(x) = ax^2 + bx + c$.\n",
    "\n",
    "Use double dollar signs `$$ ... $$` to write math notation in its own paragraph. For example, the derivative of $f(x)$ at $x=a$ is the limit\n",
    "\n",
    "$$\n",
    "f'(a) = \\lim_{x \\to a} \\frac{f(x) - f(a)}{x - a}\n",
    "$$\n",
    "\n",
    "See the [LaTeX Wikibook](https://en.wikibooks.org/wiki/LaTeX/Mathematics) for more info.\n",
    "\n",
    "Common symbols include greek letters:\n",
    "\n",
    "$$\n",
    "\\alpha,\\beta,\\gamma,\\delta,\\epsilon,\\phi,\\theta,\\chi,\\xi,\\zeta,\\dots\n",
    "$$\n",
    "\n",
    "and uppercase letters:\n",
    "\n",
    "$$\n",
    "\\Gamma, \\Phi, \\Delta, \\Xi , \\Theta,\\dots\n",
    "$$\n",
    "\n",
    "We have superscripts $x^2$ and subscripts $x_n$. Infinity is $\\infty$. Fractions are $\\frac{a}{b}$.\n",
    "\n",
    "Use `\\sum` for summation notation:\n",
    "\n",
    "$$\n",
    "\\sum_{n=0}^N x^n = \\frac{1 - x^{N+1}}{1 - x}\n",
    "$$\n",
    "\n",
    "Use `\\int` for integral:\n",
    "\n",
    "$$\n",
    "\\int_a^b f(x) dx = F(b) - F(a)\n",
    "$$\n",
    "\n",
    "$$\n",
    "\\text{A} \\Rightarrow \\text{B}\n",
    "$$"
   ]
  },
  {
   "cell_type": "markdown",
   "id": "f77a650c-5586-4c61-843f-d0cad633f90e",
   "metadata": {},
   "source": [
    "Let's do an example. See Table of Series, Integrals and Products, page 432.\n",
    "\n",
    "![formula](formula.png)"
   ]
  },
  {
   "cell_type": "markdown",
   "id": "4cfce7ee-6ac8-4157-92ca-a9532446aafb",
   "metadata": {},
   "source": [
    "$$\n",
    "\\int_0^{\\infty} \\frac{\\sin(ax) \\sin(bx)}{\\beta^2 + x^2} dx\n",
    "=\n",
    "\\frac{\\pi}{4 \\beta} \\left( e^{-|a-b|\\beta} - e^{-(a+b)\\beta} \\right)\n",
    "$$\n",
    "\n",
    "$$\n",
    "= \\frac{\\pi}{2 \\beta} e^{-a \\beta} \\sinh b \\beta\n",
    "$$"
   ]
  },
  {
   "cell_type": "markdown",
   "id": "cf47e173-573c-4de7-85bb-0274ca7177d3",
   "metadata": {},
   "source": [
    "$$\n",
    "\\begin{align*}\n",
    "\\int_0^{\\infty} \\frac{\\sin(ax) \\sin(bx)}{\\beta^2 + x^2} dx\n",
    "& = \\frac{\\pi}{4 \\beta} \\left( e^{-|a-b|\\beta} - e^{-(a+b)\\beta} \\right) \\\\\n",
    "& = \\frac{\\pi}{2 \\beta} e^{-a \\beta} \\sinh b \\beta \\\\\n",
    "& = \\frac{\\pi}{2 \\beta} e^{-b \\beta} \\sinh a \\beta \\\\\n",
    "\\end{align*}\n",
    "$$"
   ]
  }
 ],
 "metadata": {
  "kernelspec": {
   "display_name": "Python 3 (ipykernel)",
   "language": "python",
   "name": "python3"
  },
  "language_info": {
   "codemirror_mode": {
    "name": "ipython",
    "version": 3
   },
   "file_extension": ".py",
   "mimetype": "text/x-python",
   "name": "python",
   "nbconvert_exporter": "python",
   "pygments_lexer": "ipython3",
   "version": "3.12.8"
  }
 },
 "nbformat": 4,
 "nbformat_minor": 5
}
