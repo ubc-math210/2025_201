{
 "cells": [
  {
   "cell_type": "markdown",
   "id": "2320ab36-f463-43f2-b85f-d8f387219c2b",
   "metadata": {},
   "source": [
    "# MATH 210 Introduction to Mathematical Computing\n",
    "\n",
    "**February 5, 2025**\n",
    "\n",
    "* Secant Method\n",
    "* Newton's Method"
   ]
  },
  {
   "cell_type": "markdown",
   "id": "65aacfe7-9371-4b31-8fe3-5e4385d9016f",
   "metadata": {},
   "source": [
    "## Secant Method\n",
    "\n",
    "Write a function called `secant` which takes `f`, `a`, `b` and `N`, and returns the x-intecept of the $N$th interval after $N$ iterations of the secant method."
   ]
  },
  {
   "cell_type": "code",
   "execution_count": 17,
   "id": "f353f007-918e-491c-ad93-39f2aaf9154b",
   "metadata": {},
   "outputs": [],
   "source": [
    "def secant(f,a,b,N):\n",
    "    a_n = a\n",
    "    b_n = b\n",
    "    for n in range(1,N+1):\n",
    "        f_a_n = f(a_n)\n",
    "        f_b_n = f(b_n)\n",
    "        m_n = a_n - f_a_n*(b_n - a_n)/(f_b_n - f_a_n)\n",
    "        f_m_n = f(m_n)\n",
    "        if f_a_n*f_m_n < 0:\n",
    "            b_n = m_n\n",
    "        elif f_b_n*f_m_n < 0:\n",
    "            a_n = m_n\n",
    "        elif f_m_n == 0:\n",
    "            print(\"Found exact solution.\")\n",
    "            return m_n\n",
    "        else:\n",
    "            print(\"Secant method fails.\")\n",
    "            return None\n",
    "    mN = a_n - f(a_n)*(b_n - a_n)/(f(b_n) - f(a_n))\n",
    "    return mN"
   ]
  },
  {
   "cell_type": "code",
   "execution_count": 18,
   "id": "1170991c-17dd-4e55-b23e-9e946d77db65",
   "metadata": {},
   "outputs": [
    {
     "data": {
      "text/plain": [
       "1.5596005665485004"
      ]
     },
     "execution_count": 18,
     "metadata": {},
     "output_type": "execute_result"
    }
   ],
   "source": [
    "f = lambda x: x**x - 2\n",
    "a = 1\n",
    "b = 2\n",
    "N = 10\n",
    "secant(f,a,b,N)"
   ]
  },
  {
   "cell_type": "markdown",
   "id": "a115977d-ac9a-4aa0-bebc-79af7316ee10",
   "metadata": {},
   "source": [
    "Let's apply bisection and secant method to a function $f(x)$ where we know an exact root and compare convergence."
   ]
  },
  {
   "cell_type": "code",
   "execution_count": 19,
   "id": "d165bcd1-da44-46e5-b8a3-7700df9e9d43",
   "metadata": {},
   "outputs": [],
   "source": [
    "def bisection(f,a,b,N):\n",
    "    a_n = a\n",
    "    b_n = b\n",
    "    for n in range(1,N+1):\n",
    "        m_n = (a_n + b_n)/2\n",
    "        f_m_n = f(m_n)\n",
    "        if f(a_n)*f_m_n < 0:\n",
    "            b_n = m_n\n",
    "        elif f(b_n)*f_m_n < 0:\n",
    "            a_n = m_n\n",
    "        elif f_m_n == 0:\n",
    "            print(\"Found exact solution.\")\n",
    "            return m_n\n",
    "        else:\n",
    "            print(\"Bisection method fails.\")\n",
    "            return None\n",
    "    return (a_n + b_n)/2"
   ]
  },
  {
   "cell_type": "code",
   "execution_count": 22,
   "id": "f62bb300-28fe-43ee-8845-fc2f056dbaf8",
   "metadata": {},
   "outputs": [
    {
     "name": "stdout",
     "output_type": "stream",
     "text": [
      "Bisection error =  0.0076614376269048545\n",
      "   Secant error =  1.2378941142365818e-05\n"
     ]
    }
   ],
   "source": [
    "f = lambda x: x**2 - 2\n",
    "a = 1\n",
    "b = 2\n",
    "N = 5\n",
    "r = 2**0.5\n",
    "s = secant(f,a,b,N)\n",
    "b = bisection(f,a,b,N)\n",
    "print('Bisection error = ', abs(b - r))\n",
    "print('   Secant error = ', abs(s - r))"
   ]
  },
  {
   "cell_type": "code",
   "execution_count": 23,
   "id": "a9ae4741-ebe7-496f-82e2-0484fa439fa0",
   "metadata": {},
   "outputs": [
    {
     "name": "stdout",
     "output_type": "stream",
     "text": [
      "Bisection error =  0.012735469462369364\n",
      "   Secant error =  0.0015513956755270897\n"
     ]
    }
   ],
   "source": [
    "f = lambda x: x**x - 2\n",
    "a = 1\n",
    "b = 2\n",
    "N = 5\n",
    "r = 1.5596104694623694\n",
    "s = secant(f,a,b,N)\n",
    "b = bisection(f,a,b,N)\n",
    "print('Bisection error = ', abs(b - r))\n",
    "print('   Secant error = ', abs(s - r))"
   ]
  },
  {
   "cell_type": "markdown",
   "id": "0eb2dcfb-e1cd-4c23-90e9-486259ed7a9f",
   "metadata": {},
   "source": [
    "## Newton's Method"
   ]
  },
  {
   "cell_type": "code",
   "execution_count": 24,
   "id": "daf697a8-ecaa-4148-9acf-12e8d160aeb0",
   "metadata": {},
   "outputs": [
    {
     "name": "stdout",
     "output_type": "stream",
     "text": [
      "1.6329113924050633\n",
      "1.3730855138655862\n",
      "1.2235784352087191\n",
      "1.1727319829379954\n",
      "1.1673599072793783\n",
      "1.1673039842671697\n",
      "1.1673039782614187\n",
      "1.1673039782614187\n",
      "1.1673039782614187\n",
      "1.1673039782614187\n"
     ]
    }
   ],
   "source": [
    "f = lambda x: x**5 - x - 1\n",
    "df = lambda x: 5*x**4 - 1\n",
    "\n",
    "xn = 2\n",
    "N = 10\n",
    "for n in range(N):\n",
    "    xn = xn - f(xn)/df(xn)\n",
    "    print(xn)"
   ]
  }
 ],
 "metadata": {
  "kernelspec": {
   "display_name": "Python 3 (ipykernel)",
   "language": "python",
   "name": "python3"
  },
  "language_info": {
   "codemirror_mode": {
    "name": "ipython",
    "version": 3
   },
   "file_extension": ".py",
   "mimetype": "text/x-python",
   "name": "python",
   "nbconvert_exporter": "python",
   "pygments_lexer": "ipython3",
   "version": "3.12.8"
  }
 },
 "nbformat": 4,
 "nbformat_minor": 5
}
