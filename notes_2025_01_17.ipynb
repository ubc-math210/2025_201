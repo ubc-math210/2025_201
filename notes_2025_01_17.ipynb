{
 "cells": [
  {
   "cell_type": "markdown",
   "id": "7aca2d52-0b73-41f5-9846-823f5c2227ff",
   "metadata": {},
   "source": [
    "# MATH 210 Introduction to Mathematical Computing\n",
    "\n",
    "**January 17, 2025**\n",
    "\n",
    "* Builtin Functions\n",
    "* Function Contruction\n",
    "* Examples\n",
    "* Lambda Functions"
   ]
  },
  {
   "cell_type": "markdown",
   "id": "81b41bc4-bc34-48cc-9b8c-a2960b9600fa",
   "metadata": {},
   "source": [
    "## Builtin Functions\n",
    "\n",
    "There are several builtin functions in Python ready for us to use. For example, some helpful functions for sequences are:\n",
    "\n",
    "* `sum` : compute the sum of a sequence of numbers\n",
    "* `min` : find the minimum value in a sequence\n",
    "* `max` : find the maximum value in a sequence\n",
    "* `len` : compute the length of a sequence\n",
    "\n",
    "Other helpful Python functions are:\n",
    "\n",
    "* `print`\n",
    "* `type`\n",
    "* `list`\n",
    "* `range`"
   ]
  },
  {
   "cell_type": "markdown",
   "id": "963830e6-9956-4d0c-a470-76f7553565bd",
   "metadata": {},
   "source": [
    "For example, compute the average value in a sequence using functions `sum` and `len`."
   ]
  },
  {
   "cell_type": "code",
   "execution_count": 1,
   "id": "cd146814-66ec-4081-84f7-c57424ec548c",
   "metadata": {},
   "outputs": [
    {
     "name": "stdout",
     "output_type": "stream",
     "text": [
      "3.875\n"
     ]
    }
   ],
   "source": [
    "seq = [3,1,4,1,5,9,2,6]\n",
    "average = sum(seq)/len(seq)\n",
    "print(average)"
   ]
  },
  {
   "cell_type": "markdown",
   "id": "685aabd3-d995-4ce8-b72f-3a2b28705519",
   "metadata": {},
   "source": [
    "## Function Construction\n",
    "\n",
    "Define our own functions using the `def` keyword constuction:\n",
    "\n",
    "```\n",
    "def fun(a,b,c):\n",
    "    \"Documentation string to describe the function.\"\n",
    "    Python code\n",
    "    return value\n",
    "```\n",
    "\n",
    "where:\n",
    "\n",
    "* `def` keyword starts the construction\n",
    "* `fun` is the function name\n",
    "* `a,b,c` are input parameters separated by commas with parentheses\n",
    "* `:` ends the `def` statement\n",
    "* body of the function is indented 4 spaces\n",
    "* documentation string (optional) describes the function so that it's easy for others to use\n",
    "* Python code computes values using input parameters\n",
    "* `return` keyword designates the output value"
   ]
  },
  {
   "cell_type": "markdown",
   "id": "09aa38c7-f9e5-461f-b0b3-3ecd00a1c9f6",
   "metadata": {},
   "source": [
    "Define a function called `average` which takes input parameter `x` (a Python sequence of numbers) and returns the average value."
   ]
  },
  {
   "cell_type": "code",
   "execution_count": 2,
   "id": "572465c0-967d-49e7-89ed-312da8706320",
   "metadata": {},
   "outputs": [],
   "source": [
    "def average(x):\n",
    "    \"Compute the average value of sequence x.\"\n",
    "    avg = sum(x)/len(x)\n",
    "    return avg"
   ]
  },
  {
   "cell_type": "code",
   "execution_count": 3,
   "id": "53ed46a5-f5ae-4788-bd78-f77eb34f3bc2",
   "metadata": {},
   "outputs": [
    {
     "data": {
      "text/plain": [
       "\u001b[0;31mSignature:\u001b[0m \u001b[0maverage\u001b[0m\u001b[0;34m(\u001b[0m\u001b[0mx\u001b[0m\u001b[0;34m)\u001b[0m\u001b[0;34m\u001b[0m\u001b[0;34m\u001b[0m\u001b[0m\n",
       "\u001b[0;31mDocstring:\u001b[0m Compute the average value of sequence x.\n",
       "\u001b[0;31mFile:\u001b[0m      /tmp/ipykernel_687/2168483027.py\n",
       "\u001b[0;31mType:\u001b[0m      function"
      ]
     },
     "metadata": {},
     "output_type": "display_data"
    }
   ],
   "source": [
    "average?"
   ]
  },
  {
   "cell_type": "code",
   "execution_count": 4,
   "id": "0edabf12-4b48-4855-8319-29e0fef8efdc",
   "metadata": {},
   "outputs": [
    {
     "data": {
      "text/plain": [
       "3.875"
      ]
     },
     "execution_count": 4,
     "metadata": {},
     "output_type": "execute_result"
    }
   ],
   "source": [
    "average([3,1,4,1,5,9,2,6])"
   ]
  },
  {
   "cell_type": "markdown",
   "id": "3112f049-7326-44d6-b513-717faf776ebe",
   "metadata": {},
   "source": [
    "Let's use a systematic approach to writing functions:\n",
    "\n",
    "1. Write a stub. (The minimum amount of code that creates a function that takes the right input and returns the correct datatype.)\n",
    "2. Write some tests using examples where we know exactly what the output should be.\n",
    "3. Write code and test often."
   ]
  },
  {
   "cell_type": "markdown",
   "id": "08e1bac4-5622-4878-b555-a64d9ab8d15d",
   "metadata": {},
   "source": [
    "Define a function called `norm` which takes `x` (a Python list of real numbers) and returns the norm of `x` given by the formula:\n",
    "\n",
    "$$\n",
    "\\| \\mathbf{x} \\| = \\sqrt{\\sum_k x_k^2}\n",
    "$$"
   ]
  },
  {
   "cell_type": "code",
   "execution_count": 41,
   "id": "1e877e68-5dc5-4466-8458-116b5e3c6f0f",
   "metadata": {},
   "outputs": [],
   "source": [
    "def norm(x):\n",
    "    \"Compute the norm of x.\"\n",
    "    # x2 = [x[k]**2 for k in range(0,len(x))]\n",
    "    x2 = [xn**2 for xn in x]\n",
    "    normx = sum(x2)**0.5\n",
    "    return normx"
   ]
  },
  {
   "cell_type": "code",
   "execution_count": 42,
   "id": "f976fdee-5c91-4e23-8430-ee31afed8996",
   "metadata": {},
   "outputs": [
    {
     "data": {
      "text/plain": [
       "1.7320508075688772"
      ]
     },
     "execution_count": 42,
     "metadata": {},
     "output_type": "execute_result"
    }
   ],
   "source": [
    "norm([1,-1,1])"
   ]
  },
  {
   "cell_type": "code",
   "execution_count": 43,
   "id": "89a16e3a-2a46-41cf-b0cc-4ed4f196e153",
   "metadata": {},
   "outputs": [
    {
     "data": {
      "text/plain": [
       "1.7320508075688772"
      ]
     },
     "execution_count": 43,
     "metadata": {},
     "output_type": "execute_result"
    }
   ],
   "source": [
    "3**0.5"
   ]
  },
  {
   "cell_type": "code",
   "execution_count": 44,
   "id": "5c784116-4458-4940-89a2-f812312c1c4d",
   "metadata": {},
   "outputs": [
    {
     "data": {
      "text/plain": [
       "7.416198487095663"
      ]
     },
     "execution_count": 44,
     "metadata": {},
     "output_type": "execute_result"
    }
   ],
   "source": [
    "norm([1,2,3,4,5])"
   ]
  },
  {
   "cell_type": "code",
   "execution_count": 45,
   "id": "b7a03de6-01a2-4542-b78b-6d7cc97edb84",
   "metadata": {},
   "outputs": [
    {
     "data": {
      "text/plain": [
       "7.416198487095663"
      ]
     },
     "execution_count": 45,
     "metadata": {},
     "output_type": "execute_result"
    }
   ],
   "source": [
    "(1**2 + 2**2 + 3**2 + 4**2 + 5**2)**0.5"
   ]
  },
  {
   "cell_type": "markdown",
   "id": "50239866-dd8e-42f8-8e27-70d05753e4a4",
   "metadata": {},
   "source": [
    "## Lambda Functions\n",
    "\n",
    "Another way to define a function is a `lambda` function. The syntax is:\n",
    "\n",
    "```\n",
    "fun = lambda a,b,c: Python code for return value\n",
    "```\n",
    "\n",
    "where:\n",
    "\n",
    "* `fun` is the function name\n",
    "* `lambda` is the keyword\n",
    "* input parameters separated by commas follow `lambda`\n",
    "* `:` ends the parameter list\n",
    "* Python expression for output value follows `:`"
   ]
  },
  {
   "cell_type": "code",
   "execution_count": 46,
   "id": "6cdba8c7-d022-458d-b534-94d00acf1951",
   "metadata": {},
   "outputs": [],
   "source": [
    "average = lambda x: sum(x)/len(x)"
   ]
  },
  {
   "cell_type": "code",
   "execution_count": 47,
   "id": "c1aa8dae-139c-4664-8be8-6f8df12afcf3",
   "metadata": {},
   "outputs": [
    {
     "data": {
      "text/plain": [
       "2.0"
      ]
     },
     "execution_count": 47,
     "metadata": {},
     "output_type": "execute_result"
    }
   ],
   "source": [
    "average([1,2,3])"
   ]
  },
  {
   "cell_type": "markdown",
   "id": "dc79805b-4ae6-4e6c-b89a-99f30d487ea9",
   "metadata": {},
   "source": []
  },
  {
   "cell_type": "code",
   "execution_count": null,
   "id": "a4b2c120-fbf9-4403-bafc-9046a349354d",
   "metadata": {},
   "outputs": [],
   "source": []
  },
  {
   "cell_type": "markdown",
   "id": "f0f2c779-8e3a-47b1-887f-4bb8d139d09f",
   "metadata": {},
   "source": [
    "## More Examples\n",
    "\n",
    "Write a function called `asum` which takes `a` (Python list of numbers) and `x` (a number) and returns the sum\n",
    "\n",
    "$$\n",
    "\\sum_{d=0}^{n-1} a_d x^d\n",
    "$$\n",
    "\n",
    "where $n$ is the length of `a`."
   ]
  },
  {
   "cell_type": "code",
   "execution_count": 38,
   "id": "58c410a7-4d3b-468b-9242-5d5cd89c8c37",
   "metadata": {},
   "outputs": [],
   "source": [
    "def asum(a,x):\n",
    "    terms = [a[d]*x**d for d in range(0,len(a))]\n",
    "    y = sum(terms)\n",
    "    return y"
   ]
  },
  {
   "cell_type": "code",
   "execution_count": 39,
   "id": "6068df95-2c25-4568-912f-28f46935a63d",
   "metadata": {},
   "outputs": [
    {
     "name": "stdout",
     "output_type": "stream",
     "text": [
      "9\n"
     ]
    }
   ],
   "source": [
    "a = [1,2,1]\n",
    "x = 2\n",
    "y = asum(a,x)\n",
    "print(y)"
   ]
  },
  {
   "cell_type": "code",
   "execution_count": 40,
   "id": "8e9b3d82-8a49-4f7a-a857-0762aaa1a38b",
   "metadata": {},
   "outputs": [
    {
     "data": {
      "text/plain": [
       "9"
      ]
     },
     "execution_count": 40,
     "metadata": {},
     "output_type": "execute_result"
    }
   ],
   "source": [
    "1*2**0 + 2*2**1 + 1*2**2"
   ]
  }
 ],
 "metadata": {
  "kernelspec": {
   "display_name": "Python 3 (ipykernel)",
   "language": "python",
   "name": "python3"
  },
  "language_info": {
   "codemirror_mode": {
    "name": "ipython",
    "version": 3
   },
   "file_extension": ".py",
   "mimetype": "text/x-python",
   "name": "python",
   "nbconvert_exporter": "python",
   "pygments_lexer": "ipython3",
   "version": "3.12.8"
  }
 },
 "nbformat": 4,
 "nbformat_minor": 5
}
