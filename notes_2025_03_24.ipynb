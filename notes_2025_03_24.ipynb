{
 "cells": [
  {
   "cell_type": "markdown",
   "id": "2cacd61d-99f4-4e73-b8d0-fd7dc50be19f",
   "metadata": {},
   "source": [
    "# MATH 210 Introduction to Mathematical Computing\n",
    "\n",
    "**March 24, 2025**"
   ]
  },
  {
   "cell_type": "markdown",
   "id": "bb7f9ca0-80a3-499b-9797-eaaa7b04c852",
   "metadata": {},
   "source": [
    "## Linear Algebra with SciPy"
   ]
  },
  {
   "cell_type": "code",
   "execution_count": 1,
   "id": "9e3e2e44-811b-45ce-b3a7-96ddb8409d1b",
   "metadata": {},
   "outputs": [],
   "source": [
    "import numpy as np\n",
    "import matplotlib.pyplot as plt"
   ]
  },
  {
   "cell_type": "markdown",
   "id": "2b52cfbf-bc83-4785-b7f3-ce837792cdec",
   "metadata": {},
   "source": [
    "Work with matrices using NumPy arrays. Use the function `np.array` to create a NumPy array from a list of lists."
   ]
  },
  {
   "cell_type": "code",
   "execution_count": 2,
   "id": "4c19728d-886d-4277-9d6f-fccbf1695b0a",
   "metadata": {},
   "outputs": [],
   "source": [
    "A = np.array([[1.,2.,3.],[4.,5.,6.]])"
   ]
  },
  {
   "cell_type": "code",
   "execution_count": 3,
   "id": "10d0ac5e-46d4-4d2e-81ec-65834584fa03",
   "metadata": {},
   "outputs": [
    {
     "data": {
      "text/plain": [
       "array([[1., 2., 3.],\n",
       "       [4., 5., 6.]])"
      ]
     },
     "execution_count": 3,
     "metadata": {},
     "output_type": "execute_result"
    }
   ],
   "source": [
    "A"
   ]
  },
  {
   "cell_type": "markdown",
   "id": "fa68a4f9-a6f9-482d-a291-aa512ba2ff5a",
   "metadata": {},
   "source": [
    "Access attributes of an array using dot syntax."
   ]
  },
  {
   "cell_type": "code",
   "execution_count": 4,
   "id": "3e9b5354-c2ab-4220-9677-3ee9def474a7",
   "metadata": {},
   "outputs": [
    {
     "data": {
      "text/plain": [
       "dtype('float64')"
      ]
     },
     "execution_count": 4,
     "metadata": {},
     "output_type": "execute_result"
    }
   ],
   "source": [
    "A.dtype"
   ]
  },
  {
   "cell_type": "code",
   "execution_count": 5,
   "id": "cdcd8f25-fd89-4cee-9ba5-a5a9f2638432",
   "metadata": {},
   "outputs": [
    {
     "data": {
      "text/plain": [
       "(2, 3)"
      ]
     },
     "execution_count": 5,
     "metadata": {},
     "output_type": "execute_result"
    }
   ],
   "source": [
    "A.shape"
   ]
  },
  {
   "cell_type": "code",
   "execution_count": 6,
   "id": "dacbf4c5-9048-474c-8aed-8a14b3c2ad81",
   "metadata": {},
   "outputs": [
    {
     "data": {
      "text/plain": [
       "2"
      ]
     },
     "execution_count": 6,
     "metadata": {},
     "output_type": "execute_result"
    }
   ],
   "source": [
    "A.ndim"
   ]
  },
  {
   "cell_type": "markdown",
   "id": "7bd669f3-b965-414a-b087-4d90506758c4",
   "metadata": {},
   "source": [
    "Select a row from a 2-dimensional array to get a 1-dimensional array."
   ]
  },
  {
   "cell_type": "code",
   "execution_count": 7,
   "id": "bae32024-f4d3-4339-a502-9ae84aa04c00",
   "metadata": {},
   "outputs": [],
   "source": [
    "r0 = A[0,:]"
   ]
  },
  {
   "cell_type": "code",
   "execution_count": 8,
   "id": "29d26126-4678-4f7e-9c0a-1ecf9a4f4f9e",
   "metadata": {},
   "outputs": [
    {
     "data": {
      "text/plain": [
       "array([1., 2., 3.])"
      ]
     },
     "execution_count": 8,
     "metadata": {},
     "output_type": "execute_result"
    }
   ],
   "source": [
    "r0"
   ]
  },
  {
   "cell_type": "code",
   "execution_count": 9,
   "id": "03580c3d-e1f3-43a8-ad58-7b6e0ad0f5e9",
   "metadata": {},
   "outputs": [
    {
     "data": {
      "text/plain": [
       "dtype('float64')"
      ]
     },
     "execution_count": 9,
     "metadata": {},
     "output_type": "execute_result"
    }
   ],
   "source": [
    "r0.dtype"
   ]
  },
  {
   "cell_type": "code",
   "execution_count": 10,
   "id": "623d876c-71c9-4d5e-9278-776fe84d41d9",
   "metadata": {},
   "outputs": [
    {
     "data": {
      "text/plain": [
       "(3,)"
      ]
     },
     "execution_count": 10,
     "metadata": {},
     "output_type": "execute_result"
    }
   ],
   "source": [
    "r0.shape"
   ]
  },
  {
   "cell_type": "code",
   "execution_count": 11,
   "id": "8332688f-3417-484f-ac3c-fb3632a8b5d7",
   "metadata": {},
   "outputs": [
    {
     "data": {
      "text/plain": [
       "1"
      ]
     },
     "execution_count": 11,
     "metadata": {},
     "output_type": "execute_result"
    }
   ],
   "source": [
    "r0.ndim"
   ]
  },
  {
   "cell_type": "code",
   "execution_count": 12,
   "id": "f16f7431-ace4-4c81-af5b-b1cecd0377d6",
   "metadata": {},
   "outputs": [],
   "source": [
    "c1 = A[:,1]"
   ]
  },
  {
   "cell_type": "code",
   "execution_count": 13,
   "id": "70295480-90fe-43ee-a748-11be1846d5fe",
   "metadata": {},
   "outputs": [
    {
     "data": {
      "text/plain": [
       "array([2., 5.])"
      ]
     },
     "execution_count": 13,
     "metadata": {},
     "output_type": "execute_result"
    }
   ],
   "source": [
    "c1"
   ]
  },
  {
   "cell_type": "code",
   "execution_count": 14,
   "id": "eb421f61-18f5-4964-9184-79dc3b7f54f1",
   "metadata": {},
   "outputs": [
    {
     "data": {
      "text/plain": [
       "(2,)"
      ]
     },
     "execution_count": 14,
     "metadata": {},
     "output_type": "execute_result"
    }
   ],
   "source": [
    "c1.shape"
   ]
  },
  {
   "cell_type": "code",
   "execution_count": 15,
   "id": "85408c19-3d50-4a98-b932-27bbebaf83cc",
   "metadata": {},
   "outputs": [
    {
     "data": {
      "text/plain": [
       "1"
      ]
     },
     "execution_count": 15,
     "metadata": {},
     "output_type": "execute_result"
    }
   ],
   "source": [
    "c1.ndim"
   ]
  },
  {
   "cell_type": "code",
   "execution_count": 16,
   "id": "5bc5e512-72e9-4681-8583-e547690edf3a",
   "metadata": {},
   "outputs": [
    {
     "data": {
      "text/plain": [
       "5.0"
      ]
     },
     "execution_count": 16,
     "metadata": {},
     "output_type": "execute_result"
    }
   ],
   "source": [
    "c1[1]"
   ]
  },
  {
   "cell_type": "code",
   "execution_count": 17,
   "id": "6722b5b1-eb37-47b9-87eb-812fd2261ee1",
   "metadata": {},
   "outputs": [
    {
     "data": {
      "text/plain": [
       "array([1., 2., 3.])"
      ]
     },
     "execution_count": 17,
     "metadata": {},
     "output_type": "execute_result"
    }
   ],
   "source": [
    "r0.T"
   ]
  },
  {
   "cell_type": "code",
   "execution_count": 18,
   "id": "6995cc81-2ce8-442a-bca2-fc9948c7ef5a",
   "metadata": {},
   "outputs": [
    {
     "data": {
      "text/plain": [
       "array([[1., 4.],\n",
       "       [2., 5.],\n",
       "       [3., 6.]])"
      ]
     },
     "execution_count": 18,
     "metadata": {},
     "output_type": "execute_result"
    }
   ],
   "source": [
    "A.T"
   ]
  },
  {
   "cell_type": "markdown",
   "id": "acdfdbcc-981a-4ae9-a5d7-d97480788bea",
   "metadata": {},
   "source": [
    "We have functions for creating NumPy arrays."
   ]
  },
  {
   "cell_type": "code",
   "execution_count": 19,
   "id": "63944551-d6ce-4de2-8dc7-8d09246b56c8",
   "metadata": {},
   "outputs": [
    {
     "data": {
      "text/plain": [
       "array([0., 0., 0.])"
      ]
     },
     "execution_count": 19,
     "metadata": {},
     "output_type": "execute_result"
    }
   ],
   "source": [
    "np.zeros(3)"
   ]
  },
  {
   "cell_type": "code",
   "execution_count": 20,
   "id": "55b43393-a7c7-4201-b551-b5b4f998a6a6",
   "metadata": {},
   "outputs": [
    {
     "data": {
      "text/plain": [
       "array([[0., 0., 0.],\n",
       "       [0., 0., 0.],\n",
       "       [0., 0., 0.],\n",
       "       [0., 0., 0.],\n",
       "       [0., 0., 0.]])"
      ]
     },
     "execution_count": 20,
     "metadata": {},
     "output_type": "execute_result"
    }
   ],
   "source": [
    "np.zeros((5,3))"
   ]
  },
  {
   "cell_type": "code",
   "execution_count": 21,
   "id": "817c69fa-e287-4eac-a325-54cc79237a20",
   "metadata": {},
   "outputs": [
    {
     "data": {
      "text/plain": [
       "array([1., 1.])"
      ]
     },
     "execution_count": 21,
     "metadata": {},
     "output_type": "execute_result"
    }
   ],
   "source": [
    "np.ones(2)"
   ]
  },
  {
   "cell_type": "code",
   "execution_count": 22,
   "id": "e21de337-b0cf-4038-8c9c-4de3406749ed",
   "metadata": {},
   "outputs": [
    {
     "data": {
      "text/plain": [
       "array([[1., 1., 1., 1., 1.],\n",
       "       [1., 1., 1., 1., 1.]])"
      ]
     },
     "execution_count": 22,
     "metadata": {},
     "output_type": "execute_result"
    }
   ],
   "source": [
    "np.ones((2,5))"
   ]
  },
  {
   "cell_type": "code",
   "execution_count": 23,
   "id": "3d9b554c-3cf7-430f-a87e-00f25d2b22b2",
   "metadata": {},
   "outputs": [
    {
     "data": {
      "text/plain": [
       "array([[1., 0., 0., 0.],\n",
       "       [0., 1., 0., 0.],\n",
       "       [0., 0., 1., 0.],\n",
       "       [0., 0., 0., 1.]])"
      ]
     },
     "execution_count": 23,
     "metadata": {},
     "output_type": "execute_result"
    }
   ],
   "source": [
    "np.eye(4)"
   ]
  },
  {
   "cell_type": "code",
   "execution_count": 24,
   "id": "2d10372c-e1f2-4daf-9747-4c86662a1e84",
   "metadata": {},
   "outputs": [
    {
     "data": {
      "text/plain": [
       "array([[ 1.,  0.,  0.,  0.],\n",
       "       [ 0., -1.,  0.,  0.],\n",
       "       [ 0.,  0.,  1.,  0.],\n",
       "       [ 0.,  0.,  0., -1.]])"
      ]
     },
     "execution_count": 24,
     "metadata": {},
     "output_type": "execute_result"
    }
   ],
   "source": [
    "np.diag([1.,-1.,1.,-1.])"
   ]
  },
  {
   "cell_type": "code",
   "execution_count": 25,
   "id": "e099b513-c0f1-4624-b143-ef747b3dae6d",
   "metadata": {},
   "outputs": [
    {
     "data": {
      "text/plain": [
       "array([[0., 1., 0., 0., 0.],\n",
       "       [0., 0., 1., 0., 0.],\n",
       "       [0., 0., 0., 1., 0.],\n",
       "       [0., 0., 0., 0., 1.],\n",
       "       [0., 0., 0., 0., 0.]])"
      ]
     },
     "execution_count": 25,
     "metadata": {},
     "output_type": "execute_result"
    }
   ],
   "source": [
    "np.diag(np.ones(4),1)"
   ]
  },
  {
   "cell_type": "code",
   "execution_count": 26,
   "id": "0e821fee-876c-41e7-b386-32dc98a807b2",
   "metadata": {},
   "outputs": [
    {
     "data": {
      "text/plain": [
       "array([[0., 0., 0., 0.],\n",
       "       [1., 0., 0., 0.],\n",
       "       [0., 1., 0., 0.],\n",
       "       [0., 0., 1., 0.]])"
      ]
     },
     "execution_count": 26,
     "metadata": {},
     "output_type": "execute_result"
    }
   ],
   "source": [
    "np.diag(np.ones(3),-1)"
   ]
  },
  {
   "cell_type": "code",
   "execution_count": 27,
   "id": "845eb4e4-6af5-444a-94a2-7d93ba267f4c",
   "metadata": {},
   "outputs": [
    {
     "data": {
      "image/png": "[encoded data removed]",
      "text/plain": [
       "<Figure size 640x480 with 2 Axes>"
      ]
     },
     "metadata": {},
     "output_type": "display_data"
    }
   ],
   "source": [
    "N = 40\n",
    "M = -2*np.eye(N) + np.diag(np.ones(N-1),1) + np.diag(np.ones(N-1),-1)\n",
    "plt.imshow(M,cmap='RdBu')\n",
    "plt.clim([-2,2])\n",
    "plt.colorbar()\n",
    "plt.show()"
   ]
  },
  {
   "cell_type": "markdown",
   "id": "3c9af860-e66d-4bcf-b66f-5d73583b52be",
   "metadata": {},
   "source": [
    "Use `np.column_stack` to stack 1-dimensional arrays into columns of a 2-dimensional array."
   ]
  },
  {
   "cell_type": "code",
   "execution_count": 28,
   "id": "84dcdf37-5217-4fd3-bd87-01ed15bc03fd",
   "metadata": {},
   "outputs": [
    {
     "data": {
      "text/plain": [
       "array([[1., 0.],\n",
       "       [1., 1.],\n",
       "       [1., 2.],\n",
       "       [1., 3.],\n",
       "       [1., 4.],\n",
       "       [1., 5.]])"
      ]
     },
     "execution_count": 28,
     "metadata": {},
     "output_type": "execute_result"
    }
   ],
   "source": [
    "N = 6\n",
    "c0 = np.ones(N)\n",
    "c1 = np.arange(N)\n",
    "A = np.column_stack([c0,c1])\n",
    "A"
   ]
  },
  {
   "cell_type": "markdown",
   "id": "662299a3-928e-4793-8a83-af6f507619a9",
   "metadata": {},
   "source": [
    "## Solving Systems"
   ]
  },
  {
   "cell_type": "code",
   "execution_count": 29,
   "id": "15b76a41-b7ea-4d82-9d97-195f1021a3a6",
   "metadata": {},
   "outputs": [],
   "source": [
    "import scipy.linalg as la"
   ]
  },
  {
   "cell_type": "code",
   "execution_count": 30,
   "id": "d4beba87-d1be-474b-9670-5fd0d699c99e",
   "metadata": {},
   "outputs": [
    {
     "data": {
      "text/plain": [
       "array([[1., 2.],\n",
       "       [2., 1.]])"
      ]
     },
     "execution_count": 30,
     "metadata": {},
     "output_type": "execute_result"
    }
   ],
   "source": [
    "A = np.array([[1.,2.],[2.,1.]])\n",
    "A"
   ]
  },
  {
   "cell_type": "code",
   "execution_count": 31,
   "id": "fefc5967-1bfd-4630-aea0-2a18cd8bde68",
   "metadata": {},
   "outputs": [
    {
     "data": {
      "text/plain": [
       "array([[2.],\n",
       "       [3.]])"
      ]
     },
     "execution_count": 31,
     "metadata": {},
     "output_type": "execute_result"
    }
   ],
   "source": [
    "b = np.array([[2.],[3.]])\n",
    "b"
   ]
  },
  {
   "cell_type": "code",
   "execution_count": 32,
   "id": "6ee0dd17-8cb5-494f-866b-28cb66e5baa1",
   "metadata": {},
   "outputs": [],
   "source": [
    "x = la.solve(A,b)"
   ]
  },
  {
   "cell_type": "code",
   "execution_count": 33,
   "id": "5800e367-e4f4-4d68-a210-68b97eba4020",
   "metadata": {},
   "outputs": [
    {
     "data": {
      "text/plain": [
       "array([[1.33333333],\n",
       "       [0.33333333]])"
      ]
     },
     "execution_count": 33,
     "metadata": {},
     "output_type": "execute_result"
    }
   ],
   "source": [
    "x"
   ]
  },
  {
   "cell_type": "code",
   "execution_count": 35,
   "id": "473c4178-3600-4085-bf30-b6e07a5f6539",
   "metadata": {},
   "outputs": [
    {
     "data": {
      "text/plain": [
       "array([[2.],\n",
       "       [3.]])"
      ]
     },
     "execution_count": 35,
     "metadata": {},
     "output_type": "execute_result"
    }
   ],
   "source": [
    "A@x"
   ]
  },
  {
   "cell_type": "code",
   "execution_count": 36,
   "id": "86849588-6347-4786-9949-b2e470805ffd",
   "metadata": {},
   "outputs": [
    {
     "data": {
      "text/plain": [
       "array([[2.],\n",
       "       [3.]])"
      ]
     },
     "execution_count": 36,
     "metadata": {},
     "output_type": "execute_result"
    }
   ],
   "source": [
    "np.dot(A,x)"
   ]
  },
  {
   "cell_type": "code",
   "execution_count": 37,
   "id": "740fe98e-9b74-438b-80a2-15d217d05fe0",
   "metadata": {},
   "outputs": [
    {
     "data": {
      "text/plain": [
       "array([2., 3.])"
      ]
     },
     "execution_count": 37,
     "metadata": {},
     "output_type": "execute_result"
    }
   ],
   "source": [
    "b = np.array([2.,3.])\n",
    "b"
   ]
  },
  {
   "cell_type": "code",
   "execution_count": 38,
   "id": "84c4591d-4de5-492a-8219-4fa795b750c6",
   "metadata": {},
   "outputs": [
    {
     "data": {
      "text/plain": [
       "array([1.33333333, 0.33333333])"
      ]
     },
     "execution_count": 38,
     "metadata": {},
     "output_type": "execute_result"
    }
   ],
   "source": [
    "x = la.solve(A,b)\n",
    "x"
   ]
  }
 ],
 "metadata": {
  "kernelspec": {
   "display_name": "Python 3 (ipykernel)",
   "language": "python",
   "name": "python3"
  },
  "language_info": {
   "codemirror_mode": {
    "name": "ipython",
    "version": 3
   },
   "file_extension": ".py",
   "mimetype": "text/x-python",
   "name": "python",
   "nbconvert_exporter": "python",
   "pygments_lexer": "ipython3",
   "version": "3.12.8"
  }
 },
 "nbformat": 4,
 "nbformat_minor": 5
}
