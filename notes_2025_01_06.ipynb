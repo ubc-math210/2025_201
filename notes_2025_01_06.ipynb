{
 "cells": [
  {
   "cell_type": "markdown",
   "id": "8dd50d2d-47ab-497e-a3ba-fc0f33a9729a",
   "metadata": {},
   "source": [
    "# MATH 210 Introduction to Mathematical Computing\n",
    "\n",
    "**January 6, 2025**\n",
    "\n",
    "* Cells and Modes\n",
    "* Headers\n",
    "* Lists\n",
    "* Text Formatting"
   ]
  },
  {
   "cell_type": "markdown",
   "id": "4238f1b2-cbd7-4da9-918a-acc6de66f571",
   "metadata": {},
   "source": [
    "## Cells and Modes\n",
    "\n",
    "There are 2 kinds of cells: markdown cells and code cells.\n",
    "\n",
    "Execute a cell by `SHIFT+ENTER`.\n",
    "\n",
    "There are 2 modes: edit mode and command mode. Switch from edit mode to command mode by `ESC`. Switch from command mode to edit mode by double clicking a cell."
   ]
  },
  {
   "cell_type": "markdown",
   "id": "45e556e2-b450-4900-b02c-0532fa8e0057",
   "metadata": {},
   "source": [
    "## Headers\n",
    "\n",
    "Use the syntax `#`, `##`, etc. for headers:\n",
    "\n",
    "# Title\n",
    "\n",
    "## Chapter\n",
    "\n",
    "### Section\n",
    "\n",
    "#### Subsection"
   ]
  },
  {
   "cell_type": "markdown",
   "id": "1c2adba0-520a-4208-8577-f14341e19456",
   "metadata": {},
   "source": [
    "## Lists\n",
    "\n",
    "Use `*` to create unordered lists:\n",
    "\n",
    "* MATH 210\n",
    "* MATH 307\n",
    "* MATH 441\n",
    "* MATH 461\n",
    "\n",
    "Use numbers to create ordered lists:\n",
    "\n",
    "1. Toronto Raptors\n",
    "2. Oklahoma City Thunder\n",
    "3. Los Angeles Lakers\n",
    "4. San Antonio Spurs"
   ]
  },
  {
   "cell_type": "markdown",
   "id": "f9c9fe3f-fb83-4628-82fa-99d783bd6be5",
   "metadata": {},
   "source": [
    "## Text Formatting\n",
    "\n",
    "Create **bold font**, *emphasis*, and `code`."
   ]
  }
 ],
 "metadata": {
  "kernelspec": {
   "display_name": "Python 3 (ipykernel)",
   "language": "python",
   "name": "python3"
  },
  "language_info": {
   "codemirror_mode": {
    "name": "ipython",
    "version": 3
   },
   "file_extension": ".py",
   "mimetype": "text/x-python",
   "name": "python",
   "nbconvert_exporter": "python",
   "pygments_lexer": "ipython3",
   "version": "3.12.8"
  }
 },
 "nbformat": 4,
 "nbformat_minor": 5
}
