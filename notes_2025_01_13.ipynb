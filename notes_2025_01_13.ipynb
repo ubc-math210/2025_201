{
 "cells": [
  {
   "cell_type": "markdown",
   "id": "ff923b86-40b7-44c9-ade9-f9d3dbac9463",
   "metadata": {},
   "source": [
    "# MATH 210 Introduction to Mathematical Computing\n",
    "\n",
    "**January 13, 2025**\n",
    "\n",
    "* Variables\n",
    "* Sequence Types\n",
    "* Builtin Functions for Sequences\n",
    "* List Comprehensions"
   ]
  },
  {
   "cell_type": "markdown",
   "id": "9b6f2aaa-5bf0-4254-bfa0-2d76602319f8",
   "metadata": {},
   "source": [
    "## Variables\n",
    "\n",
    "Use variables to easily modify and combine values together. A variable name can be any combination of letters and numbers and characters as long as it begins with a letter and is not a reserved word.\n",
    "\n",
    "For example, write a few lines of code to compute the norm of a vector $\\vec{v} = (x,y,z)$:\n",
    "\n",
    "$$\n",
    "\\| \\vec{v} \\| = (x^2 + y^2 + z^2)^{1/2}\n",
    "$$"
   ]
  },
  {
   "cell_type": "code",
   "execution_count": 1,
   "id": "6fe3ee3e-9d3b-41ad-8ea0-7f7b181ce37f",
   "metadata": {},
   "outputs": [
    {
     "name": "stdout",
     "output_type": "stream",
     "text": [
      "2.449489742783178\n"
     ]
    }
   ],
   "source": [
    "x = 1\n",
    "y = -2\n",
    "z = -1\n",
    "\n",
    "norm = (x**2 + y**2 + z**2)**0.5\n",
    "print(norm)"
   ]
  },
  {
   "cell_type": "markdown",
   "id": "e79adee4-22e4-4bd6-b028-1f50d03b047a",
   "metadata": {},
   "source": [
    "## Sequence Types\n",
    "\n",
    "There are 3 main sequence types: list, tuple and range.\n",
    "\n",
    "Create a list of numbers using square brackets `[1,2,3,4,5]`."
   ]
  },
  {
   "cell_type": "code",
   "execution_count": 2,
   "id": "0ebe0ffe-f211-40df-b4f8-49c805ed6a0b",
   "metadata": {},
   "outputs": [],
   "source": [
    "squares = [1,4,9,16,25,36,49,64,81]"
   ]
  },
  {
   "cell_type": "code",
   "execution_count": 3,
   "id": "473c9afe-3218-42ad-8405-8687b72078a1",
   "metadata": {},
   "outputs": [
    {
     "data": {
      "text/plain": [
       "list"
      ]
     },
     "execution_count": 3,
     "metadata": {},
     "output_type": "execute_result"
    }
   ],
   "source": [
    "type(squares)"
   ]
  },
  {
   "cell_type": "code",
   "execution_count": 4,
   "id": "c631f19e-8e05-4cc4-9f00-3878b57be94b",
   "metadata": {},
   "outputs": [],
   "source": [
    "v = [1,-2,-1]"
   ]
  },
  {
   "cell_type": "code",
   "execution_count": 5,
   "id": "f088d647-3db6-4c9b-b428-5c5afa6da919",
   "metadata": {},
   "outputs": [
    {
     "data": {
      "text/plain": [
       "list"
      ]
     },
     "execution_count": 5,
     "metadata": {},
     "output_type": "execute_result"
    }
   ],
   "source": [
    "type(v)"
   ]
  },
  {
   "cell_type": "markdown",
   "id": "f734b3eb-ab1f-4fe6-89f1-d9590a4eec3b",
   "metadata": {},
   "source": [
    "Access entries in the list using index syntax `v[i]` which returns entry at index `i` in list `v`."
   ]
  },
  {
   "cell_type": "code",
   "execution_count": 7,
   "id": "80be47ac-0855-472b-8f3f-a7fbd389722a",
   "metadata": {},
   "outputs": [
    {
     "data": {
      "text/plain": [
       "9"
      ]
     },
     "execution_count": 7,
     "metadata": {},
     "output_type": "execute_result"
    }
   ],
   "source": [
    "squares[2]"
   ]
  },
  {
   "cell_type": "markdown",
   "id": "3c03cf74-2f7f-41f4-a5e9-a34c9610dae9",
   "metadata": {},
   "source": [
    "Python uses 0-indexing which means sequences start at index 0."
   ]
  },
  {
   "cell_type": "code",
   "execution_count": 8,
   "id": "a1d12e8e-2eb8-488d-bb6f-99f47d2f59df",
   "metadata": {},
   "outputs": [
    {
     "data": {
      "text/plain": [
       "64"
      ]
     },
     "execution_count": 8,
     "metadata": {},
     "output_type": "execute_result"
    }
   ],
   "source": [
    "squares[7]"
   ]
  },
  {
   "cell_type": "markdown",
   "id": "16d94680-eaf9-40dd-8275-203c1f578b95",
   "metadata": {},
   "source": [
    "Access entries starting from the end using negative indices."
   ]
  },
  {
   "cell_type": "code",
   "execution_count": 9,
   "id": "d131ec16-f808-43b7-b8b7-7271891701f5",
   "metadata": {},
   "outputs": [
    {
     "data": {
      "text/plain": [
       "81"
      ]
     },
     "execution_count": 9,
     "metadata": {},
     "output_type": "execute_result"
    }
   ],
   "source": [
    "squares[-1]"
   ]
  },
  {
   "cell_type": "markdown",
   "id": "9548d75c-bd6a-43a8-ba16-fc59de7bb658",
   "metadata": {},
   "source": [
    "Create a tuple using parentheses `(1,2,3,4,5)`."
   ]
  },
  {
   "cell_type": "code",
   "execution_count": 10,
   "id": "10bc9a27-b3cf-4c18-8f31-b4a121c18caa",
   "metadata": {},
   "outputs": [],
   "source": [
    "date = (2025,1,13)"
   ]
  },
  {
   "cell_type": "code",
   "execution_count": 11,
   "id": "f452ebd2-aa65-4647-b99e-113a3684e563",
   "metadata": {},
   "outputs": [
    {
     "data": {
      "text/plain": [
       "tuple"
      ]
     },
     "execution_count": 11,
     "metadata": {},
     "output_type": "execute_result"
    }
   ],
   "source": [
    "type(date)"
   ]
  },
  {
   "cell_type": "markdown",
   "id": "6be24a20-162c-4b87-bf96-4d63e0a63121",
   "metadata": {},
   "source": [
    "Indexing works the same way."
   ]
  },
  {
   "cell_type": "code",
   "execution_count": 12,
   "id": "ce5c3d86-65f7-44f9-bfe2-94b371976919",
   "metadata": {},
   "outputs": [
    {
     "data": {
      "text/plain": [
       "2025"
      ]
     },
     "execution_count": 12,
     "metadata": {},
     "output_type": "execute_result"
    }
   ],
   "source": [
    "date[0]"
   ]
  },
  {
   "cell_type": "markdown",
   "id": "30261676-4742-4552-b6c7-bdde42743ba1",
   "metadata": {},
   "source": [
    "The only real difference is that tuples are immutable and lists are mutable. This means that we cannot change the entries in a tuple after it's created but we can with lists."
   ]
  },
  {
   "cell_type": "code",
   "execution_count": 13,
   "id": "3faebab5-8a70-4f6d-8905-057a41370810",
   "metadata": {},
   "outputs": [
    {
     "ename": "TypeError",
     "evalue": "'tuple' object does not support item assignment",
     "output_type": "error",
     "traceback": [
      "\u001b[0;31m---------------------------------------------------------------------------\u001b[0m",
      "\u001b[0;31mTypeError\u001b[0m                                 Traceback (most recent call last)",
      "Cell \u001b[0;32mIn[13], line 1\u001b[0m\n\u001b[0;32m----> 1\u001b[0m \u001b[43mdate\u001b[49m\u001b[43m[\u001b[49m\u001b[38;5;241;43m2\u001b[39;49m\u001b[43m]\u001b[49m \u001b[38;5;241m=\u001b[39m \u001b[38;5;241m14\u001b[39m\n",
      "\u001b[0;31mTypeError\u001b[0m: 'tuple' object does not support item assignment"
     ]
    }
   ],
   "source": [
    "date[2] = 14"
   ]
  },
  {
   "cell_type": "code",
   "execution_count": 14,
   "id": "6ee3b77d-01b0-4f17-a82d-56932a27a5f2",
   "metadata": {},
   "outputs": [],
   "source": [
    "squares[0] = -1"
   ]
  },
  {
   "cell_type": "code",
   "execution_count": 15,
   "id": "28f59183-077a-4a29-bbcb-2ceb9614a733",
   "metadata": {},
   "outputs": [
    {
     "data": {
      "text/plain": [
       "[-1, 4, 9, 16, 25, 36, 49, 64, 81]"
      ]
     },
     "execution_count": 15,
     "metadata": {},
     "output_type": "execute_result"
    }
   ],
   "source": [
    "squares"
   ]
  },
  {
   "cell_type": "markdown",
   "id": "89fb7e76-c4f9-490a-8b5c-6b214672af99",
   "metadata": {},
   "source": [
    "Create a range object using the `range` function. In particular, `range(a,b,step)` creates the sequence of integers from `a` to `b` (exclusive) by increment `step`, and `range(a,b)` creates the sequence of integers from `a` to `b` (exclusive) by increment `1`.\n",
    "\n",
    "A range object is an efficient sequence type that we use for loops and iteration. It doesn't create and store integers in memory. Bascially it represents the formula `a + n*step` and produces values on demand. "
   ]
  },
  {
   "cell_type": "code",
   "execution_count": 16,
   "id": "b02d61a2-d9fd-4dc2-999a-2a3e6bf35149",
   "metadata": {},
   "outputs": [],
   "source": [
    "seq = range(1,12,2)"
   ]
  },
  {
   "cell_type": "code",
   "execution_count": 17,
   "id": "0bbeef6e-86f6-42fc-8761-9c6308c86fc3",
   "metadata": {},
   "outputs": [
    {
     "name": "stdout",
     "output_type": "stream",
     "text": [
      "range(1, 12, 2)\n"
     ]
    }
   ],
   "source": [
    "print(seq)"
   ]
  },
  {
   "cell_type": "code",
   "execution_count": 18,
   "id": "c6dab730-f842-485c-bc2d-664233cbeda4",
   "metadata": {},
   "outputs": [
    {
     "data": {
      "text/plain": [
       "7"
      ]
     },
     "execution_count": 18,
     "metadata": {},
     "output_type": "execute_result"
    }
   ],
   "source": [
    "seq[3]"
   ]
  },
  {
   "cell_type": "markdown",
   "id": "a13e81ea-1fcb-4253-9c4c-d0796c3c41fc",
   "metadata": {},
   "source": [
    "Use the function `list` to convert a sequence into a list."
   ]
  },
  {
   "cell_type": "code",
   "execution_count": 19,
   "id": "8342b129-1275-45f8-92aa-a251ebe18030",
   "metadata": {},
   "outputs": [],
   "source": [
    "seq_as_list = list(seq)"
   ]
  },
  {
   "cell_type": "code",
   "execution_count": 20,
   "id": "b4b36895-d6ee-45f2-b96b-990bda6f568c",
   "metadata": {},
   "outputs": [
    {
     "name": "stdout",
     "output_type": "stream",
     "text": [
      "[1, 3, 5, 7, 9, 11]\n"
     ]
    }
   ],
   "source": [
    "print(seq_as_list)"
   ]
  },
  {
   "cell_type": "code",
   "execution_count": 21,
   "id": "7f59788e-66d9-4f90-9221-a3b15f54ebb7",
   "metadata": {},
   "outputs": [],
   "source": [
    "seq1 = range(-10,11)"
   ]
  },
  {
   "cell_type": "code",
   "execution_count": 22,
   "id": "939f34e0-3ae2-4055-bcf8-2966715f40d4",
   "metadata": {},
   "outputs": [
    {
     "name": "stdout",
     "output_type": "stream",
     "text": [
      "range(-10, 11)\n"
     ]
    }
   ],
   "source": [
    "print(seq1)"
   ]
  },
  {
   "cell_type": "code",
   "execution_count": 23,
   "id": "caabc86b-7ec2-49d5-a8dc-e17d4bb4b07e",
   "metadata": {},
   "outputs": [],
   "source": [
    "list1 = list(seq1)"
   ]
  },
  {
   "cell_type": "code",
   "execution_count": 24,
   "id": "aabd2cd6-2dba-416c-b600-bda8e3ce2d8f",
   "metadata": {},
   "outputs": [
    {
     "name": "stdout",
     "output_type": "stream",
     "text": [
      "[-10, -9, -8, -7, -6, -5, -4, -3, -2, -1, 0, 1, 2, 3, 4, 5, 6, 7, 8, 9, 10]\n"
     ]
    }
   ],
   "source": [
    "print(list1)"
   ]
  },
  {
   "cell_type": "markdown",
   "id": "28c8ca96-378c-4d24-b389-9b82adcbdda0",
   "metadata": {},
   "source": [
    "## Builtin Functions for Sequences\n",
    "\n",
    "Compute the sum of a sequence of numbers using the function `sum`."
   ]
  },
  {
   "cell_type": "code",
   "execution_count": 25,
   "id": "fa0512a2-6618-4000-97d2-8ac276ddb560",
   "metadata": {},
   "outputs": [
    {
     "name": "stdout",
     "output_type": "stream",
     "text": [
      "2\n"
     ]
    }
   ],
   "source": [
    "seq2 = [-5,7,3,1,-4]\n",
    "sum2 = sum(seq2)\n",
    "print(sum2)"
   ]
  },
  {
   "cell_type": "code",
   "execution_count": 26,
   "id": "a63cd4da-5420-41f7-aae7-47b492fe5b0a",
   "metadata": {},
   "outputs": [
    {
     "name": "stdout",
     "output_type": "stream",
     "text": [
      "500500\n"
     ]
    }
   ],
   "source": [
    "N = 1000\n",
    "seqN = range(1,N+1)\n",
    "sumN = sum(seqN)\n",
    "print(sumN)"
   ]
  },
  {
   "cell_type": "code",
   "execution_count": 27,
   "id": "c45db4fb-c620-44bb-a40d-e0ea70d95d82",
   "metadata": {},
   "outputs": [
    {
     "data": {
      "text/plain": [
       "500500.0"
      ]
     },
     "execution_count": 27,
     "metadata": {},
     "output_type": "execute_result"
    }
   ],
   "source": [
    "N*(N+1)/2"
   ]
  },
  {
   "cell_type": "markdown",
   "id": "e9114ff1-18a8-4d63-b5b8-01c9bff0191d",
   "metadata": {},
   "source": [
    "Use functions `min` and `max` to find the minimum and maximum values in a sequence."
   ]
  },
  {
   "cell_type": "code",
   "execution_count": 28,
   "id": "2d960dc2-bce3-4695-9fea-cad027aceaee",
   "metadata": {},
   "outputs": [],
   "source": [
    "w = [1,4,2,5,7,-3,2]"
   ]
  },
  {
   "cell_type": "code",
   "execution_count": 29,
   "id": "0e4f4b6e-53c7-4c42-b339-04aafe26cd01",
   "metadata": {},
   "outputs": [
    {
     "data": {
      "text/plain": [
       "-3"
      ]
     },
     "execution_count": 29,
     "metadata": {},
     "output_type": "execute_result"
    }
   ],
   "source": [
    "min(w)"
   ]
  },
  {
   "cell_type": "code",
   "execution_count": 30,
   "id": "da9cfdb9-4976-4b73-aa2d-57167831ab89",
   "metadata": {},
   "outputs": [
    {
     "data": {
      "text/plain": [
       "7"
      ]
     },
     "execution_count": 30,
     "metadata": {},
     "output_type": "execute_result"
    }
   ],
   "source": [
    "max(w)"
   ]
  },
  {
   "cell_type": "markdown",
   "id": "9429b367-965c-4806-aa8c-14cca24cbd83",
   "metadata": {},
   "source": [
    "Use the function `len` to compute the length of a sequence."
   ]
  },
  {
   "cell_type": "code",
   "execution_count": 31,
   "id": "990c2b90-707b-4bcf-814e-4a80890dd703",
   "metadata": {},
   "outputs": [
    {
     "data": {
      "text/plain": [
       "7"
      ]
     },
     "execution_count": 31,
     "metadata": {},
     "output_type": "execute_result"
    }
   ],
   "source": [
    "len(w)"
   ]
  },
  {
   "cell_type": "markdown",
   "id": "687fb30f-b642-4b48-9c3e-b5fc992f8c1b",
   "metadata": {},
   "source": [
    "## List Comprehensions\n",
    "\n",
    "Create a list using a list comprehension:\n",
    "\n",
    "```\n",
    "listname = [expression for item in sequence]\n",
    "```\n",
    "\n",
    "* `listname` is a variable name\n",
    "* `expression` is any Python expression involving `item`\n",
    "* `item` is a variable which is assigned each value in `sequence`\n",
    "* `sequence` is any sequence\n",
    "* `for` and `in` are keywords in the construction"
   ]
  },
  {
   "cell_type": "code",
   "execution_count": 32,
   "id": "b53c9b88-5c34-4fdb-b15e-76731d9a4110",
   "metadata": {},
   "outputs": [],
   "source": [
    "N = 10\n",
    "squares = [n**2 for n in range(1,N+1)]"
   ]
  },
  {
   "cell_type": "code",
   "execution_count": 33,
   "id": "07107e08-5b66-495f-acae-48dc30e7cf56",
   "metadata": {},
   "outputs": [
    {
     "name": "stdout",
     "output_type": "stream",
     "text": [
      "[1, 4, 9, 16, 25, 36, 49, 64, 81, 100]\n"
     ]
    }
   ],
   "source": [
    "print(squares)"
   ]
  },
  {
   "cell_type": "code",
   "execution_count": 34,
   "id": "539192eb-db66-4bb8-b2f3-b78500df4674",
   "metadata": {},
   "outputs": [],
   "source": [
    "inverse_squares = [1/square for square in squares]"
   ]
  },
  {
   "cell_type": "code",
   "execution_count": 35,
   "id": "e51457f6-356c-4542-91de-5c793b1ddad4",
   "metadata": {},
   "outputs": [
    {
     "name": "stdout",
     "output_type": "stream",
     "text": [
      "1.5497677311665408\n"
     ]
    }
   ],
   "source": [
    "print(sum(inverse_squares))"
   ]
  }
 ],
 "metadata": {
  "kernelspec": {
   "display_name": "Python 3 (ipykernel)",
   "language": "python",
   "name": "python3"
  },
  "language_info": {
   "codemirror_mode": {
    "name": "ipython",
    "version": 3
   },
   "file_extension": ".py",
   "mimetype": "text/x-python",
   "name": "python",
   "nbconvert_exporter": "python",
   "pygments_lexer": "ipython3",
   "version": "3.12.8"
  }
 },
 "nbformat": 4,
 "nbformat_minor": 5
}
