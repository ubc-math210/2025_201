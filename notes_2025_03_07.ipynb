{
 "cells": [
  {
   "cell_type": "markdown",
   "id": "71fff016-60c9-4d22-8315-d5ea2d5cdb78",
   "metadata": {},
   "source": [
    "# MATH 210 Introduction to Mathematical Computing\n",
    "\n",
    "**March 7, 2025**"
   ]
  },
  {
   "cell_type": "code",
   "execution_count": 1,
   "id": "9f52982b-d43c-457c-85a6-57b3789e73d2",
   "metadata": {},
   "outputs": [],
   "source": [
    "import numpy as np\n",
    "import matplotlib.pyplot as plt"
   ]
  },
  {
   "cell_type": "markdown",
   "id": "8562350b-f527-4435-8062-796baead9193",
   "metadata": {},
   "source": [
    "## Simpson's Rule\n",
    "\n",
    "$$\n",
    "S_N(f) = \\frac{\\Delta x}{3} \\sum_{m=1}^{N/2} \\left( f(x_{2m-2}) + 4 f(x_{2m-1}) + f(x_{2m}) \\right)\n",
    "$$"
   ]
  },
  {
   "cell_type": "markdown",
   "id": "09479118-75a0-44c4-a855-676c1e30b8b5",
   "metadata": {},
   "source": [
    "Note that the terms $f(x_{2m-2})$, $m=1,\\dots,N/2$, correspond to the entries with even index from 0 to N-2."
   ]
  },
  {
   "cell_type": "markdown",
   "id": "6bbb7afb-9408-4aef-9b98-b08879b7d9ef",
   "metadata": {},
   "source": [
    "For example if we want to approximate:\n",
    "\n",
    "$$\n",
    "\\int_0^{\\sqrt{\\pi/2}} \\sin(x^2) dx\n",
    "$$"
   ]
  },
  {
   "cell_type": "code",
   "execution_count": 2,
   "id": "e8d5d9a9-4d35-4eb3-a9ef-dac0f22fb36b",
   "metadata": {},
   "outputs": [],
   "source": [
    "f = lambda x: np.sin(x**2)\n",
    "a = 0\n",
    "b = np.sqrt(np.pi/2)\n",
    "N = 10\n",
    "dx = (b - a)/N\n",
    "x = np.linspace(a,b,N+1)\n",
    "y = f(x)"
   ]
  },
  {
   "cell_type": "code",
   "execution_count": 3,
   "id": "c055f255-30ac-4706-9d43-48979ed35c00",
   "metadata": {},
   "outputs": [
    {
     "data": {
      "text/plain": [
       "array([0.        , 0.12533141, 0.25066283, 0.37599424, 0.50132565,\n",
       "       0.62665707, 0.75198848, 0.8773199 , 1.00265131, 1.12798272,\n",
       "       1.25331414])"
      ]
     },
     "execution_count": 3,
     "metadata": {},
     "output_type": "execute_result"
    }
   ],
   "source": [
    "x"
   ]
  },
  {
   "cell_type": "code",
   "execution_count": 4,
   "id": "47da62be-2432-4665-8fd6-d20cecfeedea",
   "metadata": {},
   "outputs": [
    {
     "data": {
      "text/plain": [
       "array([0.        , 0.01570732, 0.06279052, 0.14090123, 0.24868989,\n",
       "       0.38268343, 0.53582679, 0.6959128 , 0.84432793, 0.95579301,\n",
       "       1.        ])"
      ]
     },
     "execution_count": 4,
     "metadata": {},
     "output_type": "execute_result"
    }
   ],
   "source": [
    "y"
   ]
  },
  {
   "cell_type": "markdown",
   "id": "7e458a13-e325-4e20-ad5d-59818601b33a",
   "metadata": {},
   "source": [
    "We can use fancy indexing to access the entries at even indices from 0 to N-2."
   ]
  },
  {
   "cell_type": "code",
   "execution_count": 5,
   "id": "e3a9a1ed-7dfe-4094-96b9-ae39e2c6bb68",
   "metadata": {},
   "outputs": [
    {
     "data": {
      "text/plain": [
       "array([0.        , 0.06279052, 0.24868989, 0.53582679, 0.84432793])"
      ]
     },
     "execution_count": 5,
     "metadata": {},
     "output_type": "execute_result"
    }
   ],
   "source": [
    "y[ range(0,N,2) ]"
   ]
  },
  {
   "cell_type": "markdown",
   "id": "853cfb5b-f312-4fe0-824c-9f111c541569",
   "metadata": {},
   "source": [
    "We can use fancy indexing to access the entries at odd indices from 1 to N-1."
   ]
  },
  {
   "cell_type": "code",
   "execution_count": 6,
   "id": "682b211c-3930-4ce2-b235-0e8224e39ec3",
   "metadata": {},
   "outputs": [
    {
     "data": {
      "text/plain": [
       "array([0.01570732, 0.14090123, 0.38268343, 0.6959128 , 0.95579301])"
      ]
     },
     "execution_count": 6,
     "metadata": {},
     "output_type": "execute_result"
    }
   ],
   "source": [
    "y[ range(1,N,2) ]"
   ]
  },
  {
   "cell_type": "markdown",
   "id": "4579fd84-9747-440e-b1a6-da3efc177b63",
   "metadata": {},
   "source": [
    "We can use fancy indexing to access the entries at even indices from 2 to N."
   ]
  },
  {
   "cell_type": "code",
   "execution_count": 7,
   "id": "92587902-87df-47e0-bc45-060f9d480133",
   "metadata": {},
   "outputs": [
    {
     "data": {
      "text/plain": [
       "array([0.06279052, 0.24868989, 0.53582679, 0.84432793, 1.        ])"
      ]
     },
     "execution_count": 7,
     "metadata": {},
     "output_type": "execute_result"
    }
   ],
   "source": [
    "y[ range(2,N+1,2) ]"
   ]
  },
  {
   "cell_type": "markdown",
   "id": "83c8f240-a749-49bd-ad5e-1da289561e03",
   "metadata": {},
   "source": [
    "Use fancy indexing to write a function called `simps` which takes `f`, `a`, `b`, `N`, and returns the Simpson's rule approximation."
   ]
  },
  {
   "cell_type": "code",
   "execution_count": 8,
   "id": "e608e3fe-6bff-4445-bad8-aa17cefe4947",
   "metadata": {},
   "outputs": [],
   "source": [
    "def simps(f,a,b,N):\n",
    "    dx = (b - a)/N\n",
    "    x = np.linspace(a,b,N+1)\n",
    "    y = f(x)\n",
    "    SN = dx/3*np.sum( y[ range(0,N,2) ] + 4*y[ range(1,N,2) ] + y[ range(2,N+1,2) ])\n",
    "    return SN"
   ]
  },
  {
   "cell_type": "markdown",
   "id": "90033668-1344-4989-bc5a-4c29685c7b40",
   "metadata": {},
   "source": [
    "Let's compute a very accurate solution with `scipy.integrate.quad`"
   ]
  },
  {
   "cell_type": "code",
   "execution_count": 14,
   "id": "4e1ba92b-ff98-407b-84d9-9b7408175224",
   "metadata": {},
   "outputs": [],
   "source": [
    "import scipy.integrate as spi"
   ]
  },
  {
   "cell_type": "code",
   "execution_count": 15,
   "id": "2f4b91a7-70b5-4645-8de4-686c9b077c8d",
   "metadata": {},
   "outputs": [],
   "source": [
    "I,err = spi.quad(f,a,b)"
   ]
  },
  {
   "cell_type": "code",
   "execution_count": 16,
   "id": "9ea4634c-87f8-4710-8f1e-42a0d60707a9",
   "metadata": {},
   "outputs": [
    {
     "data": {
      "text/plain": [
       "0.549276385232169"
      ]
     },
     "execution_count": 16,
     "metadata": {},
     "output_type": "execute_result"
    }
   ],
   "source": [
    "I"
   ]
  },
  {
   "cell_type": "code",
   "execution_count": 17,
   "id": "98701e96-58ab-4b8d-bab8-513f9202bf8d",
   "metadata": {},
   "outputs": [
    {
     "data": {
      "text/plain": [
       "6.098192897676314e-15"
      ]
     },
     "execution_count": 17,
     "metadata": {},
     "output_type": "execute_result"
    }
   ],
   "source": [
    "err"
   ]
  },
  {
   "cell_type": "code",
   "execution_count": 18,
   "id": "06c3f78e-72eb-4fd1-8617-c306d3aec933",
   "metadata": {},
   "outputs": [
    {
     "data": {
      "text/plain": [
       "0.5492763831697424"
      ]
     },
     "execution_count": 18,
     "metadata": {},
     "output_type": "execute_result"
    }
   ],
   "source": [
    "simps(f,a,b,100)"
   ]
  },
  {
   "cell_type": "markdown",
   "id": "43ccb604-c1db-4383-9541-94eb54f4b183",
   "metadata": {},
   "source": [
    "Now let us compute $S_N(f)$ for different values $N$ and record the error (compared to `quad` approximation)."
   ]
  },
  {
   "cell_type": "code",
   "execution_count": 19,
   "id": "3720382c-d103-4ddd-9cd2-0322c40b30af",
   "metadata": {},
   "outputs": [],
   "source": [
    "Ns = [2,4,8,16,32,64,128]\n",
    "Es = []\n",
    "for N in Ns:\n",
    "    SN = simps(f,a,b,N)\n",
    "    error = np.abs(I - SN)\n",
    "    Es.append(error)"
   ]
  },
  {
   "cell_type": "markdown",
   "id": "b9df718c-9218-426c-b643-ad7931d745c2",
   "metadata": {},
   "source": [
    "Plot $\\log(N)$ versus $\\log(E)$."
   ]
  },
  {
   "cell_type": "code",
   "execution_count": 20,
   "id": "4f971503-6549-4f0c-9597-263c083a34f7",
   "metadata": {},
   "outputs": [
    {
     "data": {
      "image/png": "[encoded data removed]",
      "text/plain": [
       "<Figure size 640x480 with 1 Axes>"
      ]
     },
     "metadata": {},
     "output_type": "display_data"
    }
   ],
   "source": [
    "plt.loglog(Ns,Es,'.-')\n",
    "plt.show()"
   ]
  },
  {
   "cell_type": "markdown",
   "id": "c9016d2d-f042-4e95-8023-94298290b771",
   "metadata": {},
   "source": [
    "The line has slope -4. Where does that from? The error bound formula!\n",
    "\n",
    "The figure shows use that the error is $E \\approx C N^{-4}$. This agrees with the error bound formula."
   ]
  }
 ],
 "metadata": {
  "kernelspec": {
   "display_name": "Python 3 (ipykernel)",
   "language": "python",
   "name": "python3"
  },
  "language_info": {
   "codemirror_mode": {
    "name": "ipython",
    "version": 3
   },
   "file_extension": ".py",
   "mimetype": "text/x-python",
   "name": "python",
   "nbconvert_exporter": "python",
   "pygments_lexer": "ipython3",
   "version": "3.12.8"
  }
 },
 "nbformat": 4,
 "nbformat_minor": 5
}
