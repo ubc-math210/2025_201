{
 "cells": [
  {
   "cell_type": "markdown",
   "id": "488b6d5e-eaa7-415b-91c7-466a148edac4",
   "metadata": {},
   "source": [
    "# MATH 210 Introduction to Mathematical Computing\n",
    "\n",
    "**January 24, 2025**\n",
    "\n",
    "* `for` loops\n",
    "* Factorial\n",
    "* Exponential Taylor Series\n",
    "* Recursive Sequences"
   ]
  },
  {
   "cell_type": "markdown",
   "id": "0886d92a-2512-453c-b3e9-651aedad3388",
   "metadata": {},
   "source": [
    "## `for` Loops\n",
    "\n",
    "A `for` loop allows us to execute a block of Python code multiple times with different inpuut. the syntax is:\n",
    "\n",
    "```\n",
    "for item in sequence:\n",
    "    Python code block\n",
    "    Python code block\n",
    "```\n",
    "\n",
    "where:\n",
    "\n",
    "* `for` is a keyword that starts the loop\n",
    "* `item` is a variable name\n",
    "* `in` is a keyword\n",
    "* `sequence` is any sequence of values\n",
    "* execute the code block for each value in sequence\n",
    "* `for` statement ends with `:`\n",
    "* code block is indented 4 spaces"
   ]
  },
  {
   "cell_type": "code",
   "execution_count": 1,
   "id": "33183d50-ead4-408b-8f31-34c9e6504034",
   "metadata": {},
   "outputs": [
    {
     "name": "stdout",
     "output_type": "stream",
     "text": [
      "0\n",
      "1\n",
      "4\n",
      "9\n",
      "16\n",
      "25\n",
      "36\n",
      "49\n",
      "64\n",
      "81\n",
      "100\n",
      "Done!\n"
     ]
    }
   ],
   "source": [
    "for n in range(11):\n",
    "    value = n**2\n",
    "    print(value)\n",
    "\n",
    "print(\"Done!\")"
   ]
  },
  {
   "cell_type": "code",
   "execution_count": 2,
   "id": "88e426a4-51e4-435b-bef2-ec035fa35ba8",
   "metadata": {},
   "outputs": [
    {
     "name": "stdout",
     "output_type": "stream",
     "text": [
      "0\n",
      "1\n",
      "4\n",
      "9\n",
      "16\n",
      "25\n",
      "36\n",
      "49\n",
      "64\n",
      "81\n",
      "100\n",
      "Done!\n"
     ]
    }
   ],
   "source": [
    "squares = [n**2 for n in range(11)]\n",
    "for square in squares:\n",
    "    print(square)\n",
    "\n",
    "print(\"Done!\")"
   ]
  },
  {
   "cell_type": "markdown",
   "id": "836665d6-4505-46bf-aa0a-8d5895bed6f4",
   "metadata": {},
   "source": [
    "# Factorial\n",
    "\n",
    "The factorial function is $n! = n(n-1)(n-1) \\cdots (2)(1)$. Let's think of it as a sequence:\n",
    "\n",
    "$$\n",
    "1,1,2,6,24,120,720,...\n",
    "$$\n",
    "\n",
    "We can write this as a recursive sequence $x_0 = 1$, $x_{k} = k x_{k-1}$.\n",
    "\n",
    "Write a function called `factorial` which takes integer `n` (greater than or equal to 0) and returns $n!$."
   ]
  },
  {
   "cell_type": "code",
   "execution_count": 3,
   "id": "e35663bd-e16f-4d36-9e03-d7ead4bfc7cf",
   "metadata": {},
   "outputs": [],
   "source": [
    "def factorial(n):\n",
    "    xk = 1\n",
    "    for k in range(2,n+1):\n",
    "        xk = k*xk\n",
    "    return xk"
   ]
  },
  {
   "cell_type": "code",
   "execution_count": 4,
   "id": "fc8a7bea-f361-4fdb-bd97-8a9c243c1e00",
   "metadata": {},
   "outputs": [
    {
     "data": {
      "text/plain": [
       "[]"
      ]
     },
     "execution_count": 4,
     "metadata": {},
     "output_type": "execute_result"
    }
   ],
   "source": [
    "list(range(1,1))"
   ]
  },
  {
   "cell_type": "code",
   "execution_count": 5,
   "id": "b59661bb-32ee-43a2-8d92-864732cad17d",
   "metadata": {},
   "outputs": [
    {
     "data": {
      "text/plain": [
       "1"
      ]
     },
     "execution_count": 5,
     "metadata": {},
     "output_type": "execute_result"
    }
   ],
   "source": [
    "factorial(0) # 1"
   ]
  },
  {
   "cell_type": "code",
   "execution_count": 6,
   "id": "260a989e-03ca-4287-9bf3-5af4b80c9ea1",
   "metadata": {},
   "outputs": [
    {
     "data": {
      "text/plain": [
       "1"
      ]
     },
     "execution_count": 6,
     "metadata": {},
     "output_type": "execute_result"
    }
   ],
   "source": [
    "factorial(1) # 1"
   ]
  },
  {
   "cell_type": "code",
   "execution_count": 7,
   "id": "4e1bdb30-5cfb-44c7-8073-28fb905e27e6",
   "metadata": {},
   "outputs": [
    {
     "data": {
      "text/plain": [
       "120"
      ]
     },
     "execution_count": 7,
     "metadata": {},
     "output_type": "execute_result"
    }
   ],
   "source": [
    "factorial(5) # 120"
   ]
  },
  {
   "cell_type": "code",
   "execution_count": 8,
   "id": "52115679-9f78-42a9-a1b2-32850aa585fd",
   "metadata": {},
   "outputs": [
    {
     "data": {
      "text/plain": [
       "3628800"
      ]
     },
     "execution_count": 8,
     "metadata": {},
     "output_type": "execute_result"
    }
   ],
   "source": [
    "factorial(10) # 3628800"
   ]
  },
  {
   "cell_type": "code",
   "execution_count": 9,
   "id": "557b5af1-6ba1-4d77-a247-9564e5073696",
   "metadata": {},
   "outputs": [
    {
     "data": {
      "text/plain": [
       "3628800"
      ]
     },
     "execution_count": 9,
     "metadata": {},
     "output_type": "execute_result"
    }
   ],
   "source": [
    "10*9*8*7*6*5*4*3*2"
   ]
  },
  {
   "cell_type": "markdown",
   "id": "70b5d4fc-90bc-4c92-88f5-92260fc8ded2",
   "metadata": {},
   "source": [
    "## Exponential Taylor Series\n",
    "\n",
    "The Taylor series of the exponential is\n",
    "\n",
    "$$\n",
    "e^x = \\sum_{n=0}^{\\infty} \\frac{x^n}{n!}\n",
    "$$\n",
    "\n",
    "Write a function called `exp_taylor` which takes input `x` and `N` and returns the partial sum of the Taylor series\n",
    "\n",
    "$$\n",
    "\\sum_{n=0}^{N} \\frac{x^n}{n!}\n",
    "$$"
   ]
  },
  {
   "cell_type": "code",
   "execution_count": 10,
   "id": "69103ff3-8d49-4b14-93c3-416175991f5d",
   "metadata": {},
   "outputs": [],
   "source": [
    "def exp_taylor(x,N):\n",
    "    terms = [x**n/factorial(n) for n in range(N+1)]\n",
    "    value = sum(terms)\n",
    "    return value"
   ]
  },
  {
   "cell_type": "code",
   "execution_count": 11,
   "id": "4245c29e-f97d-453a-a387-4fda23022a9b",
   "metadata": {},
   "outputs": [
    {
     "data": {
      "text/plain": [
       "2.718281828459045"
      ]
     },
     "execution_count": 11,
     "metadata": {},
     "output_type": "execute_result"
    }
   ],
   "source": [
    "exp_taylor(1,1000) # 2.71828..."
   ]
  },
  {
   "cell_type": "code",
   "execution_count": 12,
   "id": "f5d3032a-f578-4d48-a762-f8272daecebe",
   "metadata": {},
   "outputs": [
    {
     "data": {
      "text/plain": [
       "6.333333333333333"
      ]
     },
     "execution_count": 12,
     "metadata": {},
     "output_type": "execute_result"
    }
   ],
   "source": [
    "exp_taylor(2,3) # 1 + 2 + 2**2/2 + 2**3/6 = 19/3"
   ]
  },
  {
   "cell_type": "code",
   "execution_count": 13,
   "id": "e602facc-c26b-4de3-a7d2-a3d9624a5d6c",
   "metadata": {},
   "outputs": [
    {
     "data": {
      "text/plain": [
       "6.333333333333333"
      ]
     },
     "execution_count": 13,
     "metadata": {},
     "output_type": "execute_result"
    }
   ],
   "source": [
    "19/3"
   ]
  },
  {
   "cell_type": "markdown",
   "id": "12028b4c-f01c-4993-9868-f6ac127e9b0b",
   "metadata": {},
   "source": [
    "## Recursive Sequences\n",
    "\n",
    "A recursive sequence is a sequence where value $x_n$ depends on the previous values $x_{n-1},x_{n-2},\\dots$. For example, if $f(x)$ is any function and $a$ is any number we can define: $x_0 = a$, $x_{n+1} = f(x_n)$."
   ]
  },
  {
   "cell_type": "markdown",
   "id": "fd61243b-e607-43a0-b16c-26559448a38e",
   "metadata": {},
   "source": [
    "Write a function called `aseq` which takes `a` and `N` and returns the value $x_N$ of the recursive sequence $x_0 = a$, $x_{n+1} = \\sqrt{2 + x_n}$."
   ]
  },
  {
   "cell_type": "code",
   "execution_count": 14,
   "id": "cdebbbe9-626d-48ce-a1f1-6424c042775c",
   "metadata": {},
   "outputs": [],
   "source": [
    "def aseq(a,N):\n",
    "    xk = a\n",
    "    for k in range(N):\n",
    "        xk = (2 + xk)**0.5\n",
    "    return xk"
   ]
  },
  {
   "cell_type": "code",
   "execution_count": 15,
   "id": "1b874ed4-a051-452a-b11d-7f374cc7085a",
   "metadata": {},
   "outputs": [
    {
     "data": {
      "text/plain": [
       "1.9318516525781366"
      ]
     },
     "execution_count": 15,
     "metadata": {},
     "output_type": "execute_result"
    }
   ],
   "source": [
    "aseq(1,2) # x0 = 1, x1 = 3**0.5, x2 = (2 + 3**0.5)**0.5"
   ]
  },
  {
   "cell_type": "code",
   "execution_count": 16,
   "id": "c6385504-6f45-4f7f-92b6-f4e7b0d551ce",
   "metadata": {},
   "outputs": [
    {
     "data": {
      "text/plain": [
       "1.9318516525781366"
      ]
     },
     "execution_count": 16,
     "metadata": {},
     "output_type": "execute_result"
    }
   ],
   "source": [
    "(2 + 3**0.5)**0.5"
   ]
  },
  {
   "cell_type": "code",
   "execution_count": 17,
   "id": "4be656b8-954f-48be-9d5f-35cfea07a82b",
   "metadata": {},
   "outputs": [
    {
     "data": {
      "text/plain": [
       "2.23606797749979"
      ]
     },
     "execution_count": 17,
     "metadata": {},
     "output_type": "execute_result"
    }
   ],
   "source": [
    "aseq(3,1) # x0 = 3, x1 = 5**0.5"
   ]
  },
  {
   "cell_type": "code",
   "execution_count": 18,
   "id": "db81886b-b744-47f9-9464-917e7b4c73ce",
   "metadata": {},
   "outputs": [
    {
     "data": {
      "text/plain": [
       "2.23606797749979"
      ]
     },
     "execution_count": 18,
     "metadata": {},
     "output_type": "execute_result"
    }
   ],
   "source": [
    "5**0.5"
   ]
  },
  {
   "cell_type": "code",
   "execution_count": 19,
   "id": "613b05ee-2c3c-4e7a-9d69-e8dd6b2d18b3",
   "metadata": {},
   "outputs": [
    {
     "data": {
      "text/plain": [
       "2.0"
      ]
     },
     "execution_count": 19,
     "metadata": {},
     "output_type": "execute_result"
    }
   ],
   "source": [
    "aseq(5,200)"
   ]
  },
  {
   "cell_type": "markdown",
   "id": "eb752806-6651-43af-9e64-ba9ebbcf341c",
   "metadata": {},
   "source": [
    "It looks like the sequence converges to 2 no matter what the initial value is. Why?"
   ]
  }
 ],
 "metadata": {
  "kernelspec": {
   "display_name": "Python 3 (ipykernel)",
   "language": "python",
   "name": "python3"
  },
  "language_info": {
   "codemirror_mode": {
    "name": "ipython",
    "version": 3
   },
   "file_extension": ".py",
   "mimetype": "text/x-python",
   "name": "python",
   "nbconvert_exporter": "python",
   "pygments_lexer": "ipython3",
   "version": "3.12.8"
  }
 },
 "nbformat": 4,
 "nbformat_minor": 5
}
