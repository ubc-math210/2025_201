{
 "cells": [
  {
   "cell_type": "markdown",
   "id": "40717bdd-8cc4-4b70-ba21-ff8ce86039d7",
   "metadata": {},
   "source": [
    "# MATH 210 Introduction to Mathematical Computing\n",
    "\n",
    "**March 5, 2025**"
   ]
  },
  {
   "cell_type": "code",
   "execution_count": 1,
   "id": "a5bfa556-ef10-49bd-b7aa-0ed5eba00a52",
   "metadata": {},
   "outputs": [],
   "source": [
    "import numpy as np\n",
    "import matplotlib.pyplot as plt"
   ]
  },
  {
   "cell_type": "markdown",
   "id": "77f4b2db-1bad-4513-b9e6-97b4b3aab5a0",
   "metadata": {},
   "source": [
    "## Simpson's Rule\n",
    "\n",
    "Find $N$ which guarantees $E_N^S(f) < 0.01$ for $\\int_0^1 e^{-x^2} dx$."
   ]
  },
  {
   "cell_type": "code",
   "execution_count": 7,
   "id": "301b628c-3da2-4afb-93a9-f263c3d02400",
   "metadata": {},
   "outputs": [],
   "source": [
    "f = lambda x: np.exp(-x**2)\n",
    "d4f = lambda x: np.exp(-x**2)*(12 - 48*x**2 + 16*x**4)"
   ]
  },
  {
   "cell_type": "code",
   "execution_count": 8,
   "id": "dfd25d66-3b42-440b-a07a-81b8818f7b3c",
   "metadata": {},
   "outputs": [
    {
     "data": {
      "image/png": "[encoded data removed]",
      "text/plain": [
       "<Figure size 1000x300 with 1 Axes>"
      ]
     },
     "metadata": {},
     "output_type": "display_data"
    }
   ],
   "source": [
    "x = np.linspace(0,1,200)\n",
    "plt.figure(figsize=(10,3))\n",
    "plt.plot(x,d4f(x))\n",
    "plt.show()"
   ]
  },
  {
   "cell_type": "markdown",
   "id": "21c8ae91-70fb-4178-b7e0-f382496a31f3",
   "metadata": {},
   "source": [
    "We see that $|f''''(x)| \\leq 12$ for $x \\in [0,1]$."
   ]
  },
  {
   "cell_type": "code",
   "execution_count": 9,
   "id": "2be76257-1cb1-414b-b454-eaf5419213a9",
   "metadata": {},
   "outputs": [
    {
     "data": {
      "text/plain": [
       "1.6068568378893033"
      ]
     },
     "execution_count": 9,
     "metadata": {},
     "output_type": "execute_result"
    }
   ],
   "source": [
    "N = (12/180/0.01)**0.25\n",
    "N"
   ]
  },
  {
   "cell_type": "markdown",
   "id": "aa3e7886-aa95-4f1f-b11a-084176267fd4",
   "metadata": {},
   "source": [
    "Choose $N=2$ and compute:"
   ]
  },
  {
   "cell_type": "code",
   "execution_count": 10,
   "id": "61ec9619-dbf1-4ed6-a7ee-d933b75506af",
   "metadata": {},
   "outputs": [
    {
     "data": {
      "text/plain": [
       "0.7471804289095104"
      ]
     },
     "execution_count": 10,
     "metadata": {},
     "output_type": "execute_result"
    }
   ],
   "source": [
    "a = 0\n",
    "b = 1\n",
    "N = 2\n",
    "dx = (b - a)/N\n",
    "SN = dx/3*(f(a) + 4*f((a + b)/2) + f(b))\n",
    "SN"
   ]
  },
  {
   "cell_type": "markdown",
   "id": "d96fa544-452d-4a9f-ae5b-f5be3add950b",
   "metadata": {},
   "source": [
    "Equivalent to the following:"
   ]
  },
  {
   "cell_type": "code",
   "execution_count": 11,
   "id": "7443aa53-beb2-4b87-b72c-26eb32299471",
   "metadata": {},
   "outputs": [
    {
     "data": {
      "text/plain": [
       "0.7471804289095104"
      ]
     },
     "execution_count": 11,
     "metadata": {},
     "output_type": "execute_result"
    }
   ],
   "source": [
    "1/6*(1 + 4*np.exp(-1/4) + np.exp(-1))"
   ]
  },
  {
   "cell_type": "markdown",
   "id": "16fd2d64-7f53-4bb9-a3ea-0920cd368a96",
   "metadata": {},
   "source": [
    "Try error less than $10^{-6}$."
   ]
  },
  {
   "cell_type": "code",
   "execution_count": 12,
   "id": "d1b6e172-042f-49f4-92e8-8da847409124",
   "metadata": {},
   "outputs": [
    {
     "data": {
      "text/plain": [
       "16.068568378893033"
      ]
     },
     "execution_count": 12,
     "metadata": {},
     "output_type": "execute_result"
    }
   ],
   "source": [
    "N = (12/180/1e-6)**0.25\n",
    "N"
   ]
  },
  {
   "cell_type": "markdown",
   "id": "1b5c854d-242b-42f5-9138-f6988e129bca",
   "metadata": {},
   "source": [
    "Use the SciPy function for Simpson's rule."
   ]
  },
  {
   "cell_type": "code",
   "execution_count": 13,
   "id": "8ffebcd4-b03a-4b39-88c1-e336b4c03168",
   "metadata": {},
   "outputs": [],
   "source": [
    "import scipy.integrate as spi"
   ]
  },
  {
   "cell_type": "markdown",
   "id": "4adf001c-3f95-40a8-b4bb-00921f8528c7",
   "metadata": {},
   "source": [
    "For $N=2$:"
   ]
  },
  {
   "cell_type": "code",
   "execution_count": 18,
   "id": "0b59ce92-639c-4c5d-ab9e-f84d13419dc0",
   "metadata": {},
   "outputs": [
    {
     "data": {
      "text/plain": [
       "0.7471804289095104"
      ]
     },
     "execution_count": 18,
     "metadata": {},
     "output_type": "execute_result"
    }
   ],
   "source": [
    "a = 0\n",
    "b = 1\n",
    "N = 2\n",
    "dx = (b - a)/N\n",
    "x = np.linspace(a,b,N+1)\n",
    "y = f(x)\n",
    "SN = spi.simpson(y,x=x)\n",
    "SN"
   ]
  },
  {
   "cell_type": "markdown",
   "id": "8024d5fb-b1a7-4dd0-91ec-abe37d210b6b",
   "metadata": {},
   "source": [
    "Same as above. Now try $N = 18$:"
   ]
  },
  {
   "cell_type": "code",
   "execution_count": 19,
   "id": "94150f3e-48e0-44a6-8115-8f4a77b54492",
   "metadata": {},
   "outputs": [
    {
     "data": {
      "text/plain": [
       "0.7468242106299984"
      ]
     },
     "execution_count": 19,
     "metadata": {},
     "output_type": "execute_result"
    }
   ],
   "source": [
    "N = 18\n",
    "dx = (b - a)/N\n",
    "x = np.linspace(a,b,N+1)\n",
    "y = f(x)\n",
    "SN = spi.simpson(y,x=x)\n",
    "SN"
   ]
  },
  {
   "cell_type": "markdown",
   "id": "ff6c3e93-4998-47b9-b870-908a5e1ac382",
   "metadata": {},
   "source": [
    "The function `scipy.integrate.quad` approximates the integral using Gaussian quadrature. The function returns the approximation and an bound on the error."
   ]
  },
  {
   "cell_type": "code",
   "execution_count": 20,
   "id": "123c7363-f125-4bfd-b9b8-35530623def6",
   "metadata": {},
   "outputs": [],
   "source": [
    "I,err = spi.quad(f,a,b)"
   ]
  },
  {
   "cell_type": "code",
   "execution_count": 21,
   "id": "bc29740e-c96e-4f4b-bc0d-161430242ce8",
   "metadata": {},
   "outputs": [
    {
     "data": {
      "text/plain": [
       "0.7468241328124271"
      ]
     },
     "execution_count": 21,
     "metadata": {},
     "output_type": "execute_result"
    }
   ],
   "source": [
    "I"
   ]
  },
  {
   "cell_type": "code",
   "execution_count": 22,
   "id": "d8b57067-c340-44dc-b828-f4bf9bb38048",
   "metadata": {},
   "outputs": [
    {
     "data": {
      "text/plain": [
       "8.291413475940725e-15"
      ]
     },
     "execution_count": 22,
     "metadata": {},
     "output_type": "execute_result"
    }
   ],
   "source": [
    "err"
   ]
  }
 ],
 "metadata": {
  "kernelspec": {
   "display_name": "Python 3 (ipykernel)",
   "language": "python",
   "name": "python3"
  },
  "language_info": {
   "codemirror_mode": {
    "name": "ipython",
    "version": 3
   },
   "file_extension": ".py",
   "mimetype": "text/x-python",
   "name": "python",
   "nbconvert_exporter": "python",
   "pygments_lexer": "ipython3",
   "version": "3.12.8"
  }
 },
 "nbformat": 4,
 "nbformat_minor": 5
}
