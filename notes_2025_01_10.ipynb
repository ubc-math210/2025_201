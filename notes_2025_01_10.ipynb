{
 "cells": [
  {
   "cell_type": "markdown",
   "id": "d4da6871-b389-438b-8b80-9049c3d9b426",
   "metadata": {},
   "source": [
    "# MATH 210 Introduction to Mathematical Computing\n",
    "\n",
    "**January 10, 2025**\n",
    "\n",
    "* Numeric types: integer, float and complex\n",
    "* Arithmetic operations\n",
    "* Examples: roots and Taylor series\n",
    "* Variables"
   ]
  },
  {
   "cell_type": "markdown",
   "id": "76daa42e-7848-489c-874a-d9a06d990cd8",
   "metadata": {},
   "source": [
    "## Numeric Types\n",
    "\n",
    "There are 3 main numeric types: integer, float and complex. \n",
    "\n",
    "We have the usual arithmetic operations: `+`, `-`, `*`, `/` and `**`.\n",
    "\n",
    "Integers are whole numbers like 42 and -6."
   ]
  },
  {
   "cell_type": "code",
   "execution_count": 1,
   "id": "413a24fe-3071-4b01-8538-9002fcfa8f05",
   "metadata": {},
   "outputs": [
    {
     "data": {
      "text/plain": [
       "3"
      ]
     },
     "execution_count": 1,
     "metadata": {},
     "output_type": "execute_result"
    }
   ],
   "source": [
    "1 + 2"
   ]
  },
  {
   "cell_type": "code",
   "execution_count": 2,
   "id": "e4560cf8-2541-4160-ab13-972069ee8710",
   "metadata": {},
   "outputs": [
    {
     "data": {
      "text/plain": [
       "-3"
      ]
     },
     "execution_count": 2,
     "metadata": {},
     "output_type": "execute_result"
    }
   ],
   "source": [
    "8 - 11"
   ]
  },
  {
   "cell_type": "code",
   "execution_count": 3,
   "id": "6a573b6e-2936-43fe-9d97-30c262ac61c5",
   "metadata": {},
   "outputs": [
    {
     "data": {
      "text/plain": [
       "120"
      ]
     },
     "execution_count": 3,
     "metadata": {},
     "output_type": "execute_result"
    }
   ],
   "source": [
    "5*4*3*2*1"
   ]
  },
  {
   "cell_type": "code",
   "execution_count": 4,
   "id": "8e2e88ee-bd84-4e8e-afbd-f12117e6da8a",
   "metadata": {},
   "outputs": [
    {
     "data": {
      "text/plain": [
       "32"
      ]
     },
     "execution_count": 4,
     "metadata": {},
     "output_type": "execute_result"
    }
   ],
   "source": [
    "2**5"
   ]
  },
  {
   "cell_type": "markdown",
   "id": "41400dba-601a-4831-aab9-72c0a1e110f1",
   "metadata": {},
   "source": [
    "Group operations together using parentheses `( ... )` and not square brackets `[ ... ]` or curly brackets `{ ... }`."
   ]
  },
  {
   "cell_type": "code",
   "execution_count": 10,
   "id": "3d69a83b-a4b2-4ef5-af69-ddb62a3fd48b",
   "metadata": {},
   "outputs": [
    {
     "data": {
      "text/plain": [
       "0.1"
      ]
     },
     "execution_count": 10,
     "metadata": {},
     "output_type": "execute_result"
    }
   ],
   "source": [
    "1/(1 + 2 + 3 + 4)"
   ]
  },
  {
   "cell_type": "code",
   "execution_count": 15,
   "id": "b1894cde-66dc-4bd4-838f-9af41869305c",
   "metadata": {},
   "outputs": [
    {
     "data": {
      "text/plain": [
       "10.0"
      ]
     },
     "execution_count": 15,
     "metadata": {},
     "output_type": "execute_result"
    }
   ],
   "source": [
    "100/10"
   ]
  },
  {
   "cell_type": "markdown",
   "id": "714b48bb-769b-42f4-b60f-a937956296df",
   "metadata": {},
   "source": [
    "Notice that division of integers always returns a float even if theoretically the answer is a whole number.\n",
    "\n",
    "A float (aka floating point number) is a real number in decimal form (up to 16 decimal places)."
   ]
  },
  {
   "cell_type": "code",
   "execution_count": 16,
   "id": "a627ad51-0e61-4f40-af79-2365a9ddef12",
   "metadata": {},
   "outputs": [
    {
     "data": {
      "text/plain": [
       "3.1415926"
      ]
     },
     "execution_count": 16,
     "metadata": {},
     "output_type": "execute_result"
    }
   ],
   "source": [
    "3.1415926"
   ]
  },
  {
   "cell_type": "code",
   "execution_count": 17,
   "id": "4c05c6a7-3b28-45bb-8a5d-58da75855a78",
   "metadata": {},
   "outputs": [
    {
     "data": {
      "text/plain": [
       "1.4142135623730951"
      ]
     },
     "execution_count": 17,
     "metadata": {},
     "output_type": "execute_result"
    }
   ],
   "source": [
    "2**(1/2)"
   ]
  },
  {
   "cell_type": "markdown",
   "id": "c3fc03d6-ee42-40ec-b82e-b88864332998",
   "metadata": {},
   "source": [
    "A complex number is written with the syntax `x + yj` where `x` and `y` are numbers. The symbol `1j` represents $\\sqrt{-1}$. "
   ]
  },
  {
   "cell_type": "code",
   "execution_count": 22,
   "id": "025acb6f-c64c-453b-acd5-dee176a6db53",
   "metadata": {},
   "outputs": [
    {
     "data": {
      "text/plain": [
       "(5-5j)"
      ]
     },
     "execution_count": 22,
     "metadata": {},
     "output_type": "execute_result"
    }
   ],
   "source": [
    "(2 + 1j)*(1 - 3j)"
   ]
  },
  {
   "cell_type": "code",
   "execution_count": 23,
   "id": "4eecdb28-df51-47ac-89eb-48612f78ea31",
   "metadata": {},
   "outputs": [
    {
     "data": {
      "text/plain": [
       "(6.123233995736766e-17+1j)"
      ]
     },
     "execution_count": 23,
     "metadata": {},
     "output_type": "execute_result"
    }
   ],
   "source": [
    "(-1)**0.5"
   ]
  },
  {
   "cell_type": "markdown",
   "id": "860e4ce2-aeb9-4938-9a5f-d955be2ab5f0",
   "metadata": {},
   "source": [
    "Use scientific notation to create floats:"
   ]
  },
  {
   "cell_type": "code",
   "execution_count": 24,
   "id": "86d36a45-1aff-4a8b-9547-f6d006c238eb",
   "metadata": {},
   "outputs": [
    {
     "data": {
      "text/plain": [
       "0.001"
      ]
     },
     "execution_count": 24,
     "metadata": {},
     "output_type": "execute_result"
    }
   ],
   "source": [
    "1e-3"
   ]
  },
  {
   "cell_type": "markdown",
   "id": "5ad7199e-4394-4025-9a0a-7312e6680424",
   "metadata": {},
   "source": [
    "Python saves floats up to 16 decimal places and so we always get some rounding error at the 16th decimal place. We just have to be aware of it."
   ]
  },
  {
   "cell_type": "code",
   "execution_count": 25,
   "id": "ed322e60-1afb-4b94-9692-fdeb9dc1552b",
   "metadata": {},
   "outputs": [
    {
     "data": {
      "text/plain": [
       "0.30000000000000004"
      ]
     },
     "execution_count": 25,
     "metadata": {},
     "output_type": "execute_result"
    }
   ],
   "source": [
    "0.1 + 0.2"
   ]
  },
  {
   "cell_type": "markdown",
   "id": "6bc57c31-bbc6-44fd-b6cd-f17821a61088",
   "metadata": {},
   "source": [
    "We interpret numbers like 1e-16 as 0."
   ]
  },
  {
   "cell_type": "markdown",
   "id": "8f89d15c-3be0-45b3-98ac-36c1b05506ce",
   "metadata": {},
   "source": [
    "## Examples\n",
    "\n",
    "The quadratic formula computes roots of degree 2 polynomial $ax^2 + bx + c$ in terms of the coefficients.\n",
    "\n",
    "$$\n",
    "\\frac{-b \\pm \\sqrt{b^2 - 4ac}}{2a}\n",
    "$$\n",
    "\n",
    "Compute the roots of $2x^2 - x - 2$."
   ]
  },
  {
   "cell_type": "code",
   "execution_count": 28,
   "id": "4ad88117-05b3-48fe-9e98-52b101deff25",
   "metadata": {},
   "outputs": [
    {
     "data": {
      "text/plain": [
       "1.2807764064044151"
      ]
     },
     "execution_count": 28,
     "metadata": {},
     "output_type": "execute_result"
    }
   ],
   "source": [
    "(-(-1) + ((-1)**2 - 4*(2)*(-2))**0.5)/(2*2)"
   ]
  },
  {
   "cell_type": "code",
   "execution_count": 29,
   "id": "c10b4392-3c93-4e08-a6f1-908099ef81fd",
   "metadata": {},
   "outputs": [
    {
     "data": {
      "text/plain": [
       "-0.7807764064044151"
      ]
     },
     "execution_count": 29,
     "metadata": {},
     "output_type": "execute_result"
    }
   ],
   "source": [
    "(-(-1) - ((-1)**2 - 4*(2)*(-2))**0.5)/(2*2)"
   ]
  },
  {
   "cell_type": "markdown",
   "id": "fb436dca-cc8c-43ae-bc2a-79f47ae9a951",
   "metadata": {},
   "source": [
    "The Taylor series of $f(x)$ centered at $x=a$ is the series\n",
    "\n",
    "$$\n",
    "\\sum_{n=0}^{\\infty} \\frac{f^{(n)}(a)}{n!} (x - a)^n\n",
    "$$\n",
    "\n",
    "For example, the Taylor series of $f(x)=e^x$ centered at $x=0$ is\n",
    "\n",
    "$$\n",
    "\\sum_{n=0}^{\\infty} \\frac{x^n}{n!}\n",
    "$$\n",
    "\n",
    "Approximate $e$ using the first 6 terms of the Taylor series."
   ]
  },
  {
   "cell_type": "code",
   "execution_count": 30,
   "id": "0054ac9f-f3da-4f24-b21d-c8dc41c577c2",
   "metadata": {},
   "outputs": [
    {
     "data": {
      "text/plain": [
       "2.7166666666666663"
      ]
     },
     "execution_count": 30,
     "metadata": {},
     "output_type": "execute_result"
    }
   ],
   "source": [
    "1 + 1 + 1/2 + 1/(3*2) + 1/(4*3*2) + 1/(5*4*3*2)"
   ]
  },
  {
   "cell_type": "markdown",
   "id": "06208021-dbba-42ff-91e3-5ddca7fdeda1",
   "metadata": {},
   "source": [
    "## Variables\n",
    "\n",
    "Use variables to easily modify and combine values together. Use the assignment operator `=` to assign a value to a variable."
   ]
  },
  {
   "cell_type": "code",
   "execution_count": 31,
   "id": "c3a41c3f-c6af-4796-bb82-203380e38d3d",
   "metadata": {},
   "outputs": [],
   "source": [
    "x = 2025"
   ]
  },
  {
   "cell_type": "markdown",
   "id": "3b6fda55-9cc3-406a-b6a4-281cf9e4f654",
   "metadata": {},
   "source": [
    "Use the function `print` to display the value assigned to a variable."
   ]
  },
  {
   "cell_type": "code",
   "execution_count": 32,
   "id": "a0df7953-999a-46e4-85e0-1cd61d2c97c4",
   "metadata": {},
   "outputs": [
    {
     "name": "stdout",
     "output_type": "stream",
     "text": [
      "2025\n"
     ]
    }
   ],
   "source": [
    "print(x)"
   ]
  },
  {
   "cell_type": "markdown",
   "id": "732c13a8-710c-4820-ab07-59a0dd915249",
   "metadata": {},
   "source": [
    "Use the function `type` to display the type of the value assigned to a variable."
   ]
  },
  {
   "cell_type": "code",
   "execution_count": 33,
   "id": "0d0ec436-778a-4de3-be72-c42f475fcc60",
   "metadata": {},
   "outputs": [
    {
     "data": {
      "text/plain": [
       "int"
      ]
     },
     "execution_count": 33,
     "metadata": {},
     "output_type": "execute_result"
    }
   ],
   "source": [
    "type(x)"
   ]
  },
  {
   "cell_type": "code",
   "execution_count": 36,
   "id": "8145376d-d825-4c52-87dd-0e4c1c6d9302",
   "metadata": {},
   "outputs": [
    {
     "name": "stdout",
     "output_type": "stream",
     "text": [
      "1.2807764064044151 -0.7807764064044151\n"
     ]
    }
   ],
   "source": [
    "a = 2\n",
    "b = -1\n",
    "c = -2\n",
    "\n",
    "r1 = (-b + (b**2 - 4*a*c)**0.5)/(2*a)\n",
    "r2 = (-b - (b**2 - 4*a*c)**0.5)/(2*a)\n",
    "\n",
    "print(r1,r2)"
   ]
  }
 ],
 "metadata": {
  "kernelspec": {
   "display_name": "Python 3 (ipykernel)",
   "language": "python",
   "name": "python3"
  },
  "language_info": {
   "codemirror_mode": {
    "name": "ipython",
    "version": 3
   },
   "file_extension": ".py",
   "mimetype": "text/x-python",
   "name": "python",
   "nbconvert_exporter": "python",
   "pygments_lexer": "ipython3",
   "version": "3.12.8"
  }
 },
 "nbformat": 4,
 "nbformat_minor": 5
}
