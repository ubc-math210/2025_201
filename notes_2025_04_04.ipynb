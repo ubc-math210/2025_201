{
 "cells": [
  {
   "cell_type": "markdown",
   "id": "c9aa107e-1136-4ccd-8fac-a6f48429a6a4",
   "metadata": {},
   "source": [
    "# MATH 210 Introduction to Mathematical Computing\n",
    "\n",
    "**April 4, 2024**"
   ]
  },
  {
   "cell_type": "code",
   "execution_count": 1,
   "id": "32e2f6af-b8b4-427f-9889-7a2c0b6b2ec0",
   "metadata": {},
   "outputs": [],
   "source": [
    "import numpy as np\n",
    "import scipy.linalg as la\n",
    "import matplotlib.pyplot as plt"
   ]
  },
  {
   "cell_type": "markdown",
   "id": "a014c423-e10f-418d-8581-5e9b894bac2e",
   "metadata": {},
   "source": [
    "## Eigenvalues of Eigenvalues"
   ]
  },
  {
   "cell_type": "code",
   "execution_count": 2,
   "id": "0a98800c-6f3d-497f-9692-e2cee8c57170",
   "metadata": {},
   "outputs": [
    {
     "data": {
      "text/plain": [
       "array([[1., 1., 0.],\n",
       "       [1., 1., 1.],\n",
       "       [0., 1., 1.]])"
      ]
     },
     "execution_count": 2,
     "metadata": {},
     "output_type": "execute_result"
    }
   ],
   "source": [
    "A = np.array([[1.,1.,0.],[1.,1.,1.],[0.,1.,1.]])\n",
    "A"
   ]
  },
  {
   "cell_type": "code",
   "execution_count": 3,
   "id": "433aa96e-5c0f-4cfe-a5b4-f8dbd5996016",
   "metadata": {},
   "outputs": [],
   "source": [
    "evals,evecs = la.eig(A)"
   ]
  },
  {
   "cell_type": "code",
   "execution_count": 4,
   "id": "d7a7c78b-ebae-43ec-888d-fbd28f706efe",
   "metadata": {},
   "outputs": [
    {
     "data": {
      "text/plain": [
       "array([-0.41421356,  1.        ,  2.41421356])"
      ]
     },
     "execution_count": 4,
     "metadata": {},
     "output_type": "execute_result"
    }
   ],
   "source": [
    "evals.real"
   ]
  },
  {
   "cell_type": "code",
   "execution_count": 5,
   "id": "1dd6a03f-6547-40d0-82b1-b60ad555f9dc",
   "metadata": {},
   "outputs": [
    {
     "data": {
      "text/plain": [
       "-0.41421356237309515"
      ]
     },
     "execution_count": 5,
     "metadata": {},
     "output_type": "execute_result"
    }
   ],
   "source": [
    "1 - 2**0.5"
   ]
  },
  {
   "cell_type": "code",
   "execution_count": 6,
   "id": "e82d1199-95ff-4313-be6f-37bb522c7f2d",
   "metadata": {},
   "outputs": [
    {
     "data": {
      "text/plain": [
       "array([[ 0.5       ,  0.70710678,  0.5       ],\n",
       "       [-0.70710678,  0.        ,  0.70710678],\n",
       "       [ 0.5       , -0.70710678,  0.5       ]])"
      ]
     },
     "execution_count": 6,
     "metadata": {},
     "output_type": "execute_result"
    }
   ],
   "source": [
    "evecs.round(12)"
   ]
  },
  {
   "cell_type": "markdown",
   "id": "c2acca87-6687-468f-adb0-58aa86163898",
   "metadata": {},
   "source": [
    "Try the same thing but for a large matrix with 1s on diagonal:"
   ]
  },
  {
   "cell_type": "code",
   "execution_count": 10,
   "id": "7b4672de-e481-4247-b7b3-0a424fc9287a",
   "metadata": {},
   "outputs": [
    {
     "data": {
      "image/png": "[encoded data removed]",
      "text/plain": [
       "<Figure size 640x480 with 1 Axes>"
      ]
     },
     "metadata": {},
     "output_type": "display_data"
    }
   ],
   "source": [
    "N = 100\n",
    "A = np.eye(N) + np.diag(np.ones(N-1),1) + np.diag(np.ones(N-1),-1)\n",
    "plt.imshow(A,cmap='binary')\n",
    "plt.show()"
   ]
  },
  {
   "cell_type": "code",
   "execution_count": 11,
   "id": "2542c45d-d0e4-4b82-8a75-2257baf594d6",
   "metadata": {},
   "outputs": [],
   "source": [
    "evals,evecs = la.eig(A)"
   ]
  },
  {
   "cell_type": "markdown",
   "id": "d512026c-3abd-4cf9-89a0-095aa18dfa2b",
   "metadata": {},
   "source": [
    "Visualize the eigenvalues of $A$ (in ascending order):"
   ]
  },
  {
   "cell_type": "code",
   "execution_count": 12,
   "id": "840804ec-c6f8-405e-a450-9d40a32f557c",
   "metadata": {},
   "outputs": [
    {
     "data": {
      "image/png": "[encoded data removed]",
      "text/plain": [
       "<Figure size 640x480 with 1 Axes>"
      ]
     },
     "metadata": {},
     "output_type": "display_data"
    }
   ],
   "source": [
    "plt.plot(np.sort(evals.real),'.')\n",
    "plt.show()"
   ]
  },
  {
   "cell_type": "markdown",
   "id": "97947d3d-2211-467d-8362-6ecd1a73184d",
   "metadata": {},
   "source": [
    "Cool!"
   ]
  },
  {
   "cell_type": "markdown",
   "id": "489a2b86-c006-4ea6-a76d-753b3515679e",
   "metadata": {},
   "source": [
    "## Power Method"
   ]
  },
  {
   "cell_type": "code",
   "execution_count": 16,
   "id": "6695232e-9f04-4922-97d8-71251703d0f5",
   "metadata": {},
   "outputs": [
    {
     "data": {
      "text/plain": [
       "array([[1., 1., 0.],\n",
       "       [1., 1., 1.],\n",
       "       [0., 1., 1.]])"
      ]
     },
     "execution_count": 16,
     "metadata": {},
     "output_type": "execute_result"
    }
   ],
   "source": [
    "A = np.array([[1.,1.,0.],[1.,1.,1.],[0.,1.,1.]])\n",
    "A"
   ]
  },
  {
   "cell_type": "code",
   "execution_count": 21,
   "id": "8d0e29e7-64e3-4367-b96e-7a487458bf23",
   "metadata": {},
   "outputs": [
    {
     "data": {
      "text/plain": [
       "array([[0.70710677],\n",
       "       [1.        ],\n",
       "       [0.70710679]])"
      ]
     },
     "execution_count": 21,
     "metadata": {},
     "output_type": "execute_result"
    }
   ],
   "source": [
    "xk = np.array([[1.],[2.],[3.]])\n",
    "for k in range(20):\n",
    "    xk = A@xk\n",
    "    xk = xk/np.max(np.abs(xk))\n",
    "    #xk = xk/la.norm(xk)\n",
    "xk"
   ]
  },
  {
   "cell_type": "code",
   "execution_count": 22,
   "id": "b1306c1c-71c3-4ef9-9bf6-3839229c0329",
   "metadata": {},
   "outputs": [
    {
     "data": {
      "text/plain": [
       "array([[0.70710678],\n",
       "       [1.        ],\n",
       "       [0.70710678]])"
      ]
     },
     "execution_count": 22,
     "metadata": {},
     "output_type": "execute_result"
    }
   ],
   "source": [
    "evals,evecs = la.eig(A)\n",
    "evecs[:,[2]]/evecs[1,2]"
   ]
  }
 ],
 "metadata": {
  "kernelspec": {
   "display_name": "Python 3 (ipykernel)",
   "language": "python",
   "name": "python3"
  },
  "language_info": {
   "codemirror_mode": {
    "name": "ipython",
    "version": 3
   },
   "file_extension": ".py",
   "mimetype": "text/x-python",
   "name": "python",
   "nbconvert_exporter": "python",
   "pygments_lexer": "ipython3",
   "version": "3.12.8"
  }
 },
 "nbformat": 4,
 "nbformat_minor": 5
}
