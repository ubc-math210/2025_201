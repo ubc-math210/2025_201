{
 "cells": [
  {
   "cell_type": "markdown",
   "id": "b112bc18-23b8-4769-b4d2-a1fa770196ef",
   "metadata": {},
   "source": [
    "# MATH 210 Introduction to Mathematical Computing\n",
    "\n",
    "**January 22, 2025**"
   ]
  },
  {
   "cell_type": "markdown",
   "id": "5f42ce48-5191-486e-9305-370d21e40ec3",
   "metadata": {},
   "source": [
    "## Polynomials\n",
    "\n",
    "Represent a polynomial $p(x) = a_0 + a_1 x + a_2 x^2 + \\cdots + a_d x^d$ as a Python list of coefficients\n",
    "\n",
    "```\n",
    "p = [a0,a1,a2,...,ad]\n",
    "```"
   ]
  },
  {
   "cell_type": "markdown",
   "id": "07827b5f-0970-46ac-938d-8cf484d2f68e",
   "metadata": {},
   "source": [
    "Write a function called `poly_eval` which takes `p` (a Python list of numbers representing a polynomial $p(x)$) and a number `x`, and returns the polynomial evaluated at `x`.\n",
    "\n",
    "$$\n",
    "p(x) = \\sum_{n=0}^d a_n x^n\n",
    "$$"
   ]
  },
  {
   "cell_type": "code",
   "execution_count": 1,
   "id": "f960ba8b-497f-4212-bf2d-439f140cb0cc",
   "metadata": {},
   "outputs": [],
   "source": [
    "def poly_eval(p,x):\n",
    "    terms = [p[n]*x**n for n in range(0,len(p))]\n",
    "    value = sum(terms)\n",
    "    return value"
   ]
  },
  {
   "cell_type": "code",
   "execution_count": 2,
   "id": "957ae47d-4968-4962-9162-a2b76689dd33",
   "metadata": {},
   "outputs": [
    {
     "name": "stdout",
     "output_type": "stream",
     "text": [
      "-8\n"
     ]
    }
   ],
   "source": [
    "p = [1,0,-1]\n",
    "x = 3\n",
    "y = poly_eval(p,x)\n",
    "print(y)"
   ]
  },
  {
   "cell_type": "markdown",
   "id": "522d6e88-a166-4cbf-b083-897b3746a810",
   "metadata": {},
   "source": [
    "Write a function called `poly_diff` which takes `p` (a Python list of numbers representing a polynomial $p(x)$) and returns the Python list of coefficients of the derivative $p'(x)$. Recall\n",
    "\n",
    "$$\n",
    "p(x) = \\sum_{n=0}^d a_n x^n \\ \\Rightarrow \\ p'(x) = \\sum_{n=1}^d n a_n x^{n-1}\n",
    "$$"
   ]
  },
  {
   "cell_type": "code",
   "execution_count": 3,
   "id": "b4bdad90-f486-4adf-b709-81ec17aefb52",
   "metadata": {},
   "outputs": [],
   "source": [
    "def poly_diff(p):\n",
    "    if len(p) > 1:\n",
    "        dpdx = [n*p[n] for n in range(1,len(p))]\n",
    "    else:\n",
    "        dpdx = [0]\n",
    "    return dpdx"
   ]
  },
  {
   "cell_type": "code",
   "execution_count": 4,
   "id": "3695dded-940d-4928-8243-ea508a97dea1",
   "metadata": {},
   "outputs": [
    {
     "name": "stdout",
     "output_type": "stream",
     "text": [
      "[1, 2, 3]\n"
     ]
    }
   ],
   "source": [
    "p1 = [1,1,1,1]  # 1 + x + x^2 + x^3\n",
    "dp1 = poly_diff(p1) # 1 + 2x + 3x^2 => [1,2,3]\n",
    "print(dp1)"
   ]
  },
  {
   "cell_type": "code",
   "execution_count": 5,
   "id": "53dee581-636c-4f0f-8d99-0d708c5599a7",
   "metadata": {},
   "outputs": [
    {
     "name": "stdout",
     "output_type": "stream",
     "text": [
      "[0]\n"
     ]
    }
   ],
   "source": [
    "p2 = [100]\n",
    "dp2 = poly_diff(p2)\n",
    "print(dp2)"
   ]
  },
  {
   "cell_type": "markdown",
   "id": "d4cff5b0-389b-44eb-9891-91b3eb07c722",
   "metadata": {},
   "source": [
    "Write a function called `poly_anti` which takes `p` (a Python list of numbers which represents a polynomial $p(x)$) and return the antiderivative $P(x)$ (ie. $P'(x) = p(x)$) such that $P(0) = 0$. Recall, if $P'(x) = p(x)$ then\n",
    "\n",
    "$$\n",
    "p(x) = \\sum_{n=0}^d a_nx^n \\ \\Rightarrow \\ P(x) = \\sum_{n=0}^d \\frac{a_n}{n+1} x^{n+1} + C\n",
    "$$"
   ]
  },
  {
   "cell_type": "code",
   "execution_count": 6,
   "id": "f9460ac3-ba2b-4ecb-a7cc-45df4e87d20e",
   "metadata": {},
   "outputs": [],
   "source": [
    "def poly_anti(p):\n",
    "    #if len(p) == 1 and p[0] == 0:\n",
    "    if p == [0]:\n",
    "        P = [0.0]\n",
    "    else:\n",
    "        P = [0.0] + [p[n]/(n + 1) for n in range(0,len(p))]\n",
    "    return P"
   ]
  },
  {
   "cell_type": "code",
   "execution_count": 7,
   "id": "a7430bc4-9313-4acf-b7d9-a4eb2caeac06",
   "metadata": {},
   "outputs": [
    {
     "name": "stdout",
     "output_type": "stream",
     "text": [
      "[0.0, 1.0, 0.5, 0.3333333333333333]\n"
     ]
    }
   ],
   "source": [
    "p1 = [1,1,1] # p(x) = 1 + x + x^2\n",
    "P1 = poly_anti(p1) # P(x) = C + x + x^2/2 + x^3/3 , P(0) = 0 => C=0\n",
    "print(P1) # [0,1,1/2,1/3]"
   ]
  },
  {
   "cell_type": "code",
   "execution_count": 8,
   "id": "27d10964-9897-48b9-ad4e-0ac7bd788546",
   "metadata": {},
   "outputs": [
    {
     "name": "stdout",
     "output_type": "stream",
     "text": [
      "[0.0, 0.0, 0.0, 0.0, -0.25]\n"
     ]
    }
   ],
   "source": [
    "p2 = [0,0,0,-1] # p(x) = -x^3\n",
    "P2 = poly_anti(p2) # P(x) = -x^4/4\n",
    "print(P2) # [0,0,0,0,-1/4]"
   ]
  },
  {
   "cell_type": "code",
   "execution_count": 9,
   "id": "d30b747c-1569-4b92-8428-500cccfa41b2",
   "metadata": {},
   "outputs": [
    {
     "name": "stdout",
     "output_type": "stream",
     "text": [
      "[0.0]\n"
     ]
    }
   ],
   "source": [
    "p3 = [0.0] # p(x) = 0\n",
    "P3 = poly_anti(p3) # P(x) = C\n",
    "print(P3) # [0]"
   ]
  },
  {
   "cell_type": "code",
   "execution_count": 10,
   "id": "08429e14-bb4c-459b-9d29-59280d96583d",
   "metadata": {},
   "outputs": [
    {
     "name": "stdout",
     "output_type": "stream",
     "text": [
      "[0.0, 1.0]\n"
     ]
    }
   ],
   "source": [
    "p4 = [1] # p(x) = 1\n",
    "P4 = poly_anti(p4) # P(x) = C + x\n",
    "print(P4) # [0,1]"
   ]
  },
  {
   "cell_type": "markdown",
   "id": "7fcb5a63-ae9a-4c19-b5c6-1eaf02986a12",
   "metadata": {},
   "source": [
    "Write a function called `poly_add` which takes `p` and `q` (representing polynomials $p(x)$ and $q(x)$) and returns the Python list of coefficients for $p(x) + q(x)$."
   ]
  },
  {
   "cell_type": "code",
   "execution_count": 11,
   "id": "7628d6e7-a7d8-4a7a-9469-cf3e3fd08780",
   "metadata": {},
   "outputs": [],
   "source": [
    "def poly_add(p,q):\n",
    "    # This is more challenging than it seems!\n",
    "    return [1,2,3]"
   ]
  },
  {
   "cell_type": "code",
   "execution_count": 12,
   "id": "7bf549b2-28ba-4d18-820e-c116669eec81",
   "metadata": {},
   "outputs": [
    {
     "name": "stdout",
     "output_type": "stream",
     "text": [
      "[1, 2, 3]\n"
     ]
    }
   ],
   "source": [
    "p1 = [1,2,3] # p(x) = 1 + 2x + 3x^2\n",
    "q1 = [-2,1] # q(x) = -2 + x\n",
    "r1 = poly_add(p1,q1) # r(x) = -1 + 3x + 3x^2\n",
    "print(r1) # [-1,3,3]"
   ]
  }
 ],
 "metadata": {
  "kernelspec": {
   "display_name": "Python 3 (ipykernel)",
   "language": "python",
   "name": "python3"
  },
  "language_info": {
   "codemirror_mode": {
    "name": "ipython",
    "version": 3
   },
   "file_extension": ".py",
   "mimetype": "text/x-python",
   "name": "python",
   "nbconvert_exporter": "python",
   "pygments_lexer": "ipython3",
   "version": "3.12.8"
  }
 },
 "nbformat": 4,
 "nbformat_minor": 5
}
