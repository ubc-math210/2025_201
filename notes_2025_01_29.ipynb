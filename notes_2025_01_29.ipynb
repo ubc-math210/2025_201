{
 "cells": [
  {
   "cell_type": "markdown",
   "id": "0a250e82-558f-411e-a2d5-b755c4ac8243",
   "metadata": {},
   "source": [
    "# MATH 210 Introduction to Mathematical Computing\n",
    "\n",
    "**January 29, 2025**"
   ]
  },
  {
   "cell_type": "markdown",
   "id": "36ee4483-3cc6-41dd-8707-65e998bfa90d",
   "metadata": {},
   "source": [
    "## Fixed Point Iteration\n",
    "\n",
    "Use fixed point iteration to approximate solution of $x^3 + x - 1$. Let $f(x) = \\frac{1}{1 + x^2}$ and choose $x_0 = 1/2$."
   ]
  },
  {
   "cell_type": "code",
   "execution_count": 1,
   "id": "38852e96-c192-4fb0-a99d-1c8e4e8068af",
   "metadata": {},
   "outputs": [
    {
     "name": "stdout",
     "output_type": "stream",
     "text": [
      "0.8\n",
      "0.6097560975609756\n",
      "0.7289679098005204\n",
      "0.6529997248077185\n",
      "0.701061372973803\n",
      "0.6704717958414473\n",
      "0.6898776322492279\n",
      "0.6775383809122035\n",
      "0.6853735927163312\n",
      "0.6803938569498902\n"
     ]
    }
   ],
   "source": [
    "f = lambda x: 1/(x**2 + 1)\n",
    "\n",
    "xn = 1/2\n",
    "for n in range(10):\n",
    "    xn = f(xn)\n",
    "    print(xn)"
   ]
  }
 ],
 "metadata": {
  "kernelspec": {
   "display_name": "Python 3 (ipykernel)",
   "language": "python",
   "name": "python3"
  },
  "language_info": {
   "codemirror_mode": {
    "name": "ipython",
    "version": 3
   },
   "file_extension": ".py",
   "mimetype": "text/x-python",
   "name": "python",
   "nbconvert_exporter": "python",
   "pygments_lexer": "ipython3",
   "version": "3.12.8"
  }
 },
 "nbformat": 4,
 "nbformat_minor": 5
}
