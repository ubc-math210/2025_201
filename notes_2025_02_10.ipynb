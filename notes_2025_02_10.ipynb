{
 "cells": [
  {
   "cell_type": "markdown",
   "id": "ac31bc09-ef2f-4ef5-b510-677f694e0291",
   "metadata": {},
   "source": [
    "# MATH 210 Introduction to Mathematical Computing\n",
    "\n",
    "**February 10, 2025**\n",
    "\n",
    "* Python modules and packages\n",
    "* NumPy and Matplotlib\n",
    "* Vectorization"
   ]
  },
  {
   "cell_type": "markdown",
   "id": "add5f034-43b2-459d-942b-a4d98d1fbf26",
   "metadata": {},
   "source": [
    "## Modules and Packages"
   ]
  },
  {
   "cell_type": "markdown",
   "id": "d6cd53bf-41f3-43b6-9b4e-1e4bd3c46056",
   "metadata": {},
   "source": [
    "A **module** is a text file (with extension `.py`) containing Python code. A **package** is a collection (like a directory or folder) of modules. Use the keyword `import` to load a module/package into the current environment."
   ]
  },
  {
   "cell_type": "code",
   "execution_count": 1,
   "id": "07550fca-8f60-4e47-ae9f-b5eaa18519e1",
   "metadata": {},
   "outputs": [],
   "source": [
    "import rootfinding"
   ]
  },
  {
   "cell_type": "markdown",
   "id": "e5ea4443-398a-4d6a-8baf-074a4ed05047",
   "metadata": {},
   "source": [
    "Access functions inside the module using dot syntax:"
   ]
  },
  {
   "cell_type": "code",
   "execution_count": 2,
   "id": "5c844d2a-a73d-4836-9b41-bf4b90263a88",
   "metadata": {},
   "outputs": [
    {
     "name": "stdout",
     "output_type": "stream",
     "text": [
      "1.5596108436584473\n"
     ]
    }
   ],
   "source": [
    "f = lambda x: x**x - 2\n",
    "a = 1\n",
    "b = 2\n",
    "N = 20\n",
    "r = rootfinding.bisection(f,a,b,N)\n",
    "print(r)"
   ]
  },
  {
   "cell_type": "markdown",
   "id": "02c7c576-5acf-4700-8cbc-20b8bc9126d3",
   "metadata": {},
   "source": [
    "Import a module under a (shorter) alias name:"
   ]
  },
  {
   "cell_type": "code",
   "execution_count": 3,
   "id": "e62824ed-e05a-4343-aa19-b77a9b29ed05",
   "metadata": {},
   "outputs": [],
   "source": [
    "import rootfinding as rf"
   ]
  },
  {
   "cell_type": "code",
   "execution_count": 4,
   "id": "6fdbbd61-6b05-424a-8d85-bec61a3ee338",
   "metadata": {},
   "outputs": [
    {
     "name": "stdout",
     "output_type": "stream",
     "text": [
      "1.5596108436584473\n"
     ]
    }
   ],
   "source": [
    "f = lambda x: x**x - 2\n",
    "a = 1\n",
    "b = 2\n",
    "N = 20\n",
    "r = rf.bisection(f,a,b,N)\n",
    "print(r)"
   ]
  },
  {
   "cell_type": "code",
   "execution_count": 5,
   "id": "854d5b16-46ed-42b9-8b7e-feacc8152fda",
   "metadata": {},
   "outputs": [
    {
     "name": "stdout",
     "output_type": "stream",
     "text": [
      "Found solution after 5 iterations.\n",
      "1.1673039782677\n"
     ]
    }
   ],
   "source": [
    "f = lambda x: x**5 - x - 1\n",
    "Df = lambda x: 5*x**4 - 1\n",
    "x0 = 1.5\n",
    "eps = 1e-10\n",
    "max_iter = 10\n",
    "r = rf.newton(f,Df,x0,eps,max_iter)\n",
    "print(r)"
   ]
  },
  {
   "cell_type": "code",
   "execution_count": 6,
   "id": "cf4a9f15-0861-4557-9273-939ef4c41473",
   "metadata": {},
   "outputs": [
    {
     "data": {
      "text/plain": [
       "1.1673037740991747"
      ]
     },
     "execution_count": 6,
     "metadata": {},
     "output_type": "execute_result"
    }
   ],
   "source": [
    "rf.secant(f,1,2,50)"
   ]
  },
  {
   "cell_type": "markdown",
   "id": "72b01cf2-c67d-42d3-8d52-95cf0a4f62ec",
   "metadata": {},
   "source": [
    "## NumPy and Matplotlib\n",
    "\n",
    "NumPy is the main numerical computing package. It contains all the usual mathematical functions and constants. The convention is to import NumPy as `np`."
   ]
  },
  {
   "cell_type": "code",
   "execution_count": 7,
   "id": "abf844ca-961e-45ff-9d32-6c6c6680cdef",
   "metadata": {},
   "outputs": [],
   "source": [
    "import numpy as np"
   ]
  },
  {
   "cell_type": "code",
   "execution_count": 8,
   "id": "6b66a3fd-8390-4d53-8ef4-a7eabf901048",
   "metadata": {},
   "outputs": [
    {
     "data": {
      "text/plain": [
       "3.141592653589793"
      ]
     },
     "execution_count": 8,
     "metadata": {},
     "output_type": "execute_result"
    }
   ],
   "source": [
    "np.pi"
   ]
  },
  {
   "cell_type": "code",
   "execution_count": 9,
   "id": "85831a47-d408-495f-bcd0-40a0d9c74409",
   "metadata": {},
   "outputs": [
    {
     "data": {
      "text/plain": [
       "2.718281828459045"
      ]
     },
     "execution_count": 9,
     "metadata": {},
     "output_type": "execute_result"
    }
   ],
   "source": [
    "np.exp(1)"
   ]
  },
  {
   "cell_type": "code",
   "execution_count": 10,
   "id": "1de66bd2-fd53-4b9c-ab14-294ce51c50c3",
   "metadata": {},
   "outputs": [
    {
     "data": {
      "text/plain": [
       "0.5403023058681398"
      ]
     },
     "execution_count": 10,
     "metadata": {},
     "output_type": "execute_result"
    }
   ],
   "source": [
    "np.cos(1)"
   ]
  },
  {
   "cell_type": "code",
   "execution_count": 11,
   "id": "3eef00df-e18c-490d-afd6-955c51aa0939",
   "metadata": {},
   "outputs": [
    {
     "data": {
      "text/plain": [
       "-1.0"
      ]
     },
     "execution_count": 11,
     "metadata": {},
     "output_type": "execute_result"
    }
   ],
   "source": [
    "np.cos(np.pi)"
   ]
  },
  {
   "cell_type": "code",
   "execution_count": 12,
   "id": "6fe20dad-fe28-47d3-a7b7-79caf9dcf099",
   "metadata": {},
   "outputs": [
    {
     "data": {
      "text/plain": [
       "0.7071067811865475"
      ]
     },
     "execution_count": 12,
     "metadata": {},
     "output_type": "execute_result"
    }
   ],
   "source": [
    "np.sin(np.pi/4)"
   ]
  },
  {
   "cell_type": "markdown",
   "id": "c9101a54-69e8-455a-b9c7-137613125237",
   "metadata": {},
   "source": [
    "NumPy gives us the `ndarray` datatype which we use to compute with vectors and matrices. Use the function `np.array` to create a NumPy array from a list of numbers."
   ]
  },
  {
   "cell_type": "code",
   "execution_count": 13,
   "id": "81cc4e95-2917-4191-9f87-6726f8d1ea73",
   "metadata": {},
   "outputs": [
    {
     "data": {
      "text/plain": [
       "array([0. , 0.2, 0.4, 0.6, 0.8, 1. ])"
      ]
     },
     "execution_count": 13,
     "metadata": {},
     "output_type": "execute_result"
    }
   ],
   "source": [
    "v = np.array([0.0,0.2,0.4,0.6,0.8,1.0])\n",
    "v"
   ]
  },
  {
   "cell_type": "code",
   "execution_count": 14,
   "id": "67de7947-1b3e-48da-9c40-629091818d03",
   "metadata": {},
   "outputs": [
    {
     "data": {
      "text/plain": [
       "numpy.ndarray"
      ]
     },
     "execution_count": 14,
     "metadata": {},
     "output_type": "execute_result"
    }
   ],
   "source": [
    "type(v)"
   ]
  },
  {
   "cell_type": "markdown",
   "id": "591eeaa0-bcc5-4196-8b7c-97fb2f9a98cd",
   "metadata": {},
   "source": [
    "We can do vector operations like addition and scalar multiplication with NumPy arrays."
   ]
  },
  {
   "cell_type": "code",
   "execution_count": 15,
   "id": "9e6cc810-4f07-4fe6-8a1d-ac0c527aaba3",
   "metadata": {},
   "outputs": [
    {
     "data": {
      "text/plain": [
       "array([-5.3,  5.8, -0.8])"
      ]
     },
     "execution_count": 15,
     "metadata": {},
     "output_type": "execute_result"
    }
   ],
   "source": [
    "w1 = np.array([1.1,2.6,-3.5])\n",
    "w2 = np.array([-6.4,3.2,2.7])\n",
    "\n",
    "w1 + w2"
   ]
  },
  {
   "cell_type": "code",
   "execution_count": 16,
   "id": "c41e19fe-0476-4092-be0c-5fb329fa95f0",
   "metadata": {},
   "outputs": [
    {
     "data": {
      "text/plain": [
       "array([ 2.2,  5.2, -7. ])"
      ]
     },
     "execution_count": 16,
     "metadata": {},
     "output_type": "execute_result"
    }
   ],
   "source": [
    "2*w1"
   ]
  },
  {
   "cell_type": "markdown",
   "id": "390337a9-429b-4885-8350-0c542cda389e",
   "metadata": {},
   "source": [
    "Matplotlib is the plotting package in Python. It's built on NumPy. We are only ever going to use the subpackage `pyplot` and so we import that as `plt`."
   ]
  },
  {
   "cell_type": "code",
   "execution_count": 17,
   "id": "38e2d413-5857-4ae8-88b9-40c9060739c6",
   "metadata": {},
   "outputs": [],
   "source": [
    "import matplotlib.pyplot as plt"
   ]
  },
  {
   "cell_type": "code",
   "execution_count": 18,
   "id": "9519515d-aef6-49e4-a9fe-cbf10f6aab45",
   "metadata": {},
   "outputs": [
    {
     "data": {
      "image/png": "[encoded data removed]",
      "text/plain": [
       "<Figure size 640x480 with 1 Axes>"
      ]
     },
     "metadata": {},
     "output_type": "display_data"
    }
   ],
   "source": [
    "x = np.linspace(0,10,501)\n",
    "y = np.exp(-x/2)*np.sin(10*x)\n",
    "plt.plot(x,y)\n",
    "plt.show()"
   ]
  },
  {
   "cell_type": "code",
   "execution_count": 19,
   "id": "e67eb3ca-d3e8-4b90-9d71-8bf820afa793",
   "metadata": {},
   "outputs": [
    {
     "data": {
      "text/plain": [
       "array([0.  , 0.02, 0.04, 0.06, 0.08, 0.1 , 0.12, 0.14, 0.16, 0.18])"
      ]
     },
     "execution_count": 19,
     "metadata": {},
     "output_type": "execute_result"
    }
   ],
   "source": [
    "x[:10]"
   ]
  },
  {
   "cell_type": "markdown",
   "id": "6c141577-7873-43e3-a979-be80499fc73a",
   "metadata": {},
   "source": [
    "## Vectorization"
   ]
  },
  {
   "cell_type": "markdown",
   "id": "1f8a3976-3fa5-4032-8e7b-83784d4d6d31",
   "metadata": {},
   "source": [
    "The plotting procedure uses vectorization. This means if $\\mathbf{x}$ is a vector and $f(x)$ is a function then\n",
    "\n",
    "$$\n",
    "f(\\mathbf{x}) = \\begin{bmatrix} f(x_0) & f(x_1) & f(x_2) & \\cdots & f(x_N) \\end{bmatrix}\n",
    "$$\n",
    "\n",
    "where\n",
    "\n",
    "$$\n",
    "\\mathbf{x} = \\begin{bmatrix} x_0 & x_1 & x_2 & \\cdots & x_N \\end{bmatrix}\n",
    "$$\n"
   ]
  },
  {
   "cell_type": "code",
   "execution_count": 20,
   "id": "b8fdabb8-c713-4b38-868b-2279c7d90910",
   "metadata": {},
   "outputs": [
    {
     "data": {
      "text/plain": [
       "array([0.  , 0.25, 0.5 , 0.75, 1.  ])"
      ]
     },
     "execution_count": 20,
     "metadata": {},
     "output_type": "execute_result"
    }
   ],
   "source": [
    "x = np.linspace(0,1,5)\n",
    "x"
   ]
  },
  {
   "cell_type": "code",
   "execution_count": 21,
   "id": "cfd81eb1-24fa-46b0-8a22-0c93347cb061",
   "metadata": {},
   "outputs": [
    {
     "data": {
      "text/plain": [
       "array([1.        , 1.70710678, 2.        , 1.70710678, 1.        ])"
      ]
     },
     "execution_count": 21,
     "metadata": {},
     "output_type": "execute_result"
    }
   ],
   "source": [
    "y = np.sin(np.pi*x) + 1\n",
    "np.round(y,12)"
   ]
  },
  {
   "cell_type": "code",
   "execution_count": 22,
   "id": "31f0410a-5f87-4253-83a1-7c32ef4be26f",
   "metadata": {},
   "outputs": [
    {
     "data": {
      "image/png": "[encoded data removed]",
      "text/plain": [
       "<Figure size 640x480 with 1 Axes>"
      ]
     },
     "metadata": {},
     "output_type": "display_data"
    }
   ],
   "source": [
    "f = lambda x: x**2 - 2*x - 2\n",
    "x = np.linspace(-5,5,200)\n",
    "y = f(x)\n",
    "plt.plot(x,y)\n",
    "plt.show()"
   ]
  }
 ],
 "metadata": {
  "kernelspec": {
   "display_name": "Python 3 (ipykernel)",
   "language": "python",
   "name": "python3"
  },
  "language_info": {
   "codemirror_mode": {
    "name": "ipython",
    "version": 3
   },
   "file_extension": ".py",
   "mimetype": "text/x-python",
   "name": "python",
   "nbconvert_exporter": "python",
   "pygments_lexer": "ipython3",
   "version": "3.12.8"
  }
 },
 "nbformat": 4,
 "nbformat_minor": 5
}
