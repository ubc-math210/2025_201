{
 "cells": [
  {
   "cell_type": "markdown",
   "id": "794da5ba-1443-4495-8278-e8b55e9972ca",
   "metadata": {},
   "source": [
    "# MATH 210 Introduction to Mathematical Computing\n",
    "\n",
    "**January 15, 2025**\n",
    "\n",
    "* Indexing and Slicing\n",
    "* List Comprehensions\n",
    "* Examples"
   ]
  },
  {
   "cell_type": "markdown",
   "id": "b5073d83-026f-4d13-9aa6-2ea3f77be5e1",
   "metadata": {},
   "source": [
    "## Indexing and Slicing\n",
    "\n",
    "Access entry of list `listname` at index `i` using syntax `listname[i]`."
   ]
  },
  {
   "cell_type": "code",
   "execution_count": 1,
   "id": "2c819e0b-17aa-4259-9496-869d9f856679",
   "metadata": {},
   "outputs": [],
   "source": [
    "odd = [1,3,5,7,9,11,13,15,17,19]"
   ]
  },
  {
   "cell_type": "code",
   "execution_count": 2,
   "id": "b2540d7b-ab19-4da2-95d6-5b0ad29c01b6",
   "metadata": {},
   "outputs": [
    {
     "data": {
      "text/plain": [
       "1"
      ]
     },
     "execution_count": 2,
     "metadata": {},
     "output_type": "execute_result"
    }
   ],
   "source": [
    "odd[0]"
   ]
  },
  {
   "cell_type": "code",
   "execution_count": 3,
   "id": "97e5b457-547c-4933-b2ae-c4c06ae579bd",
   "metadata": {},
   "outputs": [
    {
     "data": {
      "text/plain": [
       "11"
      ]
     },
     "execution_count": 3,
     "metadata": {},
     "output_type": "execute_result"
    }
   ],
   "source": [
    "odd[5]"
   ]
  },
  {
   "cell_type": "markdown",
   "id": "1f20fc25-2997-4354-9237-ce6ca0fdb4f8",
   "metadata": {},
   "source": [
    "Slicing means accessing a subsequence from a list from index `a` to `b` (exclusive). Use syntax `listname[a:b]`."
   ]
  },
  {
   "cell_type": "code",
   "execution_count": 4,
   "id": "c66675a8-6cb2-4cdf-b69d-58f861172a25",
   "metadata": {},
   "outputs": [
    {
     "data": {
      "text/plain": [
       "[3, 5, 7]"
      ]
     },
     "execution_count": 4,
     "metadata": {},
     "output_type": "execute_result"
    }
   ],
   "source": [
    "odd[1:4]"
   ]
  },
  {
   "cell_type": "markdown",
   "id": "fe868323-78c6-4cd2-b889-8713de212476",
   "metadata": {},
   "source": [
    "Drop the index `b` to access entries from index `a` to the end of the list."
   ]
  },
  {
   "cell_type": "code",
   "execution_count": 5,
   "id": "6aa82bb4-5ce6-41e9-83ba-75823ff2ec58",
   "metadata": {},
   "outputs": [
    {
     "data": {
      "text/plain": [
       "[11, 13, 15, 17, 19]"
      ]
     },
     "execution_count": 5,
     "metadata": {},
     "output_type": "execute_result"
    }
   ],
   "source": [
    "odd[5:]"
   ]
  },
  {
   "cell_type": "markdown",
   "id": "d052fd1a-4f76-430f-92c4-4c0657cfa81c",
   "metadata": {},
   "source": [
    "Drop index `a` to access entries up to index `b`."
   ]
  },
  {
   "cell_type": "code",
   "execution_count": 6,
   "id": "f560d153-8ea9-4b91-81c1-ede6a85fa329",
   "metadata": {},
   "outputs": [
    {
     "data": {
      "text/plain": [
       "[1, 3, 5, 7]"
      ]
     },
     "execution_count": 6,
     "metadata": {},
     "output_type": "execute_result"
    }
   ],
   "source": [
    "odd[:4]"
   ]
  },
  {
   "cell_type": "markdown",
   "id": "8ad3cbfb-b452-43a8-8678-29fbb400acd0",
   "metadata": {},
   "source": [
    "Use negative numbers to count indices starting from the end of the list."
   ]
  },
  {
   "cell_type": "code",
   "execution_count": 7,
   "id": "7ecee89b-c842-4e46-8139-6ebefcdf12c2",
   "metadata": {},
   "outputs": [
    {
     "data": {
      "text/plain": [
       "[1, 3, 5, 7, 9, 11, 13]"
      ]
     },
     "execution_count": 7,
     "metadata": {},
     "output_type": "execute_result"
    }
   ],
   "source": [
    "odd[:-3]"
   ]
  },
  {
   "cell_type": "markdown",
   "id": "76309fab-92a1-4f56-b75c-eafb88a13bb3",
   "metadata": {},
   "source": [
    "## List Comprehensions\n",
    "\n",
    "A list comprehension is a Python construction to efficiently create lists. The syntax is:\n",
    "\n",
    "```\n",
    "listname = [ expression for item in sequence ]\n",
    "```\n",
    "\n",
    "where:\n",
    "\n",
    "* `listname` is the variable name assigned the list constructed on the right of the `=` operator\n",
    "* `expression` is a Python expression involving the variable name `item`\n",
    "* `for` and `in` are keywords in the construction\n",
    "* `sequence` is any sequence of values\n",
    "\n",
    "The result is a list where `expression` is evaluated for each value in `sequence` assigned to `item`.\n",
    "\n",
    "Usually, `sequence` is `range(a,b)` and `item` is `n`."
   ]
  },
  {
   "cell_type": "code",
   "execution_count": 8,
   "id": "3f946fa8-48b0-4807-96c5-784932ee5605",
   "metadata": {},
   "outputs": [
    {
     "name": "stdout",
     "output_type": "stream",
     "text": [
      "[0, 1, 4, 9, 16, 25, 36, 49, 64, 81]\n"
     ]
    }
   ],
   "source": [
    "squares = [n**2 for n in range(0,10)]\n",
    "print(squares)"
   ]
  },
  {
   "cell_type": "code",
   "execution_count": 9,
   "id": "5568f23c-9f8e-4f13-a439-aedd0a3363b4",
   "metadata": {},
   "outputs": [
    {
     "name": "stdout",
     "output_type": "stream",
     "text": [
      "[1.0, 0.3333333333333333, 0.2, 0.14285714285714285, 0.1111111111111111]\n"
     ]
    }
   ],
   "source": [
    "seq1 = [1/(2*n + 1) for n in range(0,5)]\n",
    "print(seq1)"
   ]
  },
  {
   "cell_type": "code",
   "execution_count": 10,
   "id": "86ecf98b-626f-4a9c-8931-1e5a28cd2b7d",
   "metadata": {},
   "outputs": [
    {
     "data": {
      "text/plain": [
       "[1.0, 0.3333333333333333, 0.2, 0.14285714285714285, 0.1111111111111111]"
      ]
     },
     "execution_count": 10,
     "metadata": {},
     "output_type": "execute_result"
    }
   ],
   "source": [
    "[1/(2*0 + 1),1/(2*1 + 1),1/(2*2 + 1),1/(2*3 + 1),1/(2*4 + 1)]"
   ]
  },
  {
   "cell_type": "code",
   "execution_count": 11,
   "id": "a03f0fad-7aff-4bbd-88af-57178d5b2362",
   "metadata": {},
   "outputs": [
    {
     "name": "stdout",
     "output_type": "stream",
     "text": [
      "[0.0, 0.1, 0.2, 0.3, 0.4]\n"
     ]
    }
   ],
   "source": [
    "seq2 = [n/10 for n in range(0,5)]\n",
    "print(seq2)"
   ]
  },
  {
   "cell_type": "markdown",
   "id": "2f0b4429-89b3-4dfa-acb1-544d1c888619",
   "metadata": {},
   "source": [
    "Use a list comprehension with the builtin function `sum` to compute\n",
    "\n",
    "$$\n",
    "\\sum_{n=1}^{100} \\frac{(-1)^{n+1}}{n}\n",
    "$$"
   ]
  },
  {
   "cell_type": "code",
   "execution_count": 12,
   "id": "2f93ebae-71e2-45b9-ab4e-1664bf64e9cf",
   "metadata": {},
   "outputs": [
    {
     "name": "stdout",
     "output_type": "stream",
     "text": [
      "0.6881721793101953\n"
     ]
    }
   ],
   "source": [
    "terms = [(-1)**(n + 1)/n for n in range(1,101)]\n",
    "S = sum(terms)\n",
    "print(S)"
   ]
  },
  {
   "cell_type": "markdown",
   "id": "84725748-3ddf-4016-a2df-0855cb42369a",
   "metadata": {},
   "source": [
    "Use a list comprehension with the builtin function `sum` to compute\n",
    "\n",
    "$$\n",
    "\\sum_{n=0}^{1000} \\frac{(-1)^n}{2n + 1}\n",
    "$$"
   ]
  },
  {
   "cell_type": "code",
   "execution_count": 13,
   "id": "ef7270eb-e772-4967-87e9-f60f64d52a71",
   "metadata": {},
   "outputs": [
    {
     "name": "stdout",
     "output_type": "stream",
     "text": [
      "0.7856479135848858\n"
     ]
    }
   ],
   "source": [
    "terms = [(-1)**n/(2*n + 1) for n in range(1001)]\n",
    "S = sum(terms)\n",
    "print(S)"
   ]
  },
  {
   "cell_type": "code",
   "execution_count": 14,
   "id": "9fa2341b-29ef-4685-ad29-0ce421c3326c",
   "metadata": {},
   "outputs": [
    {
     "data": {
      "text/plain": [
       "0.78539815"
      ]
     },
     "execution_count": 14,
     "metadata": {},
     "output_type": "execute_result"
    }
   ],
   "source": [
    "3.1415926/4"
   ]
  },
  {
   "cell_type": "markdown",
   "id": "a3391cdb-54db-4c63-8d21-3bd89cbe2a74",
   "metadata": {},
   "source": [
    "The right Riemann sum for $f(x)$ over $[a,b]$ with $N$ subintervals is the approximation\n",
    "\n",
    "$$\n",
    "\\int_a^b f(x) dx \\approx \\frac{b - a}{N} \\sum_{n=1}^N f(x_n)\n",
    "$$\n",
    "\n",
    "where $x_n = a + n \\Delta x$, $\\Delta x = (b - a)/N$."
   ]
  },
  {
   "cell_type": "markdown",
   "id": "1932b088-9958-4679-9f72-3c83dd822430",
   "metadata": {},
   "source": [
    "Compute the right Riemann sum approximation for $f(x) = 1/(1 + x^2)$ over $[0,1]$ using $N=100$ subintervals."
   ]
  },
  {
   "cell_type": "code",
   "execution_count": 15,
   "id": "44d4ab4a-01dd-4bee-8c6e-25c0cf6b344b",
   "metadata": {},
   "outputs": [
    {
     "name": "stdout",
     "output_type": "stream",
     "text": [
      "0.7828939967307821\n"
     ]
    }
   ],
   "source": [
    "a = 0\n",
    "b = 1\n",
    "N = 100\n",
    "dx = (b - a)/N\n",
    "x = [a + n*dx for n in range(1,N+1)]\n",
    "y = [1/(1 + xn**2) for xn in x]\n",
    "R = dx*sum(y)\n",
    "print(R)"
   ]
  },
  {
   "cell_type": "markdown",
   "id": "b1dfbdaa-d88b-44a1-b3bf-04c21a88c2ca",
   "metadata": {},
   "source": [
    "Use the builtin function `min` to approximate the absolute minimum value of\n",
    "\n",
    "$$\n",
    "f(x) = \\frac{1 - x + x^4}{1 + 2x^3}\n",
    "$$\n",
    "\n",
    "over the interval $[0,2]$."
   ]
  },
  {
   "cell_type": "code",
   "execution_count": 16,
   "id": "059e380e-5399-46e7-9496-00e8b1cf7285",
   "metadata": {},
   "outputs": [
    {
     "name": "stdout",
     "output_type": "stream",
     "text": [
      "0.30061620111784054\n"
     ]
    }
   ],
   "source": [
    "a = 0\n",
    "b = 2\n",
    "N = 10000\n",
    "dx = (b - a)/N\n",
    "x = [a + n*dx for n in range(0,N+1)]\n",
    "y = [(1 - xn + xn**4)/(1 + 2*xn**3) for xn in x]\n",
    "m = min(y)\n",
    "print(m)"
   ]
  }
 ],
 "metadata": {
  "kernelspec": {
   "display_name": "Python 3 (ipykernel)",
   "language": "python",
   "name": "python3"
  },
  "language_info": {
   "codemirror_mode": {
    "name": "ipython",
    "version": 3
   },
   "file_extension": ".py",
   "mimetype": "text/x-python",
   "name": "python",
   "nbconvert_exporter": "python",
   "pygments_lexer": "ipython3",
   "version": "3.12.8"
  }
 },
 "nbformat": 4,
 "nbformat_minor": 5
}
