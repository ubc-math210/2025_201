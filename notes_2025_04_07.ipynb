{
 "cells": [
  {
   "cell_type": "markdown",
   "id": "aaf83f91-d31c-4999-a9c0-1c31a7cb9631",
   "metadata": {},
   "source": [
    "# MATH 210 Introduction to Mathematical Computing\n",
    "\n",
    "**April 7, 2025**"
   ]
  },
  {
   "cell_type": "code",
   "execution_count": 40,
   "id": "f02d6ba2-e886-44e1-99cd-46f717fc0bc1",
   "metadata": {},
   "outputs": [],
   "source": [
    "import numpy as np\n",
    "import scipy.linalg as la"
   ]
  },
  {
   "cell_type": "markdown",
   "id": "2940903b-f4fd-4847-a111-4c34a98c2a2f",
   "metadata": {},
   "source": [
    "## Power Method"
   ]
  },
  {
   "cell_type": "code",
   "execution_count": 41,
   "id": "673a4f7b-10b3-407d-b40b-adad02b7cf44",
   "metadata": {},
   "outputs": [
    {
     "data": {
      "text/plain": [
       "array([[ 1.,  1.,  0.,  0.],\n",
       "       [ 1.,  1., -1.,  0.],\n",
       "       [ 0., -1.,  1.,  1.],\n",
       "       [ 0.,  0.,  1., -1.]])"
      ]
     },
     "execution_count": 41,
     "metadata": {},
     "output_type": "execute_result"
    }
   ],
   "source": [
    "A = np.array([[1.,1.,0.,0.],[1.,1.,-1,0.],[0.,-1.,1.,1.],[0.,0.,1.,-1.]])\n",
    "A"
   ]
  },
  {
   "cell_type": "code",
   "execution_count": 42,
   "id": "46baaa0a-5ed4-4df4-a258-a9aa90719ec4",
   "metadata": {},
   "outputs": [
    {
     "data": {
      "text/plain": [
       "(4, 4)"
      ]
     },
     "execution_count": 42,
     "metadata": {},
     "output_type": "execute_result"
    }
   ],
   "source": [
    "A.shape"
   ]
  },
  {
   "cell_type": "code",
   "execution_count": 43,
   "id": "ac443744-672e-4c9d-9431-63d3d005836a",
   "metadata": {},
   "outputs": [],
   "source": [
    "evals,evecs = la.eig(A)"
   ]
  },
  {
   "cell_type": "code",
   "execution_count": 44,
   "id": "51064103-bd61-462e-98f4-d3d2f8102ff8",
   "metadata": {},
   "outputs": [
    {
     "data": {
      "text/plain": [
       "array([ 2.49550766,  1.21968687, -0.21968687, -1.49550766])"
      ]
     },
     "execution_count": 44,
     "metadata": {},
     "output_type": "execute_result"
    }
   ],
   "source": [
    "evals.real"
   ]
  },
  {
   "cell_type": "code",
   "execution_count": 45,
   "id": "d743becd-c9f2-46b4-b343-1b1d596eb00b",
   "metadata": {},
   "outputs": [
    {
     "data": {
      "text/plain": [
       "array([[ 0.45218222, -0.68391972, -0.56650592,  0.0828016 ],\n",
       "       [ 0.67624197, -0.15024818,  0.69095983, -0.20663203],\n",
       "       [-0.55914283, -0.65091217,  0.27624871, -0.4328502 ],\n",
       "       [-0.15996041, -0.29324504,  0.3540229 ,  0.87354897]])"
      ]
     },
     "execution_count": 45,
     "metadata": {},
     "output_type": "execute_result"
    }
   ],
   "source": [
    "evecs"
   ]
  },
  {
   "cell_type": "code",
   "execution_count": 46,
   "id": "5b39cf6f-90cb-4e1a-a317-4b0047dc945a",
   "metadata": {},
   "outputs": [
    {
     "data": {
      "text/plain": [
       "array([1., 0., 0., 0.])"
      ]
     },
     "execution_count": 46,
     "metadata": {},
     "output_type": "execute_result"
    }
   ],
   "source": [
    "x0 = np.array([1.,0.,0.,0.,])\n",
    "x0"
   ]
  },
  {
   "cell_type": "code",
   "execution_count": 47,
   "id": "569ca0df-afd1-4358-a95b-3488df56097a",
   "metadata": {},
   "outputs": [
    {
     "data": {
      "text/plain": [
       "array([1., 1., 0., 0.])"
      ]
     },
     "execution_count": 47,
     "metadata": {},
     "output_type": "execute_result"
    }
   ],
   "source": [
    "x1 = A@x0\n",
    "x1"
   ]
  },
  {
   "cell_type": "code",
   "execution_count": 48,
   "id": "dce014c6-da1a-4347-a09a-162959d5cf1f",
   "metadata": {},
   "outputs": [
    {
     "data": {
      "text/plain": [
       "array([ 2.,  2., -1.,  0.])"
      ]
     },
     "execution_count": 48,
     "metadata": {},
     "output_type": "execute_result"
    }
   ],
   "source": [
    "x2 = A@x1\n",
    "x2"
   ]
  },
  {
   "cell_type": "code",
   "execution_count": 49,
   "id": "97103bf0-2a23-4d51-907f-36185c580074",
   "metadata": {},
   "outputs": [
    {
     "data": {
      "text/plain": [
       "array([ 4.,  5., -3., -1.])"
      ]
     },
     "execution_count": 49,
     "metadata": {},
     "output_type": "execute_result"
    }
   ],
   "source": [
    "x3 = A@x2\n",
    "x3"
   ]
  },
  {
   "cell_type": "code",
   "execution_count": 50,
   "id": "97a5d46d-3572-44f9-b577-e76cf5d792f8",
   "metadata": {},
   "outputs": [
    {
     "data": {
      "text/plain": [
       "array([ 9., 12., -9., -2.])"
      ]
     },
     "execution_count": 50,
     "metadata": {},
     "output_type": "execute_result"
    }
   ],
   "source": [
    "x4 = A@x3\n",
    "x4"
   ]
  },
  {
   "cell_type": "code",
   "execution_count": 51,
   "id": "a81dc0a0-b5c8-4a28-b728-c6ab219570eb",
   "metadata": {},
   "outputs": [
    {
     "data": {
      "text/plain": [
       "2.450980392156863"
      ]
     },
     "execution_count": 51,
     "metadata": {},
     "output_type": "execute_result"
    }
   ],
   "source": [
    "lam0 = x3.T@A@x3/(x3.T@x3)\n",
    "lam0"
   ]
  },
  {
   "cell_type": "code",
   "execution_count": 52,
   "id": "b283c0c9-a818-4845-9e65-9e3f72ad83ef",
   "metadata": {},
   "outputs": [],
   "source": [
    "def eigPower(A,N=20):\n",
    "    n = A.shape[0]\n",
    "    xk = np.random.rand(n)\n",
    "    for k in range(N):\n",
    "        y = A@xk\n",
    "        xk = y/la.norm(y)\n",
    "    lam = xk.T@A@xk/(xk.T@xk)\n",
    "    return (lam, xk)"
   ]
  },
  {
   "cell_type": "code",
   "execution_count": 53,
   "id": "2eb8e662-1b8f-4c0a-9267-68290b5f83a8",
   "metadata": {},
   "outputs": [],
   "source": [
    "lam0,v0 = eigPower(A)"
   ]
  },
  {
   "cell_type": "code",
   "execution_count": 54,
   "id": "ad809438-9d42-41a3-bea3-99dd19acd094",
   "metadata": {},
   "outputs": [
    {
     "data": {
      "text/plain": [
       "2.495507656527653"
      ]
     },
     "execution_count": 54,
     "metadata": {},
     "output_type": "execute_result"
    }
   ],
   "source": [
    "lam0"
   ]
  },
  {
   "cell_type": "code",
   "execution_count": 55,
   "id": "d580e69a-c8d0-43f5-81bb-b16bcd0fba07",
   "metadata": {},
   "outputs": [
    {
     "data": {
      "text/plain": [
       "array([ 0.45218332,  0.67624317, -0.55913962, -0.15996348])"
      ]
     },
     "execution_count": 55,
     "metadata": {},
     "output_type": "execute_result"
    }
   ],
   "source": [
    "v0"
   ]
  },
  {
   "cell_type": "code",
   "execution_count": 56,
   "id": "26b59354-b3b6-435c-977b-981ed768a235",
   "metadata": {},
   "outputs": [
    {
     "data": {
      "text/plain": [
       "2.4955076566049246"
      ]
     },
     "execution_count": 56,
     "metadata": {},
     "output_type": "execute_result"
    }
   ],
   "source": [
    "evals,evecs = la.eig(A)\n",
    "evals.real[0]"
   ]
  },
  {
   "cell_type": "code",
   "execution_count": 57,
   "id": "d52e096e-7c5b-46f0-9e53-6b0df102375a",
   "metadata": {},
   "outputs": [
    {
     "data": {
      "text/plain": [
       "array([ 0.45218222,  0.67624197, -0.55914283, -0.15996041])"
      ]
     },
     "execution_count": 57,
     "metadata": {},
     "output_type": "execute_result"
    }
   ],
   "source": [
    "evecs[:,0]"
   ]
  },
  {
   "cell_type": "code",
   "execution_count": 58,
   "id": "bebc2116-91d8-479e-bd43-9edbcb32dabe",
   "metadata": {},
   "outputs": [
    {
     "data": {
      "text/plain": [
       "(5.999999973553078, array([0.70714314, 0.70707042]))"
      ]
     },
     "execution_count": 58,
     "metadata": {},
     "output_type": "execute_result"
    }
   ],
   "source": [
    "B = np.array([[1.,5.],[5.,1.]])\n",
    "eigPower(B)"
   ]
  }
 ],
 "metadata": {
  "kernelspec": {
   "display_name": "Python 3 (ipykernel)",
   "language": "python",
   "name": "python3"
  },
  "language_info": {
   "codemirror_mode": {
    "name": "ipython",
    "version": 3
   },
   "file_extension": ".py",
   "mimetype": "text/x-python",
   "name": "python",
   "nbconvert_exporter": "python",
   "pygments_lexer": "ipython3",
   "version": "3.12.8"
  }
 },
 "nbformat": 4,
 "nbformat_minor": 5
}
