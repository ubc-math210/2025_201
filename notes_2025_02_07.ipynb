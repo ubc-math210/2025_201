{
 "cells": [
  {
   "cell_type": "markdown",
   "id": "0b3ba825-9c8c-4c75-9180-d98eb7566ab1",
   "metadata": {},
   "source": [
    "# MATH 210 Introduction to Mathematical Computing\n",
    "\n",
    "**February 7, 2025**\n",
    "\n",
    "* Newton's Method\n",
    "* Examples"
   ]
  },
  {
   "cell_type": "markdown",
   "id": "b2463683-ff36-4b0d-870c-838153f1111b",
   "metadata": {},
   "source": [
    "## Newton's Method\n",
    "\n",
    "Write a function called `newton` which takes `f`, `df`, `x0` and `N`, and returns $x_N$ the value after $N$ iterations of Newton's method applied to $f(x)$ with initial value $x_0$:\n",
    "\n",
    "$$\n",
    "x_{n+1} = x_n -  \\frac{f(x_n)}{f'(x_n)}\n",
    "$$"
   ]
  },
  {
   "cell_type": "code",
   "execution_count": 7,
   "id": "a2f0e387-5f5c-4a40-815d-d0ed5ee8e3ef",
   "metadata": {},
   "outputs": [],
   "source": [
    "def newton(f,df,x0,N):\n",
    "    xn = x0\n",
    "    for n in range(N):\n",
    "        xn = xn - f(xn)/df(xn)\n",
    "    return xn"
   ]
  },
  {
   "cell_type": "code",
   "execution_count": 10,
   "id": "811f7290-39c0-4bd8-a7ba-b1851e41e5b4",
   "metadata": {},
   "outputs": [
    {
     "name": "stdout",
     "output_type": "stream",
     "text": [
      "1.414213562373095\n",
      "1.4142135623730951\n"
     ]
    }
   ],
   "source": [
    "f = lambda x: x**2 - 2\n",
    "df = lambda x: 2*x\n",
    "x0 = 1.4\n",
    "N = 20\n",
    "r = newton(f,df,x0,N)\n",
    "print(r)\n",
    "print(2**0.5)"
   ]
  },
  {
   "cell_type": "code",
   "execution_count": 9,
   "id": "3bfcb28c-8fa3-4abf-913b-149e3e04729c",
   "metadata": {},
   "outputs": [
    {
     "name": "stdout",
     "output_type": "stream",
     "text": [
      "1.6528916502810695\n",
      "1.6528916502810695\n"
     ]
    }
   ],
   "source": [
    "f = lambda x: x**4 - 2*x**2 - 2 # Roots x^2 = (2 +- sqrt(4 + 8))/2 = (1 +- sqrt(3))\n",
    "df = lambda x: 4*x**3 - 4*x\n",
    "x0 = 1.4\n",
    "N = 10\n",
    "r = newton(f,df,x0,N)\n",
    "print(r)\n",
    "print(( 1 + 3**0.5 )**0.5)"
   ]
  },
  {
   "cell_type": "markdown",
   "id": "e3b3acd5-7f16-4975-b9b0-c2aa94fa1985",
   "metadata": {},
   "source": [
    "**Example.** Find roots of $f(x) = x^5 + 20x^2 - 1$."
   ]
  },
  {
   "cell_type": "code",
   "execution_count": 20,
   "id": "c6e78552-d210-4a96-9e03-31fa3d429645",
   "metadata": {},
   "outputs": [
    {
     "name": "stdout",
     "output_type": "stream",
     "text": [
      "0.22354437622529996\n"
     ]
    }
   ],
   "source": [
    "f = lambda x: x**5 + 20*x**2 - 1\n",
    "df = lambda x: 5*x**4 + 40*x\n",
    "x0 = 1/2\n",
    "N = 10\n",
    "r = newton(f,df,x0,N)\n",
    "print(r)"
   ]
  }
 ],
 "metadata": {
  "kernelspec": {
   "display_name": "Python 3 (ipykernel)",
   "language": "python",
   "name": "python3"
  },
  "language_info": {
   "codemirror_mode": {
    "name": "ipython",
    "version": 3
   },
   "file_extension": ".py",
   "mimetype": "text/x-python",
   "name": "python",
   "nbconvert_exporter": "python",
   "pygments_lexer": "ipython3",
   "version": "3.12.8"
  }
 },
 "nbformat": 4,
 "nbformat_minor": 5
}
